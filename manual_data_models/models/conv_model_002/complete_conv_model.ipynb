{
 "cells": [
  {
   "cell_type": "code",
   "execution_count": 1,
   "id": "utility-spanish",
   "metadata": {},
   "outputs": [],
   "source": [
    "# -*- coding: utf-8 -*-\n",
    "import csv\n",
    "import tqdm\n",
    "import copy\n",
    "import click\n",
    "import logging\n",
    "import numpy as np\n",
    "import matplotlib.pyplot as plt\n",
    "from torch.utils.data import Dataset\n",
    "\n",
    "from string import digits\n",
    "\n",
    "import torch\n",
    "import torch.nn as nn\n",
    "import torch.optim as optim\n",
    "import torchvision\n",
    "import torch.nn.functional as F\n",
    "\n",
    "seed = 42\n",
    "epochs = 100\n",
    "batch_size = 100\n",
    "learning_rate = 1e-3\n",
    "context_frames = 10\n",
    "sequence_length = 20\n",
    "lookback = sequence_length\n",
    "\n",
    "valid_train_split = 0.85  # precentage of train data from total\n",
    "test_train_split = 0.95  # precentage of train data from total\n",
    "\n",
    "image_height = 32\n",
    "image_width  = 32\n",
    "\n",
    "torch.manual_seed(seed)\n",
    "torch.backends.cudnn.benchmark = False\n",
    "torch.backends.cudnn.deterministic = True\n",
    "device = torch.device(\"cuda\" if torch.cuda.is_available() else \"cpu\")#  use gpu if available\n",
    "################################# CHANGE THIS!!!!  #################################\n",
    "model_path = \"/home/user/Robotics/slip_detection_model/slip_detection_model/manual_data_models/models/conv_model_002/\"\n",
    "data_dir = \"/home/user/Robotics/Data_sets/slip_detection/will_dataset/formated_data/\"\n",
    "################################# CHANGE THIS!!!!  #################################"
   ]
  },
  {
   "cell_type": "code",
   "execution_count": 2,
   "id": "forbidden-protocol",
   "metadata": {},
   "outputs": [],
   "source": [
    "class BatchGenerator:\n",
    "    def __init__(self):\n",
    "        self.data_dir = data_dir\n",
    "        data_map = []\n",
    "        with open(data_dir + 'map.csv', 'r') as f:  # rb\n",
    "            reader = csv.reader(f)\n",
    "            for row in reader:\n",
    "                data_map.append(row)\n",
    "\n",
    "        if len(data_map) <= 1: # empty or only header\n",
    "            print(\"No file map found\")\n",
    "            exit()\n",
    "\n",
    "        self.data_map = data_map\n",
    "\n",
    "    def load_full_data(self):\n",
    "        dataset_train = FullDataSet(self.data_dir, self.data_map, type_=\"train\")\n",
    "        dataset_valid = FullDataSet(self.data_dir, self.data_map, type_=\"valid\")\n",
    "        dataset_test = FullDataSet(self.data_dir, self.data_map, type_=\"test\")\n",
    "        transform = torchvision.transforms.Compose([torchvision.transforms.ToTensor()])\n",
    "        train_loader = torch.utils.data.DataLoader(dataset_train, batch_size=batch_size, shuffle=True)\n",
    "        valid_loader = torch.utils.data.DataLoader(dataset_valid, batch_size=batch_size, shuffle=True)\n",
    "        test_loader = torch.utils.data.DataLoader(dataset_test, batch_size=batch_size, shuffle=False)\n",
    "        return train_loader, valid_loader, test_loader\n",
    "\n",
    "class FullDataSet():\n",
    "    def __init__(self, data_dir, data_map, type_=\"train\"):\n",
    "        if type_ == \"train\":\n",
    "            self.samples = data_map[1:int(len(data_map)*test_train_split)]\n",
    "        elif type_ == \"valid\":\n",
    "            self.samples = data_map[int(len(data_map)*(valid_train_split)):int(len(data_map)*test_train_split)]\n",
    "        elif type_ == \"test\":\n",
    "            self.samples = data_map[int(len(data_map)*test_train_split):-1]\n",
    "        data_map = None\n",
    "\n",
    "    def __len__(self):\n",
    "        return len(self.samples)\n",
    "\n",
    "    def __getitem__(self,idx):\n",
    "        # neet to scale between 0 and 1:\n",
    "        value = self.samples[idx]\n",
    "        robot = np.load(data_dir + value[0])\n",
    "        robot = (robot+1)/2\n",
    "        xela1image = np.load(data_dir + value[1])\n",
    "        xela1image = (xela1image+1)/2\n",
    "        experiment = np.load(data_dir + value[-2])\n",
    "        time_step  = np.load(data_dir + value[-1])     \n",
    "        return([robot.astype(np.float32),\n",
    "                xela1image.astype(np.float32),\n",
    "                experiment,\n",
    "                time_step])"
   ]
  },
  {
   "cell_type": "code",
   "execution_count": 3,
   "id": "photographic-financing",
   "metadata": {},
   "outputs": [],
   "source": [
    "import torch\n",
    "from torch import nn\n",
    "import torch.nn.functional as f\n",
    "from torch.autograd import Variable\n",
    "\n",
    "class ConvLSTMCell(nn.Module):\n",
    "    def __init__(self, input_dim, hidden_dim, kernel_size, bias):\n",
    "        super(ConvLSTMCell, self).__init__()\n",
    "        self.input_dim = input_dim\n",
    "        self.hidden_dim = hidden_dim\n",
    "        self.kernel_size = kernel_size\n",
    "        self.padding = kernel_size[0] // 2, kernel_size[1] // 2\n",
    "        self.bias = bias\n",
    "        self.conv = nn.Conv2d(in_channels=self.input_dim + self.hidden_dim, out_channels=4 * self.hidden_dim,\n",
    "                              kernel_size=self.kernel_size, padding=self.padding, bias=self.bias)\n",
    "\n",
    "    def forward(self, input_tensor, cur_state):\n",
    "        h_cur, c_cur = cur_state\n",
    "        combined = torch.cat([input_tensor, h_cur], dim=1)  # concatenate along channel axis\n",
    "        combined_conv = self.conv(combined)\n",
    "        cc_i, cc_f, cc_o, cc_g = torch.split(combined_conv, self.hidden_dim, dim=1)\n",
    "        i = torch.sigmoid(cc_i)\n",
    "        f = torch.sigmoid(cc_f)\n",
    "        o = torch.sigmoid(cc_o)\n",
    "        g = torch.tanh(cc_g)\n",
    "        c_next = f * c_cur + i * g\n",
    "        h_next = o * torch.tanh(c_next)\n",
    "        return h_next, c_next\n",
    "\n",
    "    def init_hidden(self, batch_size, image_size):\n",
    "        height, width = image_size\n",
    "        return (torch.zeros(batch_size, self.hidden_dim, height, width, device=self.conv.weight.device).to(device),\n",
    "                torch.zeros(batch_size, self.hidden_dim, height, width, device=self.conv.weight.device).to(device))\n",
    "\n",
    "# initial test:\n",
    "class FullModel(nn.Module):\n",
    "    def __init__(self):\n",
    "        super(FullModel, self).__init__()\n",
    "        self.convlstm1 = ConvLSTMCell(input_dim=3, hidden_dim=12, kernel_size=(3, 3), bias=True).cuda()\n",
    "        self.convlstm2 = ConvLSTMCell(input_dim=24, hidden_dim=24, kernel_size=(3, 3), bias=True).cuda()\n",
    "        self.conv1 = nn.Conv2d(in_channels=24, out_channels=3, kernel_size=5, stride=1, padding=2).cuda()\n",
    "\n",
    "    def forward(self, tactiles, actions):\n",
    "        self.batch_size = actions.shape[1]\n",
    "        state = actions[0]\n",
    "        state.to(device)\n",
    "        batch_size__ = tactiles.shape[1]\n",
    "        hidden_1, cell_1 = self.convlstm1.init_hidden(batch_size=self.batch_size, image_size=(32, 32))\n",
    "        hidden_2, cell_2 = self.convlstm2.init_hidden(batch_size=self.batch_size, image_size=(32, 32))\n",
    "        outputs = []\n",
    "        for index, (sample_tactile, sample_action) in enumerate(zip(tactiles.squeeze(), actions.squeeze())):\n",
    "            sample_tactile.to(device)\n",
    "            sample_action.to(device)\n",
    "            # 2. Run through lstm:\n",
    "            if index > context_frames-1:\n",
    "                hidden_1, cell_1 = self.convlstm1(input_tensor=output, cur_state=[hidden_1, cell_1])\n",
    "                state_action = torch.cat((state, sample_action), 1)\n",
    "                robot_and_tactile = torch.cat((torch.cat(32*[torch.cat(32*[state_action.unsqueeze(2)], axis = 2).unsqueeze(3)], axis = 3), hidden_1.squeeze()), 1)\n",
    "                hidden_2, cell_2 = self.convlstm2(input_tensor=robot_and_tactile, cur_state=[hidden_2, cell_2])\n",
    "                output = self.conv1(hidden_2)\n",
    "                outputs.append(output)\n",
    "            else:\n",
    "                hidden_1, cell_1 = self.convlstm1(input_tensor=sample_tactile, cur_state=[hidden_1, cell_1])\n",
    "                state_action = torch.cat((state, sample_action), 1)\n",
    "                robot_and_tactile = torch.cat((torch.cat(32*[torch.cat(32*[state_action.unsqueeze(2)], axis = 2).unsqueeze(3)], axis = 3), hidden_1.squeeze()), 1)\n",
    "                hidden_2, cell_2 = self.convlstm2(input_tensor=robot_and_tactile, cur_state=[hidden_2, cell_2])\n",
    "                output = self.conv1(hidden_2)\n",
    "        return torch.stack(outputs)"
   ]
  },
  {
   "cell_type": "code",
   "execution_count": 11,
   "id": "forced-toddler",
   "metadata": {},
   "outputs": [],
   "source": [
    "class ModelTrainer:\n",
    "    def __init__(self):\n",
    "        self.train_full_loader, self.valid_full_loader, self.test_full_loader = BG.load_full_data()\n",
    "        self.full_model = FullModel()\n",
    "        self.criterion = nn.L1Loss()\n",
    "        self.criterion1 = nn.L1Loss()\n",
    "        self.optimizer = optim.Adam(self.full_model.parameters(), lr=learning_rate)\n",
    "\n",
    "    def train_full_model(self):\n",
    "        plot_training_loss = []\n",
    "        plot_validation_loss = []\n",
    "        previous_val_mean_loss = 100.0\n",
    "        best_val_loss = 100.0\n",
    "        early_stop_clock = 0\n",
    "        progress_bar = tqdm.tqdm(range(0, epochs), total=(epochs*len(self.train_full_loader)))\n",
    "        mean_test = 0\n",
    "        for epoch in progress_bar:\n",
    "            loss = 0.0\n",
    "            losses = 0.0\n",
    "            for index, batch_features in enumerate(self.train_full_loader):\n",
    "                action = batch_features[0].squeeze().permute(1,0,2).to(device)\n",
    "                tactile = batch_features[1].permute(1,0,4,3,2).to(device)\n",
    "                tactile_predictions = self.full_model.forward(tactiles=tactile, actions=action) # Step 3. Run our forward pass.\n",
    "                self.optimizer.zero_grad()\n",
    "                ground_truth = tactile[context_frames:]\n",
    "                loss = self.criterion(tactile_predictions.to(device)[:,:,:48], ground_truth[:,:,:48])\n",
    "                loss.backward()\n",
    "                self.optimizer.step()\n",
    "\n",
    "                losses += loss.item()\n",
    "                if index:\n",
    "                    mean = losses / index\n",
    "                else:\n",
    "                    mean = 0\n",
    "                progress_bar.set_description(\"epoch: {}, \".format(epoch) + \"loss: {:.4f}, \".format(float(loss.item())) + \"mean loss: {:.4f}, \".format(mean))\n",
    "                progress_bar.update()\n",
    "            plot_training_loss.append(mean)\n",
    "\n",
    "            val_losses = 0.0\n",
    "            val_loss = 0.0\n",
    "            with torch.no_grad():\n",
    "                for index__, batch_features in enumerate(self.valid_full_loader):\n",
    "                    action = batch_features[0].squeeze().permute(1,0,2).to(device)\n",
    "                    tactile = batch_features[1].permute(1,0,4,3,2).to(device)\n",
    "                    tactile_predictions = self.full_model.forward(tactiles=tactile, actions=action) # Step 3. Run our forward pass.                    \n",
    "                    ground_truth = tactile[context_frames:]\n",
    "                    self.optimizer.zero_grad()\n",
    "                    val_loss = self.criterion(tactile_predictions.to(device), ground_truth)\n",
    "                    val_losses += val_loss.item()\n",
    "\n",
    "            print(\"Validation mean loss: {:.4f}, \".format(val_losses / index__))\n",
    "            plot_validation_loss.append(val_losses / index__)\n",
    "            if previous_val_mean_loss < val_losses / index__:\n",
    "                early_stop_clock +=1\n",
    "                previous_val_mean_loss = val_losses / index__ \n",
    "                if early_stop_clock == 3:\n",
    "                    print(\"Early stopping\")\n",
    "                    break\n",
    "            else:\n",
    "                if best_val_loss > val_losses / index__:\n",
    "                    print(\"saving model\")\n",
    "                    torch.save(self.full_model, model_path + \"conv_model\")\n",
    "                    self.strongest_model = copy.deepcopy(self.full_model)\n",
    "                early_stop_clock = 0\n",
    "                previous_val_mean_loss = val_losses / index__ \n",
    "        plt.plot(plot_training_loss, c=\"r\", label=\"train loss MAE\")\n",
    "        plt.plot(plot_validation_loss, c='b', label=\"val loss MAE\")\n",
    "        plt.legend(loc=\"upper right\")\n",
    "        plt.savefig(model_path + '/conv_model.png', dpi=300)\n",
    "        plt.show()\n",
    "        np.save(model_path + 'conv_model_training_loss', np.asarray(plot_training_loss))\n",
    "        np.save(model_path + 'conv_model_validation_loss', np.asarray(plot_validation_loss))"
   ]
  },
  {
   "cell_type": "code",
   "execution_count": 12,
   "id": "minute-problem",
   "metadata": {},
   "outputs": [
    {
     "name": "stderr",
     "output_type": "stream",
     "text": [
      "epoch: 0, loss: 0.0215, mean loss: 0.0330, :   1%|          | 1616/161500 [18:39<800:59:46, 18.04s/it]"
     ]
    },
    {
     "name": "stdout",
     "output_type": "stream",
     "text": [
      "Validation mean loss: 0.0180, \n",
      "saving model\n"
     ]
    },
    {
     "name": "stderr",
     "output_type": "stream",
     "text": [
      "epoch: 1, loss: 0.0128, mean loss: 0.0166, :   2%|▏         | 3231/161500 [36:00<25:01:26,  1.76it/s] "
     ]
    },
    {
     "name": "stdout",
     "output_type": "stream",
     "text": [
      "Validation mean loss: 0.0132, \n",
      "saving model\n"
     ]
    },
    {
     "name": "stderr",
     "output_type": "stream",
     "text": [
      "epoch: 2, loss: 0.0163, mean loss: 0.0150, :   3%|▎         | 4846/161500 [54:41<25:10:42,  1.73it/s] "
     ]
    },
    {
     "name": "stdout",
     "output_type": "stream",
     "text": [
      "Validation mean loss: 0.0141, \n"
     ]
    },
    {
     "name": "stderr",
     "output_type": "stream",
     "text": [
      "epoch: 3, loss: 0.0129, mean loss: 0.0139, :   4%|▍         | 6461/161500 [1:14:16<29:22:18,  1.47it/s]"
     ]
    },
    {
     "name": "stdout",
     "output_type": "stream",
     "text": [
      "Validation mean loss: 0.0121, \n",
      "saving model\n"
     ]
    },
    {
     "name": "stderr",
     "output_type": "stream",
     "text": [
      "epoch: 4, loss: 0.0170, mean loss: 0.0131, :   5%|▌         | 8076/161500 [1:33:40<25:27:37,  1.67it/s]  "
     ]
    },
    {
     "name": "stdout",
     "output_type": "stream",
     "text": [
      "Validation mean loss: 0.0107, \n",
      "saving model\n"
     ]
    },
    {
     "name": "stderr",
     "output_type": "stream",
     "text": [
      "epoch: 5, loss: 0.0118, mean loss: 0.0124, :   6%|▌         | 9691/161500 [1:52:26<24:29:23,  1.72it/s] "
     ]
    },
    {
     "name": "stdout",
     "output_type": "stream",
     "text": [
      "Validation mean loss: 0.0108, \n"
     ]
    },
    {
     "name": "stderr",
     "output_type": "stream",
     "text": [
      "epoch: 6, loss: 0.0096, mean loss: 0.0121, :   7%|▋         | 11306/161500 [2:11:51<27:08:12,  1.54it/s] "
     ]
    },
    {
     "name": "stdout",
     "output_type": "stream",
     "text": [
      "Validation mean loss: 0.0110, \n"
     ]
    },
    {
     "name": "stderr",
     "output_type": "stream",
     "text": [
      "epoch: 7, loss: 0.0126, mean loss: 0.0116, :   8%|▊         | 12921/161500 [2:30:52<26:00:47,  1.59it/s] "
     ]
    },
    {
     "name": "stdout",
     "output_type": "stream",
     "text": [
      "Validation mean loss: 0.0101, \n",
      "saving model\n"
     ]
    },
    {
     "name": "stderr",
     "output_type": "stream",
     "text": [
      "epoch: 8, loss: 0.0107, mean loss: 0.0114, :   9%|▉         | 14536/161500 [2:50:09<24:11:30,  1.69it/s] "
     ]
    },
    {
     "name": "stdout",
     "output_type": "stream",
     "text": [
      "Validation mean loss: 0.0091, \n",
      "saving model\n"
     ]
    },
    {
     "name": "stderr",
     "output_type": "stream",
     "text": [
      "epoch: 9, loss: 0.0069, mean loss: 0.0111, :  10%|█         | 16151/161500 [3:09:21<23:55:25,  1.69it/s] "
     ]
    },
    {
     "name": "stdout",
     "output_type": "stream",
     "text": [
      "Validation mean loss: 0.0093, \n"
     ]
    },
    {
     "name": "stderr",
     "output_type": "stream",
     "text": [
      "epoch: 10, loss: 0.0129, mean loss: 0.0107, :  11%|█         | 17766/161500 [3:28:47<22:58:11,  1.74it/s]  "
     ]
    },
    {
     "name": "stdout",
     "output_type": "stream",
     "text": [
      "Validation mean loss: 0.0088, \n",
      "saving model\n"
     ]
    },
    {
     "name": "stderr",
     "output_type": "stream",
     "text": [
      "epoch: 11, loss: 0.0096, mean loss: 0.0106, :  12%|█▏        | 19381/161500 [3:47:58<25:12:43,  1.57it/s] "
     ]
    },
    {
     "name": "stdout",
     "output_type": "stream",
     "text": [
      "Validation mean loss: 0.0083, \n",
      "saving model\n"
     ]
    },
    {
     "name": "stderr",
     "output_type": "stream",
     "text": [
      "epoch: 12, loss: 0.0114, mean loss: 0.0103, :  13%|█▎        | 20996/161500 [4:06:59<23:46:13,  1.64it/s] "
     ]
    },
    {
     "name": "stdout",
     "output_type": "stream",
     "text": [
      "Validation mean loss: 0.0089, \n"
     ]
    },
    {
     "name": "stderr",
     "output_type": "stream",
     "text": [
      "epoch: 13, loss: 0.0105, mean loss: 0.0100, :  14%|█▍        | 22611/161500 [4:26:22<25:17:02,  1.53it/s] "
     ]
    },
    {
     "name": "stdout",
     "output_type": "stream",
     "text": [
      "Validation mean loss: 0.0092, \n"
     ]
    },
    {
     "name": "stderr",
     "output_type": "stream",
     "text": [
      "epoch: 14, loss: 0.0101, mean loss: 0.0099, :  15%|█▌        | 24226/161500 [4:45:56<22:37:03,  1.69it/s] "
     ]
    },
    {
     "name": "stdout",
     "output_type": "stream",
     "text": [
      "Validation mean loss: 0.0086, \n",
      "saving model\n"
     ]
    },
    {
     "name": "stderr",
     "output_type": "stream",
     "text": [
      "epoch: 15, loss: 0.0090, mean loss: 0.0097, :  16%|█▌        | 25841/161500 [5:04:33<21:29:52,  1.75it/s] "
     ]
    },
    {
     "name": "stdout",
     "output_type": "stream",
     "text": [
      "Validation mean loss: 0.0085, \n",
      "saving model\n"
     ]
    },
    {
     "name": "stderr",
     "output_type": "stream",
     "text": [
      "epoch: 16, loss: 0.0088, mean loss: 0.0095, :  17%|█▋        | 27456/161500 [5:23:11<21:28:43,  1.73it/s] "
     ]
    },
    {
     "name": "stdout",
     "output_type": "stream",
     "text": [
      "Validation mean loss: 0.0095, \n"
     ]
    },
    {
     "name": "stderr",
     "output_type": "stream",
     "text": [
      "epoch: 17, loss: 0.0072, mean loss: 0.0093, :  18%|█▊        | 29071/161500 [5:41:27<23:15:26,  1.58it/s] "
     ]
    },
    {
     "name": "stdout",
     "output_type": "stream",
     "text": [
      "Validation mean loss: 0.0081, \n",
      "saving model\n"
     ]
    },
    {
     "name": "stderr",
     "output_type": "stream",
     "text": [
      "epoch: 18, loss: 0.0099, mean loss: 0.0091, :  19%|█▉        | 30686/161500 [6:00:29<22:07:16,  1.64it/s] "
     ]
    },
    {
     "name": "stdout",
     "output_type": "stream",
     "text": [
      "Validation mean loss: 0.0080, \n",
      "saving model\n"
     ]
    },
    {
     "name": "stderr",
     "output_type": "stream",
     "text": [
      "epoch: 19, loss: 0.0078, mean loss: 0.0089, :  20%|██        | 32301/161500 [6:19:44<21:33:58,  1.66it/s] "
     ]
    },
    {
     "name": "stdout",
     "output_type": "stream",
     "text": [
      "Validation mean loss: 0.0079, \n",
      "saving model\n"
     ]
    },
    {
     "name": "stderr",
     "output_type": "stream",
     "text": [
      "epoch: 20, loss: 0.0106, mean loss: 0.0088, :  21%|██        | 33916/161500 [6:38:26<20:20:45,  1.74it/s] "
     ]
    },
    {
     "name": "stdout",
     "output_type": "stream",
     "text": [
      "Validation mean loss: 0.0074, \n",
      "saving model\n"
     ]
    },
    {
     "name": "stderr",
     "output_type": "stream",
     "text": [
      "epoch: 21, loss: 0.0074, mean loss: 0.0087, :  22%|██▏       | 35531/161500 [6:56:43<20:41:45,  1.69it/s] "
     ]
    },
    {
     "name": "stdout",
     "output_type": "stream",
     "text": [
      "Validation mean loss: 0.0073, \n",
      "saving model\n"
     ]
    },
    {
     "name": "stderr",
     "output_type": "stream",
     "text": [
      "epoch: 22, loss: 0.0077, mean loss: 0.0085, :  23%|██▎       | 37146/161500 [7:15:00<20:27:08,  1.69it/s] "
     ]
    },
    {
     "name": "stdout",
     "output_type": "stream",
     "text": [
      "Validation mean loss: 0.0073, \n",
      "saving model\n"
     ]
    },
    {
     "name": "stderr",
     "output_type": "stream",
     "text": [
      "epoch: 23, loss: 0.0104, mean loss: 0.0096, :  24%|██▍       | 38761/161500 [7:33:18<20:08:12,  1.69it/s] "
     ]
    },
    {
     "name": "stdout",
     "output_type": "stream",
     "text": [
      "Validation mean loss: 0.0075, \n"
     ]
    },
    {
     "name": "stderr",
     "output_type": "stream",
     "text": [
      "epoch: 24, loss: 0.0071, mean loss: 0.0084, :  25%|██▌       | 40376/161500 [7:51:53<20:14:31,  1.66it/s] "
     ]
    },
    {
     "name": "stdout",
     "output_type": "stream",
     "text": [
      "Validation mean loss: 0.0073, \n",
      "saving model\n"
     ]
    },
    {
     "name": "stderr",
     "output_type": "stream",
     "text": [
      "epoch: 25, loss: 0.0102, mean loss: 0.0084, :  26%|██▌       | 41991/161500 [8:10:58<20:07:45,  1.65it/s] "
     ]
    },
    {
     "name": "stdout",
     "output_type": "stream",
     "text": [
      "Validation mean loss: 0.0073, \n",
      "saving model\n"
     ]
    },
    {
     "name": "stderr",
     "output_type": "stream",
     "text": [
      "epoch: 26, loss: 0.0083, mean loss: 0.0084, :  27%|██▋       | 43606/161500 [8:29:32<18:53:41,  1.73it/s] "
     ]
    },
    {
     "name": "stdout",
     "output_type": "stream",
     "text": [
      "Validation mean loss: 0.0073, \n",
      "saving model\n"
     ]
    },
    {
     "name": "stderr",
     "output_type": "stream",
     "text": [
      "epoch: 27, loss: 0.0074, mean loss: 0.0084, :  28%|██▊       | 45221/161500 [8:48:08<18:46:51,  1.72it/s] "
     ]
    },
    {
     "name": "stdout",
     "output_type": "stream",
     "text": [
      "Validation mean loss: 0.0071, \n",
      "saving model\n"
     ]
    },
    {
     "name": "stderr",
     "output_type": "stream",
     "text": [
      "epoch: 28, loss: 0.0066, mean loss: 0.0089, :  29%|██▉       | 46836/161500 [9:13:05<41:08:32,  1.29s/it] "
     ]
    },
    {
     "name": "stdout",
     "output_type": "stream",
     "text": [
      "Validation mean loss: 0.0073, \n"
     ]
    },
    {
     "name": "stderr",
     "output_type": "stream",
     "text": [
      "epoch: 29, loss: 0.0089, mean loss: 0.0082, :  30%|███       | 48451/161500 [9:38:19<18:12:39,  1.72it/s] "
     ]
    },
    {
     "name": "stdout",
     "output_type": "stream",
     "text": [
      "Validation mean loss: 0.0072, \n",
      "saving model\n"
     ]
    },
    {
     "name": "stderr",
     "output_type": "stream",
     "text": [
      "epoch: 30, loss: 0.0077, mean loss: 0.0082, :  31%|███       | 50066/161500 [9:57:17<19:29:14,  1.59it/s] "
     ]
    },
    {
     "name": "stdout",
     "output_type": "stream",
     "text": [
      "Validation mean loss: 0.0070, \n",
      "saving model\n"
     ]
    },
    {
     "name": "stderr",
     "output_type": "stream",
     "text": [
      "epoch: 31, loss: 0.0104, mean loss: 0.0083, :  32%|███▏      | 51681/161500 [10:16:54<17:49:30,  1.71it/s]"
     ]
    },
    {
     "name": "stdout",
     "output_type": "stream",
     "text": [
      "Validation mean loss: 0.0071, \n"
     ]
    },
    {
     "name": "stderr",
     "output_type": "stream",
     "text": [
      "epoch: 32, loss: 0.0074, mean loss: 0.0085, :  33%|███▎      | 53296/161500 [10:36:44<24:35:28,  1.22it/s] "
     ]
    },
    {
     "name": "stdout",
     "output_type": "stream",
     "text": [
      "Validation mean loss: 0.0071, \n",
      "saving model\n"
     ]
    },
    {
     "name": "stderr",
     "output_type": "stream",
     "text": [
      "epoch: 33, loss: 0.0081, mean loss: 0.0081, :  34%|███▍      | 54911/161500 [10:56:35<17:33:04,  1.69it/s] "
     ]
    },
    {
     "name": "stdout",
     "output_type": "stream",
     "text": [
      "Validation mean loss: 0.0070, \n",
      "saving model\n"
     ]
    },
    {
     "name": "stderr",
     "output_type": "stream",
     "text": [
      "epoch: 34, loss: 0.0086, mean loss: 0.0082, :  35%|███▌      | 56526/161500 [11:16:30<18:12:21,  1.60it/s] "
     ]
    },
    {
     "name": "stdout",
     "output_type": "stream",
     "text": [
      "Validation mean loss: 0.0070, \n",
      "saving model\n"
     ]
    },
    {
     "name": "stderr",
     "output_type": "stream",
     "text": [
      "epoch: 35, loss: 0.0067, mean loss: 0.0083, :  36%|███▌      | 58141/161500 [11:36:14<16:48:34,  1.71it/s] "
     ]
    },
    {
     "name": "stdout",
     "output_type": "stream",
     "text": [
      "Validation mean loss: 0.0070, \n",
      "saving model\n"
     ]
    },
    {
     "name": "stderr",
     "output_type": "stream",
     "text": [
      "epoch: 36, loss: 0.0083, mean loss: 0.0082, :  37%|███▋      | 59756/161500 [11:55:24<16:19:11,  1.73it/s] "
     ]
    },
    {
     "name": "stdout",
     "output_type": "stream",
     "text": [
      "Validation mean loss: 0.0070, \n"
     ]
    },
    {
     "name": "stderr",
     "output_type": "stream",
     "text": [
      "epoch: 37, loss: 0.0075, mean loss: 0.0080, :  38%|███▊      | 61371/161500 [12:14:39<17:54:23,  1.55it/s] "
     ]
    },
    {
     "name": "stdout",
     "output_type": "stream",
     "text": [
      "Validation mean loss: 0.0070, \n",
      "saving model\n"
     ]
    },
    {
     "name": "stderr",
     "output_type": "stream",
     "text": [
      "epoch: 38, loss: 0.0069, mean loss: 0.0082, :  39%|███▉      | 62986/161500 [12:34:02<16:43:58,  1.64it/s] "
     ]
    },
    {
     "name": "stdout",
     "output_type": "stream",
     "text": [
      "Validation mean loss: 0.0072, \n"
     ]
    },
    {
     "name": "stderr",
     "output_type": "stream",
     "text": [
      "epoch: 39, loss: 0.0081, mean loss: 0.0083, :   0%|          | 39/161500 [12:47:53<52984:48:44, 1181.37s/it]\n"
     ]
    },
    {
     "ename": "KeyboardInterrupt",
     "evalue": "",
     "output_type": "error",
     "traceback": [
      "\u001b[0;31m---------------------------------------------------------------------------\u001b[0m",
      "\u001b[0;31mKeyboardInterrupt\u001b[0m                         Traceback (most recent call last)",
      "\u001b[0;32m<ipython-input-12-99bd0952a0ab>\u001b[0m in \u001b[0;36m<module>\u001b[0;34m\u001b[0m\n\u001b[1;32m      2\u001b[0m \u001b[0mBG\u001b[0m \u001b[0;34m=\u001b[0m \u001b[0mBatchGenerator\u001b[0m\u001b[0;34m(\u001b[0m\u001b[0;34m)\u001b[0m\u001b[0;34m\u001b[0m\u001b[0;34m\u001b[0m\u001b[0m\n\u001b[1;32m      3\u001b[0m \u001b[0mMT\u001b[0m \u001b[0;34m=\u001b[0m \u001b[0mModelTrainer\u001b[0m\u001b[0;34m(\u001b[0m\u001b[0;34m)\u001b[0m\u001b[0;34m\u001b[0m\u001b[0;34m\u001b[0m\u001b[0m\n\u001b[0;32m----> 4\u001b[0;31m \u001b[0mMT\u001b[0m\u001b[0;34m.\u001b[0m\u001b[0mtrain_full_model\u001b[0m\u001b[0;34m(\u001b[0m\u001b[0;34m)\u001b[0m\u001b[0;34m\u001b[0m\u001b[0;34m\u001b[0m\u001b[0m\n\u001b[0m\u001b[1;32m      5\u001b[0m \u001b[0mprint\u001b[0m\u001b[0;34m(\u001b[0m\u001b[0;34m\"finished training\"\u001b[0m\u001b[0;34m)\u001b[0m\u001b[0;34m\u001b[0m\u001b[0;34m\u001b[0m\u001b[0m\n\u001b[1;32m      6\u001b[0m \u001b[0mtorch\u001b[0m\u001b[0;34m.\u001b[0m\u001b[0msave\u001b[0m\u001b[0;34m(\u001b[0m\u001b[0mMT\u001b[0m\u001b[0;34m.\u001b[0m\u001b[0mstrongest_model\u001b[0m\u001b[0;34m,\u001b[0m \u001b[0mmodel_path\u001b[0m \u001b[0;34m+\u001b[0m \u001b[0;34m\"conv_model\"\u001b[0m\u001b[0;34m)\u001b[0m\u001b[0;34m\u001b[0m\u001b[0;34m\u001b[0m\u001b[0m\n",
      "\u001b[0;32m<ipython-input-11-ffde3dfd8901>\u001b[0m in \u001b[0;36mtrain_full_model\u001b[0;34m(self)\u001b[0m\n\u001b[1;32m     18\u001b[0m             \u001b[0mloss\u001b[0m \u001b[0;34m=\u001b[0m \u001b[0;36m0.0\u001b[0m\u001b[0;34m\u001b[0m\u001b[0;34m\u001b[0m\u001b[0m\n\u001b[1;32m     19\u001b[0m             \u001b[0mlosses\u001b[0m \u001b[0;34m=\u001b[0m \u001b[0;36m0.0\u001b[0m\u001b[0;34m\u001b[0m\u001b[0;34m\u001b[0m\u001b[0m\n\u001b[0;32m---> 20\u001b[0;31m             \u001b[0;32mfor\u001b[0m \u001b[0mindex\u001b[0m\u001b[0;34m,\u001b[0m \u001b[0mbatch_features\u001b[0m \u001b[0;32min\u001b[0m \u001b[0menumerate\u001b[0m\u001b[0;34m(\u001b[0m\u001b[0mself\u001b[0m\u001b[0;34m.\u001b[0m\u001b[0mtrain_full_loader\u001b[0m\u001b[0;34m)\u001b[0m\u001b[0;34m:\u001b[0m\u001b[0;34m\u001b[0m\u001b[0;34m\u001b[0m\u001b[0m\n\u001b[0m\u001b[1;32m     21\u001b[0m                 \u001b[0maction\u001b[0m \u001b[0;34m=\u001b[0m \u001b[0mbatch_features\u001b[0m\u001b[0;34m[\u001b[0m\u001b[0;36m0\u001b[0m\u001b[0;34m]\u001b[0m\u001b[0;34m.\u001b[0m\u001b[0msqueeze\u001b[0m\u001b[0;34m(\u001b[0m\u001b[0;34m)\u001b[0m\u001b[0;34m.\u001b[0m\u001b[0mpermute\u001b[0m\u001b[0;34m(\u001b[0m\u001b[0;36m1\u001b[0m\u001b[0;34m,\u001b[0m\u001b[0;36m0\u001b[0m\u001b[0;34m,\u001b[0m\u001b[0;36m2\u001b[0m\u001b[0;34m)\u001b[0m\u001b[0;34m.\u001b[0m\u001b[0mto\u001b[0m\u001b[0;34m(\u001b[0m\u001b[0mdevice\u001b[0m\u001b[0;34m)\u001b[0m\u001b[0;34m\u001b[0m\u001b[0;34m\u001b[0m\u001b[0m\n\u001b[1;32m     22\u001b[0m                 \u001b[0mtactile\u001b[0m \u001b[0;34m=\u001b[0m \u001b[0mbatch_features\u001b[0m\u001b[0;34m[\u001b[0m\u001b[0;36m1\u001b[0m\u001b[0;34m]\u001b[0m\u001b[0;34m.\u001b[0m\u001b[0mpermute\u001b[0m\u001b[0;34m(\u001b[0m\u001b[0;36m1\u001b[0m\u001b[0;34m,\u001b[0m\u001b[0;36m0\u001b[0m\u001b[0;34m,\u001b[0m\u001b[0;36m4\u001b[0m\u001b[0;34m,\u001b[0m\u001b[0;36m3\u001b[0m\u001b[0;34m,\u001b[0m\u001b[0;36m2\u001b[0m\u001b[0;34m)\u001b[0m\u001b[0;34m.\u001b[0m\u001b[0mto\u001b[0m\u001b[0;34m(\u001b[0m\u001b[0mdevice\u001b[0m\u001b[0;34m)\u001b[0m\u001b[0;34m\u001b[0m\u001b[0;34m\u001b[0m\u001b[0m\n",
      "\u001b[0;32m~/Robotics/slip_detection_model/venv/lib/python3.6/site-packages/torch/utils/data/dataloader.py\u001b[0m in \u001b[0;36m__next__\u001b[0;34m(self)\u001b[0m\n\u001b[1;32m    433\u001b[0m         \u001b[0;32mif\u001b[0m \u001b[0mself\u001b[0m\u001b[0;34m.\u001b[0m\u001b[0m_sampler_iter\u001b[0m \u001b[0;32mis\u001b[0m \u001b[0;32mNone\u001b[0m\u001b[0;34m:\u001b[0m\u001b[0;34m\u001b[0m\u001b[0;34m\u001b[0m\u001b[0m\n\u001b[1;32m    434\u001b[0m             \u001b[0mself\u001b[0m\u001b[0;34m.\u001b[0m\u001b[0m_reset\u001b[0m\u001b[0;34m(\u001b[0m\u001b[0;34m)\u001b[0m\u001b[0;34m\u001b[0m\u001b[0;34m\u001b[0m\u001b[0m\n\u001b[0;32m--> 435\u001b[0;31m         \u001b[0mdata\u001b[0m \u001b[0;34m=\u001b[0m \u001b[0mself\u001b[0m\u001b[0;34m.\u001b[0m\u001b[0m_next_data\u001b[0m\u001b[0;34m(\u001b[0m\u001b[0;34m)\u001b[0m\u001b[0;34m\u001b[0m\u001b[0;34m\u001b[0m\u001b[0m\n\u001b[0m\u001b[1;32m    436\u001b[0m         \u001b[0mself\u001b[0m\u001b[0;34m.\u001b[0m\u001b[0m_num_yielded\u001b[0m \u001b[0;34m+=\u001b[0m \u001b[0;36m1\u001b[0m\u001b[0;34m\u001b[0m\u001b[0;34m\u001b[0m\u001b[0m\n\u001b[1;32m    437\u001b[0m         \u001b[0;32mif\u001b[0m \u001b[0mself\u001b[0m\u001b[0;34m.\u001b[0m\u001b[0m_dataset_kind\u001b[0m \u001b[0;34m==\u001b[0m \u001b[0m_DatasetKind\u001b[0m\u001b[0;34m.\u001b[0m\u001b[0mIterable\u001b[0m \u001b[0;32mand\u001b[0m\u001b[0;31m \u001b[0m\u001b[0;31m\\\u001b[0m\u001b[0;34m\u001b[0m\u001b[0;34m\u001b[0m\u001b[0m\n",
      "\u001b[0;32m~/Robotics/slip_detection_model/venv/lib/python3.6/site-packages/torch/utils/data/dataloader.py\u001b[0m in \u001b[0;36m_next_data\u001b[0;34m(self)\u001b[0m\n\u001b[1;32m    473\u001b[0m     \u001b[0;32mdef\u001b[0m \u001b[0m_next_data\u001b[0m\u001b[0;34m(\u001b[0m\u001b[0mself\u001b[0m\u001b[0;34m)\u001b[0m\u001b[0;34m:\u001b[0m\u001b[0;34m\u001b[0m\u001b[0;34m\u001b[0m\u001b[0m\n\u001b[1;32m    474\u001b[0m         \u001b[0mindex\u001b[0m \u001b[0;34m=\u001b[0m \u001b[0mself\u001b[0m\u001b[0;34m.\u001b[0m\u001b[0m_next_index\u001b[0m\u001b[0;34m(\u001b[0m\u001b[0;34m)\u001b[0m  \u001b[0;31m# may raise StopIteration\u001b[0m\u001b[0;34m\u001b[0m\u001b[0;34m\u001b[0m\u001b[0m\n\u001b[0;32m--> 475\u001b[0;31m         \u001b[0mdata\u001b[0m \u001b[0;34m=\u001b[0m \u001b[0mself\u001b[0m\u001b[0;34m.\u001b[0m\u001b[0m_dataset_fetcher\u001b[0m\u001b[0;34m.\u001b[0m\u001b[0mfetch\u001b[0m\u001b[0;34m(\u001b[0m\u001b[0mindex\u001b[0m\u001b[0;34m)\u001b[0m  \u001b[0;31m# may raise StopIteration\u001b[0m\u001b[0;34m\u001b[0m\u001b[0;34m\u001b[0m\u001b[0m\n\u001b[0m\u001b[1;32m    476\u001b[0m         \u001b[0;32mif\u001b[0m \u001b[0mself\u001b[0m\u001b[0;34m.\u001b[0m\u001b[0m_pin_memory\u001b[0m\u001b[0;34m:\u001b[0m\u001b[0;34m\u001b[0m\u001b[0;34m\u001b[0m\u001b[0m\n\u001b[1;32m    477\u001b[0m             \u001b[0mdata\u001b[0m \u001b[0;34m=\u001b[0m \u001b[0m_utils\u001b[0m\u001b[0;34m.\u001b[0m\u001b[0mpin_memory\u001b[0m\u001b[0;34m.\u001b[0m\u001b[0mpin_memory\u001b[0m\u001b[0;34m(\u001b[0m\u001b[0mdata\u001b[0m\u001b[0;34m)\u001b[0m\u001b[0;34m\u001b[0m\u001b[0;34m\u001b[0m\u001b[0m\n",
      "\u001b[0;32m~/Robotics/slip_detection_model/venv/lib/python3.6/site-packages/torch/utils/data/_utils/fetch.py\u001b[0m in \u001b[0;36mfetch\u001b[0;34m(self, possibly_batched_index)\u001b[0m\n\u001b[1;32m     42\u001b[0m     \u001b[0;32mdef\u001b[0m \u001b[0mfetch\u001b[0m\u001b[0;34m(\u001b[0m\u001b[0mself\u001b[0m\u001b[0;34m,\u001b[0m \u001b[0mpossibly_batched_index\u001b[0m\u001b[0;34m)\u001b[0m\u001b[0;34m:\u001b[0m\u001b[0;34m\u001b[0m\u001b[0;34m\u001b[0m\u001b[0m\n\u001b[1;32m     43\u001b[0m         \u001b[0;32mif\u001b[0m \u001b[0mself\u001b[0m\u001b[0;34m.\u001b[0m\u001b[0mauto_collation\u001b[0m\u001b[0;34m:\u001b[0m\u001b[0;34m\u001b[0m\u001b[0;34m\u001b[0m\u001b[0m\n\u001b[0;32m---> 44\u001b[0;31m             \u001b[0mdata\u001b[0m \u001b[0;34m=\u001b[0m \u001b[0;34m[\u001b[0m\u001b[0mself\u001b[0m\u001b[0;34m.\u001b[0m\u001b[0mdataset\u001b[0m\u001b[0;34m[\u001b[0m\u001b[0midx\u001b[0m\u001b[0;34m]\u001b[0m \u001b[0;32mfor\u001b[0m \u001b[0midx\u001b[0m \u001b[0;32min\u001b[0m \u001b[0mpossibly_batched_index\u001b[0m\u001b[0;34m]\u001b[0m\u001b[0;34m\u001b[0m\u001b[0;34m\u001b[0m\u001b[0m\n\u001b[0m\u001b[1;32m     45\u001b[0m         \u001b[0;32melse\u001b[0m\u001b[0;34m:\u001b[0m\u001b[0;34m\u001b[0m\u001b[0;34m\u001b[0m\u001b[0m\n\u001b[1;32m     46\u001b[0m             \u001b[0mdata\u001b[0m \u001b[0;34m=\u001b[0m \u001b[0mself\u001b[0m\u001b[0;34m.\u001b[0m\u001b[0mdataset\u001b[0m\u001b[0;34m[\u001b[0m\u001b[0mpossibly_batched_index\u001b[0m\u001b[0;34m]\u001b[0m\u001b[0;34m\u001b[0m\u001b[0;34m\u001b[0m\u001b[0m\n",
      "\u001b[0;32m~/Robotics/slip_detection_model/venv/lib/python3.6/site-packages/torch/utils/data/_utils/fetch.py\u001b[0m in \u001b[0;36m<listcomp>\u001b[0;34m(.0)\u001b[0m\n\u001b[1;32m     42\u001b[0m     \u001b[0;32mdef\u001b[0m \u001b[0mfetch\u001b[0m\u001b[0;34m(\u001b[0m\u001b[0mself\u001b[0m\u001b[0;34m,\u001b[0m \u001b[0mpossibly_batched_index\u001b[0m\u001b[0;34m)\u001b[0m\u001b[0;34m:\u001b[0m\u001b[0;34m\u001b[0m\u001b[0;34m\u001b[0m\u001b[0m\n\u001b[1;32m     43\u001b[0m         \u001b[0;32mif\u001b[0m \u001b[0mself\u001b[0m\u001b[0;34m.\u001b[0m\u001b[0mauto_collation\u001b[0m\u001b[0;34m:\u001b[0m\u001b[0;34m\u001b[0m\u001b[0;34m\u001b[0m\u001b[0m\n\u001b[0;32m---> 44\u001b[0;31m             \u001b[0mdata\u001b[0m \u001b[0;34m=\u001b[0m \u001b[0;34m[\u001b[0m\u001b[0mself\u001b[0m\u001b[0;34m.\u001b[0m\u001b[0mdataset\u001b[0m\u001b[0;34m[\u001b[0m\u001b[0midx\u001b[0m\u001b[0;34m]\u001b[0m \u001b[0;32mfor\u001b[0m \u001b[0midx\u001b[0m \u001b[0;32min\u001b[0m \u001b[0mpossibly_batched_index\u001b[0m\u001b[0;34m]\u001b[0m\u001b[0;34m\u001b[0m\u001b[0;34m\u001b[0m\u001b[0m\n\u001b[0m\u001b[1;32m     45\u001b[0m         \u001b[0;32melse\u001b[0m\u001b[0;34m:\u001b[0m\u001b[0;34m\u001b[0m\u001b[0;34m\u001b[0m\u001b[0m\n\u001b[1;32m     46\u001b[0m             \u001b[0mdata\u001b[0m \u001b[0;34m=\u001b[0m \u001b[0mself\u001b[0m\u001b[0;34m.\u001b[0m\u001b[0mdataset\u001b[0m\u001b[0;34m[\u001b[0m\u001b[0mpossibly_batched_index\u001b[0m\u001b[0;34m]\u001b[0m\u001b[0;34m\u001b[0m\u001b[0;34m\u001b[0m\u001b[0m\n",
      "\u001b[0;32m<ipython-input-6-21bb30bf3c16>\u001b[0m in \u001b[0;36m__getitem__\u001b[0;34m(self, idx)\u001b[0m\n\u001b[1;32m     45\u001b[0m         \u001b[0mxela1image\u001b[0m \u001b[0;34m=\u001b[0m \u001b[0;34m(\u001b[0m\u001b[0mxela1image\u001b[0m\u001b[0;34m+\u001b[0m\u001b[0;36m1\u001b[0m\u001b[0;34m)\u001b[0m\u001b[0;34m/\u001b[0m\u001b[0;36m2\u001b[0m\u001b[0;34m\u001b[0m\u001b[0;34m\u001b[0m\u001b[0m\n\u001b[1;32m     46\u001b[0m         \u001b[0mexperiment\u001b[0m \u001b[0;34m=\u001b[0m \u001b[0mnp\u001b[0m\u001b[0;34m.\u001b[0m\u001b[0mload\u001b[0m\u001b[0;34m(\u001b[0m\u001b[0mdata_dir\u001b[0m \u001b[0;34m+\u001b[0m \u001b[0mvalue\u001b[0m\u001b[0;34m[\u001b[0m\u001b[0;34m-\u001b[0m\u001b[0;36m2\u001b[0m\u001b[0;34m]\u001b[0m\u001b[0;34m)\u001b[0m\u001b[0;34m\u001b[0m\u001b[0;34m\u001b[0m\u001b[0m\n\u001b[0;32m---> 47\u001b[0;31m         \u001b[0mtime_step\u001b[0m  \u001b[0;34m=\u001b[0m \u001b[0mnp\u001b[0m\u001b[0;34m.\u001b[0m\u001b[0mload\u001b[0m\u001b[0;34m(\u001b[0m\u001b[0mdata_dir\u001b[0m \u001b[0;34m+\u001b[0m \u001b[0mvalue\u001b[0m\u001b[0;34m[\u001b[0m\u001b[0;34m-\u001b[0m\u001b[0;36m1\u001b[0m\u001b[0;34m]\u001b[0m\u001b[0;34m)\u001b[0m\u001b[0;34m\u001b[0m\u001b[0;34m\u001b[0m\u001b[0m\n\u001b[0m\u001b[1;32m     48\u001b[0m         return([robot.astype(np.float32),\n\u001b[1;32m     49\u001b[0m                 \u001b[0mxela1image\u001b[0m\u001b[0;34m.\u001b[0m\u001b[0mastype\u001b[0m\u001b[0;34m(\u001b[0m\u001b[0mnp\u001b[0m\u001b[0;34m.\u001b[0m\u001b[0mfloat32\u001b[0m\u001b[0;34m)\u001b[0m\u001b[0;34m,\u001b[0m\u001b[0;34m\u001b[0m\u001b[0;34m\u001b[0m\u001b[0m\n",
      "\u001b[0;32m~/.local/lib/python3.6/site-packages/numpy/lib/npyio.py\u001b[0m in \u001b[0;36mload\u001b[0;34m(file, mmap_mode, allow_pickle, fix_imports, encoding)\u001b[0m\n\u001b[1;32m    444\u001b[0m     \u001b[0;32mfinally\u001b[0m\u001b[0;34m:\u001b[0m\u001b[0;34m\u001b[0m\u001b[0;34m\u001b[0m\u001b[0m\n\u001b[1;32m    445\u001b[0m         \u001b[0;32mif\u001b[0m \u001b[0mown_fid\u001b[0m\u001b[0;34m:\u001b[0m\u001b[0;34m\u001b[0m\u001b[0;34m\u001b[0m\u001b[0m\n\u001b[0;32m--> 446\u001b[0;31m             \u001b[0mfid\u001b[0m\u001b[0;34m.\u001b[0m\u001b[0mclose\u001b[0m\u001b[0;34m(\u001b[0m\u001b[0;34m)\u001b[0m\u001b[0;34m\u001b[0m\u001b[0;34m\u001b[0m\u001b[0m\n\u001b[0m\u001b[1;32m    447\u001b[0m \u001b[0;34m\u001b[0m\u001b[0m\n\u001b[1;32m    448\u001b[0m \u001b[0;34m\u001b[0m\u001b[0m\n",
      "\u001b[0;31mKeyboardInterrupt\u001b[0m: "
     ]
    }
   ],
   "source": [
    "## create data generator, train model and save model.\n",
    "BG = BatchGenerator()\n",
    "MT = ModelTrainer()\n",
    "MT.train_full_model()\n",
    "print(\"finished training\")\n",
    "torch.save(MT.strongest_model, model_path + \"conv_model\")\n",
    "model = torch.load(model_path + \"conv_model\")\n",
    "model.eval()\n",
    "print(\"saved the model\")\n",
    "model = torch.load(model_path + \"conv_model\")\n",
    "model.eval()"
   ]
  },
  {
   "cell_type": "code",
   "execution_count": 6,
   "id": "opposed-language",
   "metadata": {},
   "outputs": [
    {
     "name": "stdout",
     "output_type": "stream",
     "text": [
      "['test loss MAE(L1): ', 0.0]\n",
      "['test loss MSE: ', 0.0]\n",
      "['test loss MAE(L1) timestep 1: ', 0.008943498133920088]\n",
      "['test loss MSE timestep 1: ', 0.000548620423223107]\n",
      "['test loss MAE(L1) timestep 5: ', nan]\n",
      "['test loss MSE timestep 5: ', nan]\n",
      "['test loss MAE(L1) timestep 10: ', nan]\n",
      "['test loss MSE timestep 10: ', nan]\n",
      "['sheer x test loss MAE(L1): ', 0.008943498133920088]\n",
      "['sheer x test loss MSE: ', 0.000548620423223107]\n",
      "['sheer y test loss MAE(L1): ', nan]\n",
      "['sheer y test loss MSE: ', nan]\n",
      "['z test loss MAE(L1): ', nan]\n",
      "['z test loss MSE: ', nan]\n",
      "['sheer x test loss MAE(L1) timestep 1: ', 0.002521950773717392]\n",
      "['sheer x test loss MSE timestep 1: ', 0.00010302351423011455]\n",
      "['sheer y test loss MAE(L1) timestep 1: ', nan]\n",
      "['sheer y test loss MSE timestep 1: ', nan]\n",
      "['z test loss MAE(L1) timestep 1: ', nan]\n",
      "['z test loss MSE timestep 1: ', nan]\n",
      "['sheer x test loss MAE(L1) timestep 5: ', 0.008768834083249593]\n",
      "['sheer x test loss MSE timestep 5: ', 0.0004626285946427867]\n",
      "['sheer y test loss MAE(L1) timestep 5: ', nan]\n",
      "['sheer y test loss MSE timestep 5: ', nan]\n",
      "['z test loss MAE(L1) timestep 5: ', nan]\n",
      "['z test loss MSE timestep 5: ', nan]\n",
      "['sheer x test loss MAE(L1) timestep 10: ', 0.014368185938413566]\n",
      "['sheer x test loss MSE timestep 10: ', 0.0010449977247522686]\n",
      "['sheer y test loss MAE(L1) timestep 10: ', nan]\n",
      "['sheer y test loss MSE timestep 10: ', nan]\n",
      "['z test loss MAE(L1) timestep 10: ', nan]\n",
      "['z test loss MSE timestep 10: ', nan]\n",
      "done\n"
     ]
    }
   ],
   "source": [
    "# test model on the full test sample:\n",
    "# test model on the full test sample:\n",
    "model = torch.load(model_path + \"conv_model\")\n",
    "model.eval()\n",
    "BG = BatchGenerator()\n",
    "train_full_loader, valid_full_loader, test_full_loader = BG.load_full_data()\n",
    "\n",
    "criterion1 = nn.L1Loss()\n",
    "criterion2 = nn.MSELoss()\n",
    "\n",
    "test_lossesMAE_x = 0.0\n",
    "test_lossesMSE_x = 0.0\n",
    "test_lossesMAE_y = 0.0\n",
    "test_lossesMSE_y = 0.0\n",
    "test_lossesMAE_z = 0.0\n",
    "test_lossesMSE_z = 0.0\n",
    "\n",
    "test_lossesMAE_t1 = 0.0\n",
    "test_lossesMSE_t1 = 0.0\n",
    "test_lossesMAE_t5 = 0.0\n",
    "test_lossesMSE_t5 = 0.0\n",
    "test_lossesMAE_t10 = 0.0\n",
    "test_lossesMSE_t10 = 0.0\n",
    "\n",
    "test_lossesMAE_x_ts1 = 0.0\n",
    "test_lossesMSE_x_ts1 = 0.0\n",
    "test_lossesMAE_y_ts1 = 0.0\n",
    "test_lossesMSE_y_ts1 = 0.0\n",
    "test_lossesMAE_z_ts1 = 0.0\n",
    "test_lossesMSE_z_ts1 = 0.0\n",
    "\n",
    "test_lossesMAE_x_ts5 = 0.0\n",
    "test_lossesMSE_x_ts5 = 0.0\n",
    "test_lossesMAE_y_ts5 = 0.0\n",
    "test_lossesMSE_y_ts5 = 0.0\n",
    "test_lossesMAE_z_ts5 = 0.0\n",
    "test_lossesMSE_z_ts5 = 0.0\n",
    "\n",
    "test_lossesMAE_x_ts10 = 0.0\n",
    "test_lossesMSE_x_ts10 = 0.0\n",
    "test_lossesMAE_y_ts10 = 0.0\n",
    "test_lossesMSE_y_ts10 = 0.0\n",
    "test_lossesMAE_z_ts10 = 0.0\n",
    "test_lossesMSE_z_ts10 = 0.0\n",
    "\n",
    "tactile_predictions = []\n",
    "tactile_groundtruth = []\n",
    "experiment_time_steps = []\n",
    "test_lossesMAE = 0.0\n",
    "test_lossesMSE = 0.0\n",
    "with torch.no_grad():\n",
    "    for index__, batch_features in enumerate(test_full_loader):\n",
    "        # 2. Reshape data and send to device:                    \n",
    "        action = batch_features[0].squeeze().permute(1,0,2).to(device)\n",
    "        tactile = batch_features[1].permute(1,0,4,3,2).to(device)\n",
    "\n",
    "        tp = model.forward(tactiles=tactile, actions=action)\n",
    "        experiment_time_steps.append([batch_features[2], batch_features[3]])\n",
    "        tactile_predictions.append(tp)  # Step 3. Run our forward pass.\n",
    "        tactile_groundtruth.append(tactile[context_frames:])\n",
    "        # calculate losses for specific timesteps\n",
    "        test_lossMAE_t1 = criterion1(tp[0,:,:].to(device), tactile[context_frames:][0,:,:])\n",
    "        test_lossesMAE_t1 += test_lossMAE_t1.item() \n",
    "        test_lossMSE_t1 = criterion2(tp[0,:,:].to(device), tactile[context_frames:][0,:,:])\n",
    "        test_lossesMSE_t1 += test_lossMSE_t1.item() \n",
    "        test_lossMAE_t5 = criterion1(tp[4,:,:].to(device), tactile[context_frames:][4,:,:])\n",
    "        test_lossesMAE_t5 += test_lossMAE_t5.item() \n",
    "        test_lossMSE_t5 = criterion2(tp[4,:,:].to(device), tactile[context_frames:][4,:,:])\n",
    "        test_lossesMSE_t5 += test_lossMSE_t5.item() \n",
    "        test_lossMAE_t10 = criterion1(tp[9,:,:].to(device), tactile[context_frames:][9,:,:])\n",
    "        test_lossesMAE_t10 += test_lossMAE_t10.item() \n",
    "        test_lossMSE_t10 = criterion2(tp[9,:,:].to(device), tactile[context_frames:][9,:,:])\n",
    "        test_lossesMSE_t10 += test_lossMSE_t10.item() \n",
    "        \n",
    "        # calculate losses for specific forces\n",
    "        test_lossMAE_x = criterion1(tp[:,:,:16].to(device), tactile[context_frames:][:,:,:16])\n",
    "        test_lossesMAE_x += test_lossMAE_x.item() \n",
    "        test_lossMSE_x = criterion2(tp[:,:,:16].to(device), tactile[context_frames:][:,:,:16])\n",
    "        test_lossesMSE_x += test_lossMSE_x.item() \n",
    "        test_lossMAE_y = criterion1(tp[:,:,17:32].to(device), tactile[context_frames:][:,:,17:32])\n",
    "        test_lossesMAE_y += test_lossMAE_y.item() \n",
    "        test_lossMSE_y = criterion2(tp[:,:,17:32].to(device), tactile[context_frames:][:,:,17:32])\n",
    "        test_lossesMSE_y += test_lossMSE_y.item() \n",
    "        test_lossMAE_z = criterion1(tp[:,:,33:48].to(device), tactile[context_frames:][:,:,33:48])\n",
    "        test_lossesMAE_z += test_lossMAE_z.item() \n",
    "        test_lossMSE_z = criterion2(tp[:,:,33:48].to(device), tactile[context_frames:][:,:,33:48])\n",
    "        test_lossesMSE_z += test_lossMSE_z.item() \n",
    "\n",
    "        # calculate losses for specific timesteps and forces \n",
    "        test_lossMAE_x_ts1 = criterion1(tp[0,:,:16].to(device), tactile[context_frames:][0,:,:16])\n",
    "        test_lossesMAE_x_ts1 += test_lossMAE_x_ts1.item() \n",
    "        test_lossMSE_x_ts1 = criterion2(tp[0,:,:16].to(device), tactile[context_frames:][0,:,:16])\n",
    "        test_lossesMSE_x_ts1 += test_lossMSE_x_ts1.item() \n",
    "        test_lossMAE_y_ts1 = criterion1(tp[0,:,17:32].to(device), tactile[context_frames:][0,:,17:32])\n",
    "        test_lossesMAE_y_ts1 += test_lossMAE_y_ts1.item() \n",
    "        test_lossMSE_y_ts1 = criterion2(tp[0,:,17:32].to(device), tactile[context_frames:][0,:,17:32])\n",
    "        test_lossesMSE_y_ts1 += test_lossMSE_y_ts1.item() \n",
    "        test_lossMAE_z_ts1 = criterion1(tp[0,:,33:48].to(device), tactile[context_frames:][0,:,33:48])\n",
    "        test_lossesMAE_z_ts1 += test_lossMAE_z_ts1.item() \n",
    "        test_lossMSE_z_ts1 = criterion2(tp[0,:,33:48].to(device), tactile[context_frames:][0,:,33:48])\n",
    "        test_lossesMSE_z_ts1 += test_lossMSE_z_ts1.item() \n",
    " \n",
    "        test_lossMAE_x_ts5 = criterion1(tp[4,:,:16].to(device), tactile[context_frames:][4,:,:16])\n",
    "        test_lossesMAE_x_ts5 += test_lossMAE_x_ts5.item() \n",
    "        test_lossMSE_x_ts5 = criterion2(tp[4,:,:16].to(device), tactile[context_frames:][4,:,:16])\n",
    "        test_lossesMSE_x_ts5 += test_lossMSE_x_ts5.item() \n",
    "        test_lossMAE_y_ts5 = criterion1(tp[4,:,17:32].to(device), tactile[context_frames:][4,:,17:32])\n",
    "        test_lossesMAE_y_ts5 += test_lossMAE_y_ts5.item() \n",
    "        test_lossMSE_y_ts5 = criterion2(tp[4,:,17:32].to(device), tactile[context_frames:][4,:,17:32])\n",
    "        test_lossesMSE_y_ts5 += test_lossMSE_y_ts5.item() \n",
    "        test_lossMAE_z_ts5 = criterion1(tp[4,:,33:48].to(device), tactile[context_frames:][4,:,33:48])\n",
    "        test_lossesMAE_z_ts5 += test_lossMAE_z_ts5.item() \n",
    "        test_lossMSE_z_ts5 = criterion2(tp[4,:,33:48].to(device), tactile[context_frames:][4,:,33:48])\n",
    "        test_lossesMSE_z_ts5 += test_lossMSE_z_ts5.item() \n",
    "\n",
    "        test_lossMAE_x_ts10 = criterion1(tp[9,:,:16].to(device), tactile[context_frames:][9,:,:16])\n",
    "        test_lossesMAE_x_ts10 += test_lossMAE_x_ts10.item() \n",
    "        test_lossMSE_x_ts10 = criterion2(tp[9,:,:16].to(device), tactile[context_frames:][9,:,:16])\n",
    "        test_lossesMSE_x_ts10 += test_lossMSE_x_ts10.item() \n",
    "        test_lossMAE_y_ts10 = criterion1(tp[9,:,17:32].to(device), tactile[context_frames:][9,:,17:32])\n",
    "        test_lossesMAE_y_ts10 += test_lossMAE_y_ts10.item() \n",
    "        test_lossMSE_y_ts10 = criterion2(tp[9,:,17:32].to(device), tactile[context_frames:][9,:,17:32])\n",
    "        test_lossesMSE_y_ts10 += test_lossMSE_y_ts10.item() \n",
    "        test_lossMAE_z_ts10 = criterion1(tp[9,:,33:48].to(device), tactile[context_frames:][9,:,33:48])\n",
    "        test_lossesMAE_z_ts10 += test_lossMAE_z_ts10.item() \n",
    "        test_lossMSE_z_ts10 = criterion2(tp[9,:,33:48].to(device), tactile[context_frames:][9,:,33:48])\n",
    "        test_lossesMSE_z_ts10 += test_lossMSE_z_ts10.item()\n",
    "\n",
    "performance_data = []\n",
    "performance_data.append([\"test loss MAE(L1): \", (test_lossesMAE / index__)])\n",
    "performance_data.append([\"test loss MSE: \", (test_lossesMSE / index__)])\n",
    "performance_data.append([\"test loss MAE(L1) timestep 1: \", (test_lossesMAE_x / index__)])\n",
    "performance_data.append([\"test loss MSE timestep 1: \", (test_lossesMSE_x / index__)])\n",
    "performance_data.append([\"test loss MAE(L1) timestep 5: \", (test_lossesMAE_y / index__)])\n",
    "performance_data.append([\"test loss MSE timestep 5: \", (test_lossesMSE_y / index__)])\n",
    "performance_data.append([\"test loss MAE(L1) timestep 10: \", (test_lossesMAE_z / index__)])\n",
    "performance_data.append([\"test loss MSE timestep 10: \", (test_lossesMSE_z / index__)])\n",
    "performance_data.append([\"sheer x test loss MAE(L1): \", (test_lossesMAE_x / index__)])\n",
    "performance_data.append([\"sheer x test loss MSE: \", (test_lossesMSE_x / index__)])\n",
    "performance_data.append([\"sheer y test loss MAE(L1): \", (test_lossesMAE_y / index__)])\n",
    "performance_data.append([\"sheer y test loss MSE: \", (test_lossesMSE_y / index__)])\n",
    "performance_data.append([\"z test loss MAE(L1): \", (test_lossesMAE_z / index__)])\n",
    "performance_data.append([\"z test loss MSE: \", (test_lossesMSE_z / index__)])\n",
    "performance_data.append([\"sheer x test loss MAE(L1) timestep 1: \", (test_lossesMAE_x_ts1 / index__)])\n",
    "performance_data.append([\"sheer x test loss MSE timestep 1: \", (test_lossesMSE_x_ts1 / index__)])\n",
    "performance_data.append([\"sheer y test loss MAE(L1) timestep 1: \", (test_lossesMAE_y_ts1 / index__)])\n",
    "performance_data.append([\"sheer y test loss MSE timestep 1: \", (test_lossesMSE_y_ts1 / index__)])\n",
    "performance_data.append([\"z test loss MAE(L1) timestep 1: \", (test_lossesMAE_z_ts1 / index__)])\n",
    "performance_data.append([\"z test loss MSE timestep 1: \", (test_lossesMSE_z_ts1 / index__)])\n",
    "performance_data.append([\"sheer x test loss MAE(L1) timestep 5: \", (test_lossesMAE_x_ts5 / index__)])\n",
    "performance_data.append([\"sheer x test loss MSE timestep 5: \", (test_lossesMSE_x_ts5 / index__)])\n",
    "performance_data.append([\"sheer y test loss MAE(L1) timestep 5: \", (test_lossesMAE_y_ts5 / index__)])\n",
    "performance_data.append([\"sheer y test loss MSE timestep 5: \", (test_lossesMSE_y_ts5 / index__)])\n",
    "performance_data.append([\"z test loss MAE(L1) timestep 5: \", (test_lossesMAE_z_ts5 / index__)])\n",
    "performance_data.append([\"z test loss MSE timestep 5: \", (test_lossesMSE_z_ts5 / index__)])\n",
    "performance_data.append([\"sheer x test loss MAE(L1) timestep 10: \", (test_lossesMAE_x_ts10 / index__)])\n",
    "performance_data.append([\"sheer x test loss MSE timestep 10: \", (test_lossesMSE_x_ts10 / index__)])\n",
    "performance_data.append([\"sheer y test loss MAE(L1) timestep 10: \", (test_lossesMAE_y_ts10 / index__)])\n",
    "performance_data.append([\"sheer y test loss MSE timestep 10: \", (test_lossesMSE_y_ts10 / index__)])\n",
    "performance_data.append([\"z test loss MAE(L1) timestep 10: \", (test_lossesMAE_z_ts10 / index__)])\n",
    "performance_data.append([\"z test loss MSE timestep 10: \", (test_lossesMSE_z_ts10 / index__)])\n",
    "[print(i) for i in performance_data]\n",
    "\n",
    "np.save(model_path + 'pp_performance_data_conv_model', np.asarray(performance_data))\n",
    "print(\"done\")"
   ]
  },
  {
   "cell_type": "code",
   "execution_count": 16,
   "id": "shared-wagner",
   "metadata": {},
   "outputs": [
    {
     "name": "stdout",
     "output_type": "stream",
     "text": [
      "/home/user/Robotics/slip_detection_model/slip_detection_model/manual_data_models/models/conv_model_002/210/pp_predicted_data_t1_feature_0.gif\n"
     ]
    },
    {
     "data": {
      "image/png": "[encoded data removed]",
      "text/plain": [
       "<Figure size 432x288 with 1 Axes>"
      ]
     },
     "metadata": {
      "needs_background": "light"
     },
     "output_type": "display_data"
    },
    {
     "name": "stdout",
     "output_type": "stream",
     "text": [
      "1\n",
      "/home/user/Robotics/slip_detection_model/slip_detection_model/manual_data_models/models/conv_model_002/210/pp_predicted_data_t1_feature_1.gif\n"
     ]
    },
    {
     "data": {
      "image/png": "[encoded data removed]",
      "text/plain": [
       "<Figure size 432x288 with 1 Axes>"
      ]
     },
     "metadata": {
      "needs_background": "light"
     },
     "output_type": "display_data"
    },
    {
     "name": "stdout",
     "output_type": "stream",
     "text": [
      "2\n",
      "/home/user/Robotics/slip_detection_model/slip_detection_model/manual_data_models/models/conv_model_002/210/pp_predicted_data_t1_feature_2.gif\n"
     ]
    },
    {
     "data": {
      "image/png": "[encoded data removed]",
      "text/plain": [
       "<Figure size 432x288 with 1 Axes>"
      ]
     },
     "metadata": {
      "needs_background": "light"
     },
     "output_type": "display_data"
    },
    {
     "name": "stdout",
     "output_type": "stream",
     "text": [
      "3\n",
      "/home/user/Robotics/slip_detection_model/slip_detection_model/manual_data_models/models/conv_model_002/210/pp_predicted_data_t5_feature_0.gif\n"
     ]
    },
    {
     "data": {
      "image/png": "[encoded data removed]",
      "text/plain": [
       "<Figure size 432x288 with 1 Axes>"
      ]
     },
     "metadata": {
      "needs_background": "light"
     },
     "output_type": "display_data"
    },
    {
     "name": "stdout",
     "output_type": "stream",
     "text": [
      "4\n",
      "/home/user/Robotics/slip_detection_model/slip_detection_model/manual_data_models/models/conv_model_002/210/pp_predicted_data_t5_feature_1.gif\n"
     ]
    },
    {
     "data": {
      "image/png": "[encoded data removed]",
      "text/plain": [
       "<Figure size 432x288 with 1 Axes>"
      ]
     },
     "metadata": {
      "needs_background": "light"
     },
     "output_type": "display_data"
    },
    {
     "name": "stdout",
     "output_type": "stream",
     "text": [
      "5\n",
      "/home/user/Robotics/slip_detection_model/slip_detection_model/manual_data_models/models/conv_model_002/210/pp_predicted_data_t5_feature_2.gif\n"
     ]
    },
    {
     "data": {
      "image/png": "[encoded data removed]",
      "text/plain": [
       "<Figure size 432x288 with 1 Axes>"
      ]
     },
     "metadata": {
      "needs_background": "light"
     },
     "output_type": "display_data"
    },
    {
     "name": "stdout",
     "output_type": "stream",
     "text": [
      "6\n",
      "/home/user/Robotics/slip_detection_model/slip_detection_model/manual_data_models/models/conv_model_002/210/pp_predicted_data_t10_feature_0.gif\n"
     ]
    },
    {
     "data": {
      "image/png": "[encoded data removed]",
      "text/plain": [
       "<Figure size 432x288 with 1 Axes>"
      ]
     },
     "metadata": {
      "needs_background": "light"
     },
     "output_type": "display_data"
    },
    {
     "name": "stdout",
     "output_type": "stream",
     "text": [
      "7\n",
      "/home/user/Robotics/slip_detection_model/slip_detection_model/manual_data_models/models/conv_model_002/210/pp_predicted_data_t10_feature_1.gif\n"
     ]
    },
    {
     "data": {
      "image/png": "[encoded data removed]",
      "text/plain": [
       "<Figure size 432x288 with 1 Axes>"
      ]
     },
     "metadata": {
      "needs_background": "light"
     },
     "output_type": "display_data"
    },
    {
     "name": "stdout",
     "output_type": "stream",
     "text": [
      "8\n",
      "/home/user/Robotics/slip_detection_model/slip_detection_model/manual_data_models/models/conv_model_002/210/pp_predicted_data_t10_feature_2.gif\n"
     ]
    },
    {
     "data": {
      "image/png": "[encoded data removed]",
      "text/plain": [
       "<Figure size 432x288 with 1 Axes>"
      ]
     },
     "metadata": {
      "needs_background": "light"
     },
     "output_type": "display_data"
    },
    {
     "name": "stdout",
     "output_type": "stream",
     "text": [
      "9\n",
      "/home/user/Robotics/slip_detection_model/slip_detection_model/manual_data_models/models/conv_model_002/210/pp_groundtruth_data_feature_0.gif\n"
     ]
    },
    {
     "data": {
      "image/png": "[encoded data removed]",
      "text/plain": [
       "<Figure size 432x288 with 1 Axes>"
      ]
     },
     "metadata": {
      "needs_background": "light"
     },
     "output_type": "display_data"
    },
    {
     "name": "stdout",
     "output_type": "stream",
     "text": [
      "1\n",
      "/home/user/Robotics/slip_detection_model/slip_detection_model/manual_data_models/models/conv_model_002/210/pp_groundtruth_data_feature_1.gif\n"
     ]
    },
    {
     "data": {
      "image/png": "[encoded data removed]",
      "text/plain": [
       "<Figure size 432x288 with 1 Axes>"
      ]
     },
     "metadata": {
      "needs_background": "light"
     },
     "output_type": "display_data"
    },
    {
     "name": "stdout",
     "output_type": "stream",
     "text": [
      "2\n",
      "/home/user/Robotics/slip_detection_model/slip_detection_model/manual_data_models/models/conv_model_002/210/pp_groundtruth_data_feature_2.gif\n"
     ]
    },
    {
     "data": {
      "image/png": "[encoded data removed]",
      "text/plain": [
       "<Figure size 432x288 with 1 Axes>"
      ]
     },
     "metadata": {
      "needs_background": "light"
     },
     "output_type": "display_data"
    },
    {
     "name": "stdout",
     "output_type": "stream",
     "text": [
      "3\n"
     ]
    }
   ],
   "source": [
    "import matplotlib\n",
    "import matplotlib.animation as animation\n",
    "import mpl_toolkits.mplot3d.axes3d as p3\n",
    "from matplotlib import pyplot as plt\n",
    "from matplotlib.animation import FuncAnimation\n",
    "import mpl_toolkits.mplot3d.art3d as art3d\n",
    "from scipy.ndimage.interpolation import map_coordinates\n",
    "\n",
    "# calculate tactile values for full sample:\n",
    "time_step_to_test_t1 = 0    # [batch_set, prediction frames(t1->tx)(6), batch_size, features(48)]\n",
    "time_step_to_test_t5 = 4\n",
    "time_step_to_test_t10 = 9\n",
    "predicted_data_t1 = []\n",
    "predicted_data_t5 = []\n",
    "predicted_data_t10 = []\n",
    "groundtruth_data = []\n",
    "experiment_to_test = 210\n",
    "for index, batch_set in enumerate(tactile_predictions):\n",
    "    for batch in range(0, len(batch_set[0])):\n",
    "        experiment = experiment_time_steps[index][0][batch][0]\n",
    "#         print(experiment)\n",
    "        if experiment == experiment_to_test:\n",
    "            prediction_values = batch_set[time_step_to_test_t1][batch]\n",
    "            predicted_data_t1.append(prediction_values)\n",
    "            prediction_values = batch_set[time_step_to_test_t5][batch]\n",
    "            predicted_data_t5.append(prediction_values)\n",
    "            prediction_values = batch_set[time_step_to_test_t10][batch]\n",
    "            predicted_data_t10.append(prediction_values)\n",
    "            gt_values = tactile_groundtruth[index][time_step_to_test_t1][batch]\n",
    "            groundtruth_data.append(gt_values)\n",
    "\n",
    "# mse_loss = torch.nn.MSELoss()\n",
    "# print(\"MAE timestep + 1: \", np.mean(np.asarray([mse_loss(np.asarray(pred.cpu().detach()), np.asarray(gt.cpu().detach()))  for pred, gt in zip(predicted_data_t1, groundtruth_data)])))\n",
    "# print(\"MAE timestep + 5: \", mse_loss(torch.tensor(predicted_data_t5), torch.tensor(groundtruth_data)))\n",
    "# print(\"MAE timestep + 10: \", mse_loss(torch.tensor(predicted_data_t10), torch.tensor(groundtruth_data)))\n",
    "# model_path = \"/home/user/Robotics/slip_detection_model/slip_detection_model/manual_data_models/models/conv_model_001/\"\n",
    "class image_player():\n",
    "    def __init__(self, images, save_name, feature):\n",
    "        self.feature = feature\n",
    "        self.save_name = save_name\n",
    "        print(model_path + str(experiment_to_test) + '/' + self.save_name + '_feature_' + str(self.feature) + '.gif')\n",
    "        self.run_the_tape(images)\n",
    "\n",
    "    def grab_frame(self):\n",
    "#         print(self.indexyyy,  end=\"\\r\")\n",
    "#         print(self.images[0].shape)\n",
    "        frame = self.images[self.indexyyy].permute(1,2,0).cpu().detach().numpy()[:,:,self.feature]*255\n",
    "        return frame\n",
    "\n",
    "    def update(self, i):\n",
    "        plt.title(i)\n",
    "        self.im1.set_data(self.grab_frame())\n",
    "        self.indexyyy+=1\n",
    "        if self.indexyyy == len(self.images):\n",
    "            self.indexyyy = 0\n",
    "\n",
    "    def run_the_tape(self, images):\n",
    "        self.indexyyy = 0\n",
    "        self.images = images\n",
    "        ax1 = plt.subplot(1,2,1)\n",
    "        self.im1 = ax1.imshow(self.grab_frame(), cmap='gray', vmin=0, vmax=255)\n",
    "        ani = FuncAnimation(plt.gcf(), self.update, interval=20.8, save_count=len(images), repeat=False)\n",
    "        ani.save(model_path + str(experiment_to_test) + '/' + self.save_name + '_feature_' + str(self.feature) + '.gif')\n",
    "        plt.show()\n",
    "\n",
    "image_player(predicted_data_t1, \"pp_predicted_data_t1\", 0)\n",
    "print('1')\n",
    "image_player(predicted_data_t1, \"pp_predicted_data_t1\", 1)\n",
    "print('2')\n",
    "image_player(predicted_data_t1, \"pp_predicted_data_t1\", 2)\n",
    "print('3')\n",
    "image_player(predicted_data_t5, \"pp_predicted_data_t5\", 0)\n",
    "print('4')\n",
    "image_player(predicted_data_t5, \"pp_predicted_data_t5\", 1)\n",
    "print('5')\n",
    "image_player(predicted_data_t5, \"pp_predicted_data_t5\", 2)\n",
    "print('6')\n",
    "image_player(predicted_data_t10, \"pp_predicted_data_t10\", 0)\n",
    "print('7')\n",
    "image_player(predicted_data_t10, \"pp_predicted_data_t10\", 1)\n",
    "print('8')\n",
    "image_player(predicted_data_t10, \"pp_predicted_data_t10\", 2)\n",
    "print('9')\n",
    "image_player(groundtruth_data, \"pp_groundtruth_data\", 0)\n",
    "print('1')\n",
    "image_player(groundtruth_data, \"pp_groundtruth_data\", 1)\n",
    "print('2')\n",
    "image_player(groundtruth_data, \"pp_groundtruth_data\", 2)\n",
    "print('3')\n",
    "\n",
    "#save numpy arrays for later analysis:\n",
    "np_to_save = []\n",
    "np_predicted_data_t1 = []\n",
    "np_predicted_data_t5 = []\n",
    "np_predicted_data_t10 = []\n",
    "np_groundtruth_data = []\n",
    "for i in range(0, len(predicted_data_t1)):\n",
    "    np_predicted_data_t1.append(predicted_data_t1[i].permute(1,2,0).cpu().detach().numpy())\n",
    "    np_predicted_data_t5.append(predicted_data_t5[i].permute(1,2,0).cpu().detach().numpy())\n",
    "    np_predicted_data_t10.append(predicted_data_t10[i].permute(1,2,0).cpu().detach().numpy())\n",
    "    np_groundtruth_data.append(groundtruth_data[i].permute(1,2,0).cpu().detach().numpy())\n",
    "np.save(model_path + str(experiment_to_test) + '/pp_np_predicted_data_t1_conv_model', np.asarray(np_predicted_data_t1))\n",
    "np.save(model_path + str(experiment_to_test) + '/pp_np_predicted_data_t5_conv_model', np.asarray(np_predicted_data_t5))\n",
    "np.save(model_path + str(experiment_to_test) + '/pp_np_predicted_data_t10_conv_model', np.asarray(np_predicted_data_t10))\n",
    "np.save(model_path + str(experiment_to_test) + '/pp_np_groundtruth_data_conv_model', np.asarray(np_groundtruth_data))"
   ]
  },
  {
   "cell_type": "code",
   "execution_count": null,
   "id": "missing-clearing",
   "metadata": {},
   "outputs": [],
   "source": [
    "# test model on the full test sample:\n",
    "model = torch.load(model_path + \"conv_model\")\n",
    "model.eval()\n",
    "\n",
    "train_full_loader, valid_full_loader, test_full_loader = BG.load_full_data()\n",
    "\n",
    "\n",
    "\n",
    "\n",
    "# model = MT.strongest_model\n",
    "\n",
    "criterion1 = nn.L1Loss()\n",
    "criterion2 = nn.MSELoss()\n",
    "\n",
    "test_lossesMAE_t1 = 0.0\n",
    "test_lossesMSE_t1 = 0.0\n",
    "test_lossesMAE_t5 = 0.0\n",
    "test_lossesMSE_t5 = 0.0\n",
    "test_lossesMAE_t10 = 0.0\n",
    "test_lossesMSE_t10 = 0.0\n",
    "\n",
    "tactile_predictions = []\n",
    "tactile_groundtruth = []\n",
    "experiment_time_steps = []\n",
    "test_lossesMAE = 0.0\n",
    "test_lossesMSE = 0.0\n",
    "with torch.no_grad():\n",
    "    for index__, batch_features in enumerate(MT.test_full_loader):\n",
    "        # 2. Reshape data and send to device:\n",
    "        action = batch_features[0].squeeze().permute(1,0,2).to(device)\n",
    "        tactile = batch_features[1].permute(1,0,2).to(device)\n",
    "        tactilederiv1 = batch_features[2].permute(1,0,2).to(device)\n",
    "        tactilederiv2 = batch_features[3].permute(1,0,2).to(device)\n",
    "        tp = model.forward(tactiles=tactile, actions=action, tac_deriv1=tactilederiv1, tac_deriv2=tactilederiv2) # Step 3. Run our forward pass.\n",
    "        experiment_time_steps.append([batch_features[-2], batch_features[-1]])\n",
    "        tp = tp[:,:,:48]\n",
    "        ############ RESCALE THE DATA HERE ################\n",
    "        ############ RESCALE THE DATA HERE ################\n",
    "        ############ RESCALE THE DATA HERE ################\n",
    "        ############ RESCALE THE DATA HERE ################\n",
    "        tp_back_scaled = []\n",
    "        tg_back_scaled = []\n",
    "        for i in range(len(tp)):\n",
    "            if scale_together == False:\n",
    "                # tp:\n",
    "                (tpx, tpy, tpz) = np.split(tp[i].cpu().detach(), 3, axis=1)\n",
    "                xela_x_inverse_minmax = min_max_scalerx_full_data.inverse_transform(tpx)\n",
    "                xela_y_inverse_minmax = min_max_scalery_full_data.inverse_transform(tpy)\n",
    "                xela_z_inverse_minmax = min_max_scalerz_full_data.inverse_transform(tpz)\n",
    "                xela_x_inverse_full = scaler_tx.inverse_transform(xela_x_inverse_minmax)\n",
    "                xela_y_inverse_full = scaler_ty.inverse_transform(xela_y_inverse_minmax)\n",
    "                xela_z_inverse_full = scaler_tz.inverse_transform(xela_z_inverse_minmax)\n",
    "                tp_back_scaled.append(np.concatenate((xela_x_inverse_full,\n",
    "                                                     xela_y_inverse_full,\n",
    "                                                     xela_z_inverse_full), axis=1))\n",
    "                # tg:\n",
    "                (tpx, tpy, tpz) = np.split(tactile[context_frames:][i].cpu().detach(), 3, axis=1)\n",
    "                xela_x_inverse_minmax = min_max_scalerx_full_data.inverse_transform(tpx)\n",
    "                xela_y_inverse_minmax = min_max_scalery_full_data.inverse_transform(tpy)\n",
    "                xela_z_inverse_minmax = min_max_scalerz_full_data.inverse_transform(tpz)\n",
    "                xela_x_inverse_full = scaler_tx.inverse_transform(xela_x_inverse_minmax)\n",
    "                xela_y_inverse_full = scaler_ty.inverse_transform(xela_y_inverse_minmax)\n",
    "                xela_z_inverse_full = scaler_tz.inverse_transform(xela_z_inverse_minmax)\n",
    "                tg_back_scaled.append(np.concatenate((xela_x_inverse_full,\n",
    "                                                     xela_y_inverse_full,\n",
    "                                                     xela_z_inverse_full), axis=1))\n",
    "            else:            \n",
    "                tactile_prediction_decoded = min_max_scaler_xela_sensor1_principle_components.inverse_transform(tp[i].cpu().detach())\n",
    "                # tactile_prediction_decoded = pca.inverse_transform(tactile_prediction_decoded)\n",
    "                tp_back_scaled.append(scaler_full.inverse_transform(tactile_prediction_decoded))\n",
    "                tactile_gt_decoded = min_max_scaler_xela_sensor1_principle_components.inverse_transform(tactile[context_frames:][i].cpu().detach())\n",
    "                # tactile_gt_decoded = pca.inverse_transform(tactile_gt_decoded)\n",
    "                tg_back_scaled.append(scaler_full.inverse_transform(tactile_gt_decoded))\n",
    "\n",
    "        tp_back_scaled = torch.from_numpy(np.asarray(tp_back_scaled))\n",
    "        tg_back_scaled = torch.from_numpy(np.asarray(tg_back_scaled))\n",
    "        ############ RESCALE THE DATA HERE ################\n",
    "        ############ RESCALE THE DATA HERE ################\n",
    "        ############ RESCALE THE DATA HERE ################\n",
    "        ############ RESCALE THE DATA HERE ################\n",
    "        \n",
    "        tactile_predictions.append(tp_back_scaled)  # Step 3. Run our forward pass.\n",
    "        tactile_groundtruth.append(tg_back_scaled)\n",
    "        # calculate losses for specific timesteps\n",
    "        test_lossesMAE += criterion1(tp_back_scaled, tg_back_scaled).item()\n",
    "        test_lossesMSE += criterion2(tp_back_scaled, tg_back_scaled).item()\n",
    "        test_lossMAE_t1 = criterion1(tp_back_scaled[0,:,:], tg_back_scaled[0,:,:])\n",
    "        test_lossesMAE_t1 += test_lossMAE_t1.item()\n",
    "        test_lossMSE_t1 = criterion2(tp_back_scaled[0,:,:], tg_back_scaled[0,:,:])\n",
    "        test_lossesMSE_t1 += test_lossMSE_t1.item()\n",
    "        test_lossMAE_t5 = criterion1(tp_back_scaled[4,:,:], tg_back_scaled[4,:,:])\n",
    "        test_lossesMAE_t5 += test_lossMAE_t5.item()\n",
    "        test_lossMSE_t5 = criterion2(tp_back_scaled[4,:,:], tg_back_scaled[4,:,:])\n",
    "        test_lossesMSE_t5 += test_lossMSE_t5.item()\n",
    "        test_lossMAE_t10 = criterion1(tp_back_scaled[9,:,:], tg_back_scaled[9,:,:])\n",
    "        test_lossesMAE_t10 += test_lossMAE_t10.item()\n",
    "        test_lossMSE_t10 = criterion2(tp_back_scaled[9,:,:], tg_back_scaled[9,:,:])\n",
    "        test_lossesMSE_t10 += test_lossMSE_t10.item()\n",
    "\n",
    "performance_data = []\n",
    "performance_data.append([\"test loss MAE(L1): \", (test_lossesMAE / index__)])\n",
    "performance_data.append([\"test loss MSE: \", (test_lossesMSE / index__)])\n",
    "performance_data.append([\"test loss MAE(L1) timestep 1: \", (test_lossesMAE_t1 / index__)])\n",
    "performance_data.append([\"test loss MSE timestep 1: \", (test_lossesMSE_t1 / index__)])\n",
    "performance_data.append([\"test loss MAE(L1) timestep 5: \", (test_lossesMAE_t5 / index__)])\n",
    "performance_data.append([\"test loss MSE timestep 5: \", (test_lossesMSE_t5 / index__)])\n",
    "performance_data.append([\"test loss MAE(L1) timestep 9: \", (test_lossesMAE_t10 / index__)])\n",
    "performance_data.append([\"test loss MSE timestep 9: \", (test_lossesMSE_t10 / index__)])\n",
    "[print(i) for i in performance_data]\n",
    "\n",
    "np.save(model_path + 'concat_td1skip_fixed_euler_performance_data', np.asarray(performance_data))\n",
    "\n",
    "# calculate tactile values for full sample:\n",
    "time_step_to_test_t1 = 0    # [batch_set, prediction frames(t1->tx)(6), batch_size, features(48)]\n",
    "time_step_to_test_t9 = 5\n",
    "predicted_data_t1 = []\n",
    "predicted_data_t9 = []\n",
    "groundtruth_data = []\n",
    "for index, batch_set in enumerate(tactile_predictions):\n",
    "    for batch in range(0, len(batch_set[0])):\n",
    "        prediction_values = batch_set[time_step_to_test_t1][batch]\n",
    "        predicted_data_t1.append(prediction_values)\n",
    "        prediction_values = batch_set[time_step_to_test_t9][batch]\n",
    "        predicted_data_t9.append(prediction_values)\n",
    "        gt_values = tactile_groundtruth[index][time_step_to_test_t1][batch]\n",
    "        groundtruth_data.append(gt_values)  \n",
    "print(\"done\")"
   ]
  },
  {
   "cell_type": "code",
   "execution_count": null,
   "id": "speaking-exchange",
   "metadata": {},
   "outputs": [],
   "source": []
  }
 ],
 "metadata": {
  "kernelspec": {
   "display_name": "venv",
   "language": "python",
   "name": "venv"
  },
  "language_info": {
   "codemirror_mode": {
    "name": "ipython",
    "version": 3
   },
   "file_extension": ".py",
   "mimetype": "text/x-python",
   "name": "python",
   "nbconvert_exporter": "python",
   "pygments_lexer": "ipython3",
   "version": "3.6.9"
  }
 },
 "nbformat": 4,
 "nbformat_minor": 5
}

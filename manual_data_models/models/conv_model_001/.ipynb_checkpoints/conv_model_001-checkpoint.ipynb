{
 "cells": [
  {
   "cell_type": "code",
   "execution_count": 1,
   "id": "golden-forum",
   "metadata": {},
   "outputs": [],
   "source": [
    "# -*- coding: utf-8 -*-\n",
    "import csv\n",
    "import tqdm\n",
    "import copy\n",
    "import click\n",
    "import logging\n",
    "import numpy as np\n",
    "import matplotlib.pyplot as plt\n",
    "from torch.utils.data import Dataset\n",
    "\n",
    "from string import digits\n",
    "\n",
    "import torch\n",
    "import torch.nn as nn\n",
    "import torch.optim as optim\n",
    "import torchvision\n",
    "import torch.nn.functional as F\n",
    "\n",
    "seed = 42\n",
    "epochs = 200\n",
    "batch_size = 128\n",
    "learning_rate = 1e-3\n",
    "context_frames = 10\n",
    "sequence_length = 16\n",
    "lookback = sequence_length\n",
    "\n",
    "context_epochs = 20\n",
    "context_batch_size = 1\n",
    "context_learning_rate = 1e-3\n",
    "context_data_length = 20\n",
    "\n",
    "valid_train_split = 0.8  # precentage of train data from total\n",
    "test_train_split = 0.9  # precentage of train data from total\n",
    "\n",
    "torch.manual_seed(seed)\n",
    "torch.backends.cudnn.benchmark = False\n",
    "torch.backends.cudnn.deterministic = True\n",
    "device = torch.device(\"cuda\" if torch.cuda.is_available() else \"cpu\")#  use gpu if available\n",
    "################################# CHANGE THIS!!!!  #################################\n",
    "model_path = \"/home/user/Robotics/slip_detection_model/slip_detection_model/manual_data_models/models/conv_model_001/\"\n",
    "################################# CHANGE THIS!!!!  #################################\n"
   ]
  },
  {
   "cell_type": "code",
   "execution_count": 2,
   "id": "living-swing",
   "metadata": {},
   "outputs": [],
   "source": [
    "class BatchGenerator:\n",
    "    def __init__(self, data_dir):\n",
    "        self.data_dir = data_dir\n",
    "        data_map = []\n",
    "        with open(data_dir + 'map.csv', 'r') as f:  # rb\n",
    "            reader = csv.reader(f)\n",
    "            for row in reader:\n",
    "                data_map.append(row)\n",
    "\n",
    "        if len(data_map) <= 1: # empty or only header\n",
    "            print(\"No file map found\")\n",
    "            exit()\n",
    "\n",
    "        self.data_map = data_map\n",
    "\n",
    "    def load_full_data(self):\n",
    "        dataset_train = FullDataSet(self.data_dir, self.data_map, type_=\"train\")\n",
    "        dataset_valid = FullDataSet(self.data_dir, self.data_map, type_=\"valid\")\n",
    "        dataset_test = FullDataSet(self.data_dir, self.data_map, type_=\"test\")\n",
    "        transform = torchvision.transforms.Compose([torchvision.transforms.ToTensor()])\n",
    "        train_loader = torch.utils.data.DataLoader(dataset_train, batch_size=batch_size, shuffle=True)\n",
    "        valid_loader = torch.utils.data.DataLoader(dataset_valid, batch_size=batch_size, shuffle=True)\n",
    "        test_loader = torch.utils.data.DataLoader(dataset_test, batch_size=batch_size, shuffle=False)\n",
    "        return train_loader, valid_loader, test_loader\n",
    "\n",
    "class FullDataSet():\n",
    "    def __init__(self, data_dir, data_map, type_=\"train\"):\n",
    "        if type_ == \"train\":\n",
    "            self.samples = data_map[1:int(len(data_map)*test_train_split)]\n",
    "        elif type_ == \"valid\":\n",
    "            self.samples = data_map[int(len(data_map)*(valid_train_split)):int(len(data_map)*test_train_split)]\n",
    "        elif type_ == \"test\":\n",
    "            self.samples = data_map[int(len(data_map)*test_train_split):-1]\n",
    "        data_map = None\n",
    "\n",
    "    def __len__(self):\n",
    "        return len(self.samples)\n",
    "\n",
    "    def __getitem__(self,idx):\n",
    "        value = self.samples[idx]\n",
    "        robot = np.load(data_dir + value[0])\n",
    "        xela1image = np.load(data_dir + value[4])\n",
    "        experiment = np.load(data_dir + value[-2])\n",
    "        time_step  = np.load(data_dir + value[-1])     \n",
    "        return([robot.astype(np.float32),\n",
    "                             xela1image.astype(np.float32),\n",
    "                             experiment,\n",
    "                             time_step])"
   ]
  },
  {
   "cell_type": "code",
   "execution_count": 3,
   "id": "measured-curtis",
   "metadata": {},
   "outputs": [],
   "source": [
    "class ConvLSTMCell(nn.Module):\n",
    "    def __init__(self, input_dim, hidden_dim, kernel_size, bias):\n",
    "        super(ConvLSTMCell, self).__init__()\n",
    "        self.input_dim = input_dim\n",
    "        self.hidden_dim = hidden_dim\n",
    "        self.kernel_size = kernel_size\n",
    "        self.padding = kernel_size[0] // 2, kernel_size[1] // 2\n",
    "        self.bias = bias\n",
    "        self.conv = nn.Conv2d(in_channels=self.input_dim + self.hidden_dim, out_channels=4 * self.hidden_dim,\n",
    "                              kernel_size=self.kernel_size, padding=self.padding, bias=self.bias)\n",
    "\n",
    "    def forward(self, input_tensor, cur_state):\n",
    "        h_cur, c_cur = cur_state\n",
    "        combined = torch.cat([input_tensor, h_cur], dim=1)  # concatenate along channel axis\n",
    "        combined_conv = self.conv(combined)\n",
    "        cc_i, cc_f, cc_o, cc_g = torch.split(combined_conv, self.hidden_dim, dim=1)\n",
    "        i = torch.sigmoid(cc_i)\n",
    "        f = torch.sigmoid(cc_f)\n",
    "        o = torch.sigmoid(cc_o)\n",
    "        g = torch.tanh(cc_g)\n",
    "        c_next = f * c_cur + i * g\n",
    "        h_next = o * torch.tanh(c_next)\n",
    "        return h_next, c_next\n",
    "\n",
    "    def init_hidden(self, batch_size, image_size):\n",
    "        height, width = image_size\n",
    "        return (torch.zeros(batch_size, self.hidden_dim, height, width, device=self.conv.weight.device).to(device),\n",
    "                torch.zeros(batch_size, self.hidden_dim, height, width, device=self.conv.weight.device).to(device))\n",
    "\n",
    "class FullModel(nn.Module):\n",
    "    def __init__(self):\n",
    "        super(FullModel, self).__init__()\n",
    "        self.convlstm1 = ConvLSTMCell(input_dim=3, hidden_dim=12, kernel_size=(5, 5), bias=True).cuda()\n",
    "        self.convlstm2 = ConvLSTMCell(input_dim=24, hidden_dim=3, kernel_size=(5, 5), bias=True).cuda()\n",
    "#         self.conv1     = nn.Conv3d(in_channels=24, out_channels=3, kernel_size=5, \n",
    "#                                    stride=1, padding=2, bias=True)\n",
    "\n",
    "    def tile(self, state_action):\n",
    "        tiled_state_action = torch.zeros(self.batch_size, 12, 32, 32)\n",
    "        for batch in range(self.batch_size):\n",
    "            for index, feature in enumerate(state_action[batch]):\n",
    "                tiled_state_action[batch][index][:] = feature\n",
    "        return tiled_state_action\n",
    "\n",
    "    def forward(self, tactiles, actions):\n",
    "        self.batch_size = actions.shape[1]\n",
    "        state = actions[0]\n",
    "        state.to(device)\n",
    "        batch_size__ = tactiles.shape[1]\n",
    "        hidden_1, cell_1 = self.convlstm1.init_hidden(batch_size=self.batch_size, image_size=(32, 32))\n",
    "        hidden_2, cell_2 = self.convlstm2.init_hidden(batch_size=self.batch_size, image_size=(32, 32))\n",
    "        outputs = []\n",
    "        for index, (sample_tactile, sample_action) in enumerate(zip(tactiles.squeeze(), actions.squeeze())):\n",
    "            sample_tactile.to(device)\n",
    "            sample_action.to(device)\n",
    "            # 2. Run through lstm:\n",
    "            if index > context_frames-1:\n",
    "                hidden_1, cell_1 = self.convlstm1(input_tensor=hidden_2, cur_state=[hidden_1, cell_1])\n",
    "                state_action = torch.cat((state, sample_action), 1)\n",
    "                state_action_tile = self.tile(state_action).to(device)\n",
    "                robot_and_tactile = torch.cat((state_action_tile.squeeze(), hidden_1.squeeze()), 1)\n",
    "                hidden_2, cell_2 = self.convlstm2(input_tensor=robot_and_tactile, cur_state=[hidden_2, cell_2])\n",
    "                outputs.append(hidden_2)\n",
    "            else:\n",
    "                hidden_1, cell_1 = self.convlstm1(input_tensor=sample_tactile, cur_state=[hidden_1, cell_1])\n",
    "                state_action = torch.cat((state, sample_action), 1)\n",
    "                state_action_tile = self.tile(state_action).to(device)\n",
    "                robot_and_tactile = torch.cat((state_action_tile.squeeze(), hidden_1.squeeze()), 1)\n",
    "                hidden_2, cell_2 = self.convlstm2(input_tensor=robot_and_tactile, cur_state=[hidden_2, cell_2])\n",
    "        return torch.stack(outputs)"
   ]
  },
  {
   "cell_type": "code",
   "execution_count": 4,
   "id": "careful-allen",
   "metadata": {},
   "outputs": [],
   "source": [
    "class ModelTrainer:\n",
    "    def __init__(self, data_dir):\n",
    "        self.data_dir = data_dir\n",
    "        self.train_full_loader, self.valid_full_loader, self.test_full_loader = BG.load_full_data()\n",
    "        self.full_model = FullModel()\n",
    "        self.criterion = nn.L1Loss()\n",
    "        self.optimizer = optim.Adam(self.full_model.parameters(), lr=learning_rate)\n",
    "\n",
    "    def train_full_model(self):\n",
    "        best_model_loss_score = 10.0 \n",
    "        self.plot_training_loss = []\n",
    "        self.plot_validation_loss = []\n",
    "        previous_val_mean_loss = 1.0\n",
    "        early_stop_clock = 0\n",
    "        progress_bar = tqdm.tqdm(range(0, epochs), total=(epochs*len(self.train_full_loader)))\n",
    "        mean_test = 0\n",
    "        for epoch in progress_bar:\n",
    "            loss = 0\n",
    "            losses = 0.0\n",
    "            for index, batch_features in enumerate(self.train_full_loader):\n",
    "                action  = batch_features[0].permute(1,0,2).to(device)\n",
    "                tactile = batch_features[1].permute(1,0,4,2,3).to(device)\n",
    "                tactile_predictions = self.full_model.forward(tactiles=tactile, actions=action) # Step 3. Run our forward pass.\n",
    "                self.optimizer.zero_grad()\n",
    "                loss = self.criterion(tactile_predictions.to(device), tactile[context_frames:])\n",
    "                loss.backward()\n",
    "                self.optimizer.step()\n",
    "\n",
    "                losses += loss.item()\n",
    "                if index:\n",
    "                    mean = losses / index\n",
    "                else:\n",
    "                    mean = 0\n",
    "                progress_bar.set_description(\"epoch: {}, \".format(epoch) + \"loss: {:.4f}, \".format(float(loss.item())) + \"mean loss: {:.4f}, \".format(mean))\n",
    "                progress_bar.update()\n",
    "            self.plot_training_loss.append(mean)\n",
    "\n",
    "            val_losses = 0.0\n",
    "            val_loss = 0.0\n",
    "            with torch.no_grad():\n",
    "                for index__, batch_features in enumerate(self.valid_full_loader):\n",
    "                    action = batch_features[0].permute(1,0,2).to(device)\n",
    "                    tactile = batch_features[1].permute(1,0,4,2,3).to(device)\n",
    "                    tactile_predictions = self.full_model.forward(tactiles=tactile, actions=action)  # Step 3. Run our forward pass.\n",
    "                    self.optimizer.zero_grad()\n",
    "                    val_loss = self.criterion(tactile_predictions.to(device), tactile[context_frames:])\n",
    "                    val_losses += val_loss.item()\n",
    "\n",
    "            print(\"Validation mean loss: {:.4f}, \".format(val_losses / index__))\n",
    "            self.plot_validation_loss.append(val_losses / index__)\n",
    "            if previous_val_mean_loss < val_losses / index__:\n",
    "                early_stop_clock +=1\n",
    "                previous_val_mean_loss = val_losses / index__ \n",
    "                if early_stop_clock == 3:\n",
    "                    print(\"Early stopping\")\n",
    "                    break\n",
    "            else:\n",
    "                if (val_losses / index__) < best_model_loss_score:\n",
    "                    self.strongest_model = copy.deepcopy(self.full_model)\n",
    "                early_stop_clock = 0\n",
    "                previous_val_mean_loss = val_losses / index__\n",
    "        plt.plot(self.plot_training_loss, c=\"r\", label=\"train loss MAE\")\n",
    "        plt.plot(self.plot_validation_loss, c='b', label=\"val loss MAE\")\n",
    "        plt.legend(loc=\"upper right\")\n",
    "        plt.savefig(model_path + '/pp_model_training_plot.png', dpi=300)\n",
    "        plt.show()\n",
    "        np.save(model_path + 'pp_training_loss', np.asarray(self.plot_training_loss))\n",
    "        np.save(model_path + 'pp_validation_loss', np.asarray(self.plot_validation_loss))"
   ]
  },
  {
   "cell_type": "code",
   "execution_count": 5,
   "id": "steady-venice",
   "metadata": {},
   "outputs": [
    {
     "name": "stdout",
     "output_type": "stream",
     "text": [
      "done\n"
     ]
    }
   ],
   "source": [
    "data_dir = '/home/user/Robotics/Data_sets/slip_detection/manual_slip_detection/'\n",
    "BG = BatchGenerator(data_dir)\n",
    "print(\"done\")"
   ]
  },
  {
   "cell_type": "code",
   "execution_count": 6,
   "id": "activated-reply",
   "metadata": {},
   "outputs": [
    {
     "name": "stderr",
     "output_type": "stream",
     "text": [
      "epoch: 0, loss: 0.0332, mean loss: 0.0447, :   1%|          | 712/142200 [21:08<1305:49:25, 33.23s/it]"
     ]
    },
    {
     "name": "stdout",
     "output_type": "stream",
     "text": [
      "Validation mean loss: 0.0223, \n"
     ]
    },
    {
     "name": "stderr",
     "output_type": "stream",
     "text": [
      "epoch: 1, loss: 0.0223, mean loss: 0.0234, :   1%|          | 1423/142200 [40:38<50:46:51,  1.30s/it] "
     ]
    },
    {
     "name": "stdout",
     "output_type": "stream",
     "text": [
      "Validation mean loss: 0.0193, \n"
     ]
    },
    {
     "name": "stderr",
     "output_type": "stream",
     "text": [
      "epoch: 2, loss: 0.0198, mean loss: 0.0206, :   2%|▏         | 2134/142200 [1:01:41<50:58:55,  1.31s/it]"
     ]
    },
    {
     "name": "stdout",
     "output_type": "stream",
     "text": [
      "Validation mean loss: 0.0172, \n"
     ]
    },
    {
     "name": "stderr",
     "output_type": "stream",
     "text": [
      "epoch: 3, loss: 0.0180, mean loss: 0.0194, :   2%|▏         | 2845/142200 [1:22:46<50:54:50,  1.32s/it]  "
     ]
    },
    {
     "name": "stdout",
     "output_type": "stream",
     "text": [
      "Validation mean loss: 0.0169, \n"
     ]
    },
    {
     "name": "stderr",
     "output_type": "stream",
     "text": [
      "epoch: 4, loss: 0.0150, mean loss: 0.0186, :   3%|▎         | 3556/142200 [1:43:55<50:08:40,  1.30s/it]  "
     ]
    },
    {
     "name": "stdout",
     "output_type": "stream",
     "text": [
      "Validation mean loss: 0.0151, \n"
     ]
    },
    {
     "name": "stderr",
     "output_type": "stream",
     "text": [
      "epoch: 5, loss: 0.0153, mean loss: 0.0184, :   3%|▎         | 4267/142200 [2:05:04<50:36:02,  1.32s/it]  "
     ]
    },
    {
     "name": "stdout",
     "output_type": "stream",
     "text": [
      "Validation mean loss: 0.0137, \n"
     ]
    },
    {
     "name": "stderr",
     "output_type": "stream",
     "text": [
      "epoch: 6, loss: 0.0191, mean loss: 0.0179, :   4%|▎         | 4978/142200 [2:26:11<50:28:40,  1.32s/it]  "
     ]
    },
    {
     "name": "stdout",
     "output_type": "stream",
     "text": [
      "Validation mean loss: 0.0146, \n"
     ]
    },
    {
     "name": "stderr",
     "output_type": "stream",
     "text": [
      "epoch: 7, loss: 0.0166, mean loss: 0.0175, :   4%|▍         | 5689/142200 [2:47:16<49:45:31,  1.31s/it]  "
     ]
    },
    {
     "name": "stdout",
     "output_type": "stream",
     "text": [
      "Validation mean loss: 0.0138, \n"
     ]
    },
    {
     "name": "stderr",
     "output_type": "stream",
     "text": [
      "epoch: 8, loss: 0.0165, mean loss: 0.0173, :   5%|▍         | 6400/142200 [3:08:19<48:52:56,  1.30s/it]  "
     ]
    },
    {
     "name": "stdout",
     "output_type": "stream",
     "text": [
      "Validation mean loss: 0.0132, \n"
     ]
    },
    {
     "name": "stderr",
     "output_type": "stream",
     "text": [
      "epoch: 9, loss: 0.0209, mean loss: 0.0172, :   5%|▌         | 7111/142200 [3:29:21<49:02:53,  1.31s/it]  "
     ]
    },
    {
     "name": "stdout",
     "output_type": "stream",
     "text": [
      "Validation mean loss: 0.0129, \n"
     ]
    },
    {
     "name": "stderr",
     "output_type": "stream",
     "text": [
      "epoch: 10, loss: 0.0212, mean loss: 0.0168, :   6%|▌         | 7822/142200 [3:50:24<49:42:42,  1.33s/it]  "
     ]
    },
    {
     "name": "stdout",
     "output_type": "stream",
     "text": [
      "Validation mean loss: 0.0127, \n"
     ]
    },
    {
     "name": "stderr",
     "output_type": "stream",
     "text": [
      "epoch: 11, loss: 0.0114, mean loss: 0.0165, :   6%|▌         | 8533/142200 [4:11:26<49:00:18,  1.32s/it]  "
     ]
    },
    {
     "name": "stdout",
     "output_type": "stream",
     "text": [
      "Validation mean loss: 0.0130, \n"
     ]
    },
    {
     "name": "stderr",
     "output_type": "stream",
     "text": [
      "epoch: 12, loss: 0.0142, mean loss: 0.0166, :   7%|▋         | 9244/142200 [4:32:31<48:26:14,  1.31s/it]  "
     ]
    },
    {
     "name": "stdout",
     "output_type": "stream",
     "text": [
      "Validation mean loss: 0.0128, \n"
     ]
    },
    {
     "name": "stderr",
     "output_type": "stream",
     "text": [
      "epoch: 13, loss: 0.0196, mean loss: 0.0164, :   7%|▋         | 9955/142200 [4:53:31<48:15:09,  1.31s/it]  "
     ]
    },
    {
     "name": "stdout",
     "output_type": "stream",
     "text": [
      "Validation mean loss: 0.0148, \n"
     ]
    },
    {
     "name": "stderr",
     "output_type": "stream",
     "text": [
      "epoch: 14, loss: 0.0142, mean loss: 0.0163, :   8%|▊         | 10666/142200 [5:14:31<47:27:15,  1.30s/it] "
     ]
    },
    {
     "name": "stdout",
     "output_type": "stream",
     "text": [
      "Validation mean loss: 0.0130, \n"
     ]
    },
    {
     "name": "stderr",
     "output_type": "stream",
     "text": [
      "epoch: 15, loss: 0.0230, mean loss: 0.0163, :   8%|▊         | 11377/142200 [5:35:36<48:32:47,  1.34s/it]  "
     ]
    },
    {
     "name": "stdout",
     "output_type": "stream",
     "text": [
      "Validation mean loss: 0.0126, \n"
     ]
    },
    {
     "name": "stderr",
     "output_type": "stream",
     "text": [
      "epoch: 16, loss: 0.0129, mean loss: 0.0161, :   9%|▊         | 12088/142200 [5:56:37<47:27:43,  1.31s/it]  "
     ]
    },
    {
     "name": "stdout",
     "output_type": "stream",
     "text": [
      "Validation mean loss: 0.0135, \n"
     ]
    },
    {
     "name": "stderr",
     "output_type": "stream",
     "text": [
      "epoch: 17, loss: 0.0125, mean loss: 0.0160, :   9%|▉         | 12799/142200 [6:17:40<47:17:31,  1.32s/it]  "
     ]
    },
    {
     "name": "stdout",
     "output_type": "stream",
     "text": [
      "Validation mean loss: 0.0121, \n"
     ]
    },
    {
     "name": "stderr",
     "output_type": "stream",
     "text": [
      "epoch: 18, loss: 0.0196, mean loss: 0.0160, :  10%|▉         | 13510/142200 [6:38:43<46:19:38,  1.30s/it]  "
     ]
    },
    {
     "name": "stdout",
     "output_type": "stream",
     "text": [
      "Validation mean loss: 0.0123, \n"
     ]
    },
    {
     "name": "stderr",
     "output_type": "stream",
     "text": [
      "epoch: 19, loss: 0.0160, mean loss: 0.0159, :  10%|█         | 14221/142200 [6:59:46<47:12:31,  1.33s/it]  "
     ]
    },
    {
     "name": "stdout",
     "output_type": "stream",
     "text": [
      "Validation mean loss: 0.0116, \n"
     ]
    },
    {
     "name": "stderr",
     "output_type": "stream",
     "text": [
      "epoch: 20, loss: 0.0133, mean loss: 0.0159, :  11%|█         | 14932/142200 [7:20:48<46:32:01,  1.32s/it]  "
     ]
    },
    {
     "name": "stdout",
     "output_type": "stream",
     "text": [
      "Validation mean loss: 0.0125, \n"
     ]
    },
    {
     "name": "stderr",
     "output_type": "stream",
     "text": [
      "epoch: 21, loss: 0.0143, mean loss: 0.0159, :  11%|█         | 15643/142200 [7:41:50<46:25:43,  1.32s/it]  "
     ]
    },
    {
     "name": "stdout",
     "output_type": "stream",
     "text": [
      "Validation mean loss: 0.0121, \n"
     ]
    },
    {
     "name": "stderr",
     "output_type": "stream",
     "text": [
      "epoch: 22, loss: 0.0177, mean loss: 0.0158, :  12%|█▏        | 16354/142200 [8:02:49<45:22:49,  1.30s/it]  "
     ]
    },
    {
     "name": "stdout",
     "output_type": "stream",
     "text": [
      "Validation mean loss: 0.0117, \n"
     ]
    },
    {
     "name": "stderr",
     "output_type": "stream",
     "text": [
      "epoch: 23, loss: 0.0168, mean loss: 0.0157, :  12%|█▏        | 17065/142200 [8:23:50<45:31:29,  1.31s/it]  "
     ]
    },
    {
     "name": "stdout",
     "output_type": "stream",
     "text": [
      "Validation mean loss: 0.0114, \n"
     ]
    },
    {
     "name": "stderr",
     "output_type": "stream",
     "text": [
      "epoch: 24, loss: 0.0161, mean loss: 0.0157, :  13%|█▎        | 17776/142200 [8:44:52<45:15:11,  1.31s/it]  "
     ]
    },
    {
     "name": "stdout",
     "output_type": "stream",
     "text": [
      "Validation mean loss: 0.0128, \n"
     ]
    },
    {
     "name": "stderr",
     "output_type": "stream",
     "text": [
      "epoch: 25, loss: 0.0117, mean loss: 0.0157, :  13%|█▎        | 18487/142200 [9:05:52<44:55:16,  1.31s/it]  "
     ]
    },
    {
     "name": "stdout",
     "output_type": "stream",
     "text": [
      "Validation mean loss: 0.0115, \n"
     ]
    },
    {
     "name": "stderr",
     "output_type": "stream",
     "text": [
      "epoch: 26, loss: 0.0139, mean loss: 0.0157, :  14%|█▎        | 19198/142200 [9:26:50<44:19:17,  1.30s/it]  "
     ]
    },
    {
     "name": "stdout",
     "output_type": "stream",
     "text": [
      "Validation mean loss: 0.0116, \n"
     ]
    },
    {
     "name": "stderr",
     "output_type": "stream",
     "text": [
      "epoch: 27, loss: 0.0116, mean loss: 0.0156, :  14%|█▍        | 19909/142200 [9:47:53<44:58:31,  1.32s/it]  "
     ]
    },
    {
     "name": "stdout",
     "output_type": "stream",
     "text": [
      "Validation mean loss: 0.0119, \n"
     ]
    },
    {
     "name": "stderr",
     "output_type": "stream",
     "text": [
      "epoch: 28, loss: 0.0234, mean loss: 0.0156, :  15%|█▍        | 20620/142200 [10:08:59<43:56:50,  1.30s/it] "
     ]
    },
    {
     "name": "stdout",
     "output_type": "stream",
     "text": [
      "Validation mean loss: 0.0117, \n"
     ]
    },
    {
     "name": "stderr",
     "output_type": "stream",
     "text": [
      "epoch: 29, loss: 0.0169, mean loss: 0.0156, :  15%|█▌        | 21331/142200 [10:30:02<44:45:45,  1.33s/it]  "
     ]
    },
    {
     "name": "stdout",
     "output_type": "stream",
     "text": [
      "Validation mean loss: 0.0117, \n"
     ]
    },
    {
     "name": "stderr",
     "output_type": "stream",
     "text": [
      "epoch: 30, loss: 0.0158, mean loss: 0.0155, :  16%|█▌        | 22042/142200 [10:51:03<44:24:15,  1.33s/it]  "
     ]
    },
    {
     "name": "stdout",
     "output_type": "stream",
     "text": [
      "Validation mean loss: 0.0117, \n"
     ]
    },
    {
     "name": "stderr",
     "output_type": "stream",
     "text": [
      "epoch: 31, loss: 0.0128, mean loss: 0.0156, :  16%|█▌        | 22753/142200 [11:12:06<43:54:31,  1.32s/it]  "
     ]
    },
    {
     "name": "stdout",
     "output_type": "stream",
     "text": [
      "Validation mean loss: 0.0114, \n"
     ]
    },
    {
     "name": "stderr",
     "output_type": "stream",
     "text": [
      "epoch: 32, loss: 0.0169, mean loss: 0.0155, :  17%|█▋        | 23464/142200 [11:33:06<43:22:35,  1.32s/it]  "
     ]
    },
    {
     "name": "stdout",
     "output_type": "stream",
     "text": [
      "Validation mean loss: 0.0114, \n"
     ]
    },
    {
     "name": "stderr",
     "output_type": "stream",
     "text": [
      "epoch: 33, loss: 0.0150, mean loss: 0.0155, :  17%|█▋        | 24175/142200 [11:54:02<43:06:01,  1.31s/it]  "
     ]
    },
    {
     "name": "stdout",
     "output_type": "stream",
     "text": [
      "Validation mean loss: 0.0110, \n"
     ]
    },
    {
     "name": "stderr",
     "output_type": "stream",
     "text": [
      "epoch: 34, loss: 0.0136, mean loss: 0.0155, :  18%|█▊        | 24886/142200 [12:14:59<43:16:58,  1.33s/it]  "
     ]
    },
    {
     "name": "stdout",
     "output_type": "stream",
     "text": [
      "Validation mean loss: 0.0123, \n"
     ]
    },
    {
     "name": "stderr",
     "output_type": "stream",
     "text": [
      "epoch: 35, loss: 0.0138, mean loss: 0.0154, :  18%|█▊        | 25597/142200 [12:36:01<43:11:34,  1.33s/it]  "
     ]
    },
    {
     "name": "stdout",
     "output_type": "stream",
     "text": [
      "Validation mean loss: 0.0116, \n"
     ]
    },
    {
     "name": "stderr",
     "output_type": "stream",
     "text": [
      "epoch: 36, loss: 0.0165, mean loss: 0.0154, :  19%|█▊        | 26308/142200 [12:56:59<42:53:59,  1.33s/it]  "
     ]
    },
    {
     "name": "stdout",
     "output_type": "stream",
     "text": [
      "Validation mean loss: 0.0114, \n"
     ]
    },
    {
     "name": "stderr",
     "output_type": "stream",
     "text": [
      "epoch: 37, loss: 0.0220, mean loss: 0.0153, :  19%|█▉        | 27019/142200 [13:17:56<41:52:56,  1.31s/it]  "
     ]
    },
    {
     "name": "stdout",
     "output_type": "stream",
     "text": [
      "Validation mean loss: 0.0111, \n"
     ]
    },
    {
     "name": "stderr",
     "output_type": "stream",
     "text": [
      "epoch: 38, loss: 0.0140, mean loss: 0.0153, :  20%|█▉        | 27730/142200 [13:38:55<41:50:33,  1.32s/it]  "
     ]
    },
    {
     "name": "stdout",
     "output_type": "stream",
     "text": [
      "Validation mean loss: 0.0114, \n"
     ]
    },
    {
     "name": "stderr",
     "output_type": "stream",
     "text": [
      "epoch: 39, loss: 0.0154, mean loss: 0.0154, :  20%|██        | 28441/142200 [13:59:55<41:20:44,  1.31s/it]  "
     ]
    },
    {
     "name": "stdout",
     "output_type": "stream",
     "text": [
      "Validation mean loss: 0.0113, \n"
     ]
    },
    {
     "name": "stderr",
     "output_type": "stream",
     "text": [
      "epoch: 40, loss: 0.0163, mean loss: 0.0153, :  21%|██        | 29152/142200 [14:20:56<41:04:59,  1.31s/it]  "
     ]
    },
    {
     "name": "stdout",
     "output_type": "stream",
     "text": [
      "Validation mean loss: 0.0114, \n"
     ]
    },
    {
     "name": "stderr",
     "output_type": "stream",
     "text": [
      "epoch: 41, loss: 0.0164, mean loss: 0.0153, :  21%|██        | 29863/142200 [14:41:55<40:26:42,  1.30s/it]  "
     ]
    },
    {
     "name": "stdout",
     "output_type": "stream",
     "text": [
      "Validation mean loss: 0.0113, \n"
     ]
    },
    {
     "name": "stderr",
     "output_type": "stream",
     "text": [
      "epoch: 42, loss: 0.0145, mean loss: 0.0153, :  22%|██▏       | 30574/142200 [15:02:54<40:07:52,  1.29s/it]  "
     ]
    },
    {
     "name": "stdout",
     "output_type": "stream",
     "text": [
      "Validation mean loss: 0.0114, \n"
     ]
    },
    {
     "name": "stderr",
     "output_type": "stream",
     "text": [
      "epoch: 43, loss: 0.0135, mean loss: 0.0152, :  22%|██▏       | 31285/142200 [15:24:45<39:50:13,  1.29s/it]  "
     ]
    },
    {
     "name": "stdout",
     "output_type": "stream",
     "text": [
      "Validation mean loss: 0.0114, \n"
     ]
    },
    {
     "name": "stderr",
     "output_type": "stream",
     "text": [
      "epoch: 44, loss: 0.0207, mean loss: 0.0152, :   0%|          | 44/142200 [15:47:41<51030:02:49, 1292.30s/it]"
     ]
    },
    {
     "name": "stdout",
     "output_type": "stream",
     "text": [
      "Validation mean loss: 0.0115, \n",
      "Early stopping\n"
     ]
    },
    {
     "name": "stderr",
     "output_type": "stream",
     "text": [
      "\n"
     ]
    },
    {
     "data": {
      "image/png": "[encoded data removed]",
      "text/plain": [
       "<Figure size 432x288 with 1 Axes>"
      ]
     },
     "metadata": {
      "needs_background": "light"
     },
     "output_type": "display_data"
    },
    {
     "name": "stdout",
     "output_type": "stream",
     "text": [
      "finished training\n",
      "saved the model\n"
     ]
    }
   ],
   "source": [
    "MT = ModelTrainer(data_dir)\n",
    "MT.train_full_model()\n",
    "print(\"finished training\")\n",
    "torch.save(MT.strongest_model, model_path + \"pp_full_model\")\n",
    "model = torch.load(model_path + \"pp_full_model\")\n",
    "model.eval()\n",
    "print(\"saved the model\")"
   ]
  },
  {
   "cell_type": "code",
   "execution_count": 19,
   "id": "dynamic-theorem",
   "metadata": {},
   "outputs": [
    {
     "data": {
      "image/png": "[encoded data removed]",
      "text/plain": [
       "<Figure size 432x288 with 1 Axes>"
      ]
     },
     "metadata": {
      "needs_background": "light"
     },
     "output_type": "display_data"
    }
   ],
   "source": [
    "# MT.plot_validation_loss = [0.0455, 0.0253, 0.0231, 0.0223, 0.0215, 0.0208, 0.0204, 0.0199, 0.0194, 0.0190, 0.0185, 0.0182]\n",
    "# MT.plot_training_loss = [0.0245, 0.0214, 0.0245, 0.0170, 0.0169, 0.0161, 0.0167, 0.0162, 0.0144, 0.0152, 0.0159, 0.0176]\n",
    "# plt.plot(MT.plot_training_loss, c=\"r\", label=\"train loss MAE\")\n",
    "# plt.plot(MT.plot_validation_loss, c='b', label=\"val loss MAE\")\n",
    "# plt.legend(loc=\"upper right\")\n",
    "# plt.savefig(model_path + '/model_training_plot.png')\n",
    "# plt.show()\n",
    "# np.save(model_path + 'training_loss', np.asarray(MT.plot_training_loss))\n",
    "# np.save(model_path + 'validation_loss', np.asarray(MT.plot_validation_loss))"
   ]
  },
  {
   "cell_type": "code",
   "execution_count": 7,
   "id": "alternate-article",
   "metadata": {},
   "outputs": [
    {
     "name": "stdout",
     "output_type": "stream",
     "text": [
      "['test loss MAE(L1): ', 0.0]\n",
      "['test loss MSE: ', 0.0]\n",
      "['test loss MAE(L1) timestep 1: ', 0.013539513270818414]\n",
      "['test loss MSE timestep 1: ', 0.0013013524729450555]\n",
      "['test loss MAE(L1) timestep 5: ', nan]\n",
      "['test loss MSE timestep 5: ', nan]\n",
      "['test loss MAE(L1) timestep 10: ', nan]\n",
      "['test loss MSE timestep 10: ', nan]\n",
      "['sheer x test loss MAE(L1): ', 0.013539513270818414]\n",
      "['sheer x test loss MSE: ', 0.0013013524729450555]\n",
      "['sheer y test loss MAE(L1): ', nan]\n",
      "['sheer y test loss MSE: ', nan]\n",
      "['z test loss MAE(L1): ', nan]\n",
      "['z test loss MSE: ', nan]\n",
      "['sheer x test loss MAE(L1) timestep 1: ', 0.005014759874962366]\n",
      "['sheer x test loss MSE timestep 1: ', 0.0002675125321776506]\n",
      "['sheer y test loss MAE(L1) timestep 1: ', nan]\n",
      "['sheer y test loss MSE timestep 1: ', nan]\n",
      "['z test loss MAE(L1) timestep 1: ', nan]\n",
      "['z test loss MSE timestep 1: ', nan]\n",
      "['sheer x test loss MAE(L1) timestep 5: ', 0.012818036959894622]\n",
      "['sheer x test loss MSE timestep 5: ', 0.0010738918108443567]\n",
      "['sheer y test loss MAE(L1) timestep 5: ', nan]\n",
      "['sheer y test loss MSE timestep 5: ', nan]\n",
      "['z test loss MAE(L1) timestep 5: ', nan]\n",
      "['z test loss MSE timestep 5: ', nan]\n",
      "['sheer x test loss MAE(L1) timestep 10: ', 0.021691770400278844]\n",
      "['sheer x test loss MSE timestep 10: ', 0.00249479614389295]\n",
      "['sheer y test loss MAE(L1) timestep 10: ', nan]\n",
      "['sheer y test loss MSE timestep 10: ', nan]\n",
      "['z test loss MAE(L1) timestep 10: ', nan]\n",
      "['z test loss MSE timestep 10: ', nan]\n",
      "done\n"
     ]
    }
   ],
   "source": [
    "# test model on the full test sample:\n",
    "# model = MT.strongest_model\n",
    "data_dir = MT.data_dir\n",
    "\n",
    "criterion1 = nn.L1Loss()\n",
    "criterion2 = nn.MSELoss()\n",
    "\n",
    "test_lossesMAE_x = 0.0\n",
    "test_lossesMSE_x = 0.0\n",
    "test_lossesMAE_y = 0.0\n",
    "test_lossesMSE_y = 0.0\n",
    "test_lossesMAE_z = 0.0\n",
    "test_lossesMSE_z = 0.0\n",
    "\n",
    "test_lossesMAE_t1 = 0.0\n",
    "test_lossesMSE_t1 = 0.0\n",
    "test_lossesMAE_t5 = 0.0\n",
    "test_lossesMSE_t5 = 0.0\n",
    "test_lossesMAE_t10 = 0.0\n",
    "test_lossesMSE_t10 = 0.0\n",
    "\n",
    "test_lossesMAE_x_ts1 = 0.0\n",
    "test_lossesMSE_x_ts1 = 0.0\n",
    "test_lossesMAE_y_ts1 = 0.0\n",
    "test_lossesMSE_y_ts1 = 0.0\n",
    "test_lossesMAE_z_ts1 = 0.0\n",
    "test_lossesMSE_z_ts1 = 0.0\n",
    "\n",
    "test_lossesMAE_x_ts5 = 0.0\n",
    "test_lossesMSE_x_ts5 = 0.0\n",
    "test_lossesMAE_y_ts5 = 0.0\n",
    "test_lossesMSE_y_ts5 = 0.0\n",
    "test_lossesMAE_z_ts5 = 0.0\n",
    "test_lossesMSE_z_ts5 = 0.0\n",
    "\n",
    "test_lossesMAE_x_ts10 = 0.0\n",
    "test_lossesMSE_x_ts10 = 0.0\n",
    "test_lossesMAE_y_ts10 = 0.0\n",
    "test_lossesMSE_y_ts10 = 0.0\n",
    "test_lossesMAE_z_ts10 = 0.0\n",
    "test_lossesMSE_z_ts10 = 0.0\n",
    "\n",
    "tactile_predictions = []\n",
    "tactile_groundtruth = []\n",
    "experiment_time_steps = []\n",
    "test_lossesMAE = 0.0\n",
    "test_lossesMSE = 0.0\n",
    "with torch.no_grad():\n",
    "    for index__, batch_features in enumerate(MT.test_full_loader):\n",
    "        # 2. Reshape data and send to device:                    \n",
    "        action = batch_features[0].permute(1,0,2).to(device)\n",
    "        tactile = batch_features[1].permute(1,0,4,2,3).to(device)\n",
    "\n",
    "        tp = model.forward(tactiles=tactile, actions=action)\n",
    "        experiment_time_steps.append([batch_features[2], batch_features[3]])\n",
    "        tactile_predictions.append(tp)  # Step 3. Run our forward pass.\n",
    "        tactile_groundtruth.append(tactile[context_frames:])\n",
    "        # calculate losses for specific timesteps\n",
    "        test_lossMAE_t1 = criterion1(tp[0,:,:].to(device), tactile[context_frames:][0,:,:])\n",
    "        test_lossesMAE_t1 += test_lossMAE_t1.item() \n",
    "        test_lossMSE_t1 = criterion2(tp[0,:,:].to(device), tactile[context_frames:][0,:,:])\n",
    "        test_lossesMSE_t1 += test_lossMSE_t1.item() \n",
    "        test_lossMAE_t5 = criterion1(tp[4,:,:].to(device), tactile[context_frames:][4,:,:])\n",
    "        test_lossesMAE_t5 += test_lossMAE_t5.item() \n",
    "        test_lossMSE_t5 = criterion2(tp[4,:,:].to(device), tactile[context_frames:][4,:,:])\n",
    "        test_lossesMSE_t5 += test_lossMSE_t5.item() \n",
    "        test_lossMAE_t10 = criterion1(tp[9,:,:].to(device), tactile[context_frames:][9,:,:])\n",
    "        test_lossesMAE_t10 += test_lossMAE_t10.item() \n",
    "        test_lossMSE_t10 = criterion2(tp[9,:,:].to(device), tactile[context_frames:][9,:,:])\n",
    "        test_lossesMSE_t10 += test_lossMSE_t10.item() \n",
    "        \n",
    "        # calculate losses for specific forces\n",
    "        test_lossMAE_x = criterion1(tp[:,:,:16].to(device), tactile[context_frames:][:,:,:16])\n",
    "        test_lossesMAE_x += test_lossMAE_x.item() \n",
    "        test_lossMSE_x = criterion2(tp[:,:,:16].to(device), tactile[context_frames:][:,:,:16])\n",
    "        test_lossesMSE_x += test_lossMSE_x.item() \n",
    "        test_lossMAE_y = criterion1(tp[:,:,17:32].to(device), tactile[context_frames:][:,:,17:32])\n",
    "        test_lossesMAE_y += test_lossMAE_y.item() \n",
    "        test_lossMSE_y = criterion2(tp[:,:,17:32].to(device), tactile[context_frames:][:,:,17:32])\n",
    "        test_lossesMSE_y += test_lossMSE_y.item() \n",
    "        test_lossMAE_z = criterion1(tp[:,:,33:48].to(device), tactile[context_frames:][:,:,33:48])\n",
    "        test_lossesMAE_z += test_lossMAE_z.item() \n",
    "        test_lossMSE_z = criterion2(tp[:,:,33:48].to(device), tactile[context_frames:][:,:,33:48])\n",
    "        test_lossesMSE_z += test_lossMSE_z.item() \n",
    "\n",
    "        # calculate losses for specific timesteps and forces \n",
    "        test_lossMAE_x_ts1 = criterion1(tp[0,:,:16].to(device), tactile[context_frames:][0,:,:16])\n",
    "        test_lossesMAE_x_ts1 += test_lossMAE_x_ts1.item() \n",
    "        test_lossMSE_x_ts1 = criterion2(tp[0,:,:16].to(device), tactile[context_frames:][0,:,:16])\n",
    "        test_lossesMSE_x_ts1 += test_lossMSE_x_ts1.item() \n",
    "        test_lossMAE_y_ts1 = criterion1(tp[0,:,17:32].to(device), tactile[context_frames:][0,:,17:32])\n",
    "        test_lossesMAE_y_ts1 += test_lossMAE_y_ts1.item() \n",
    "        test_lossMSE_y_ts1 = criterion2(tp[0,:,17:32].to(device), tactile[context_frames:][0,:,17:32])\n",
    "        test_lossesMSE_y_ts1 += test_lossMSE_y_ts1.item() \n",
    "        test_lossMAE_z_ts1 = criterion1(tp[0,:,33:48].to(device), tactile[context_frames:][0,:,33:48])\n",
    "        test_lossesMAE_z_ts1 += test_lossMAE_z_ts1.item() \n",
    "        test_lossMSE_z_ts1 = criterion2(tp[0,:,33:48].to(device), tactile[context_frames:][0,:,33:48])\n",
    "        test_lossesMSE_z_ts1 += test_lossMSE_z_ts1.item() \n",
    " \n",
    "        test_lossMAE_x_ts5 = criterion1(tp[4,:,:16].to(device), tactile[context_frames:][4,:,:16])\n",
    "        test_lossesMAE_x_ts5 += test_lossMAE_x_ts5.item() \n",
    "        test_lossMSE_x_ts5 = criterion2(tp[4,:,:16].to(device), tactile[context_frames:][4,:,:16])\n",
    "        test_lossesMSE_x_ts5 += test_lossMSE_x_ts5.item() \n",
    "        test_lossMAE_y_ts5 = criterion1(tp[4,:,17:32].to(device), tactile[context_frames:][4,:,17:32])\n",
    "        test_lossesMAE_y_ts5 += test_lossMAE_y_ts5.item() \n",
    "        test_lossMSE_y_ts5 = criterion2(tp[4,:,17:32].to(device), tactile[context_frames:][4,:,17:32])\n",
    "        test_lossesMSE_y_ts5 += test_lossMSE_y_ts5.item() \n",
    "        test_lossMAE_z_ts5 = criterion1(tp[4,:,33:48].to(device), tactile[context_frames:][4,:,33:48])\n",
    "        test_lossesMAE_z_ts5 += test_lossMAE_z_ts5.item() \n",
    "        test_lossMSE_z_ts5 = criterion2(tp[4,:,33:48].to(device), tactile[context_frames:][4,:,33:48])\n",
    "        test_lossesMSE_z_ts5 += test_lossMSE_z_ts5.item() \n",
    "\n",
    "        test_lossMAE_x_ts10 = criterion1(tp[9,:,:16].to(device), tactile[context_frames:][9,:,:16])\n",
    "        test_lossesMAE_x_ts10 += test_lossMAE_x_ts10.item() \n",
    "        test_lossMSE_x_ts10 = criterion2(tp[9,:,:16].to(device), tactile[context_frames:][9,:,:16])\n",
    "        test_lossesMSE_x_ts10 += test_lossMSE_x_ts10.item() \n",
    "        test_lossMAE_y_ts10 = criterion1(tp[9,:,17:32].to(device), tactile[context_frames:][9,:,17:32])\n",
    "        test_lossesMAE_y_ts10 += test_lossMAE_y_ts10.item() \n",
    "        test_lossMSE_y_ts10 = criterion2(tp[9,:,17:32].to(device), tactile[context_frames:][9,:,17:32])\n",
    "        test_lossesMSE_y_ts10 += test_lossMSE_y_ts10.item() \n",
    "        test_lossMAE_z_ts10 = criterion1(tp[9,:,33:48].to(device), tactile[context_frames:][9,:,33:48])\n",
    "        test_lossesMAE_z_ts10 += test_lossMAE_z_ts10.item() \n",
    "        test_lossMSE_z_ts10 = criterion2(tp[9,:,33:48].to(device), tactile[context_frames:][9,:,33:48])\n",
    "        test_lossesMSE_z_ts10 += test_lossMSE_z_ts10.item()\n",
    "\n",
    "performance_data = []\n",
    "performance_data.append([\"test loss MAE(L1): \", (test_lossesMAE / index__)])\n",
    "performance_data.append([\"test loss MSE: \", (test_lossesMSE / index__)])\n",
    "performance_data.append([\"test loss MAE(L1) timestep 1: \", (test_lossesMAE_x / index__)])\n",
    "performance_data.append([\"test loss MSE timestep 1: \", (test_lossesMSE_x / index__)])\n",
    "performance_data.append([\"test loss MAE(L1) timestep 5: \", (test_lossesMAE_y / index__)])\n",
    "performance_data.append([\"test loss MSE timestep 5: \", (test_lossesMSE_y / index__)])\n",
    "performance_data.append([\"test loss MAE(L1) timestep 10: \", (test_lossesMAE_z / index__)])\n",
    "performance_data.append([\"test loss MSE timestep 10: \", (test_lossesMSE_z / index__)])\n",
    "performance_data.append([\"sheer x test loss MAE(L1): \", (test_lossesMAE_x / index__)])\n",
    "performance_data.append([\"sheer x test loss MSE: \", (test_lossesMSE_x / index__)])\n",
    "performance_data.append([\"sheer y test loss MAE(L1): \", (test_lossesMAE_y / index__)])\n",
    "performance_data.append([\"sheer y test loss MSE: \", (test_lossesMSE_y / index__)])\n",
    "performance_data.append([\"z test loss MAE(L1): \", (test_lossesMAE_z / index__)])\n",
    "performance_data.append([\"z test loss MSE: \", (test_lossesMSE_z / index__)])\n",
    "performance_data.append([\"sheer x test loss MAE(L1) timestep 1: \", (test_lossesMAE_x_ts1 / index__)])\n",
    "performance_data.append([\"sheer x test loss MSE timestep 1: \", (test_lossesMSE_x_ts1 / index__)])\n",
    "performance_data.append([\"sheer y test loss MAE(L1) timestep 1: \", (test_lossesMAE_y_ts1 / index__)])\n",
    "performance_data.append([\"sheer y test loss MSE timestep 1: \", (test_lossesMSE_y_ts1 / index__)])\n",
    "performance_data.append([\"z test loss MAE(L1) timestep 1: \", (test_lossesMAE_z_ts1 / index__)])\n",
    "performance_data.append([\"z test loss MSE timestep 1: \", (test_lossesMSE_z_ts1 / index__)])\n",
    "performance_data.append([\"sheer x test loss MAE(L1) timestep 5: \", (test_lossesMAE_x_ts5 / index__)])\n",
    "performance_data.append([\"sheer x test loss MSE timestep 5: \", (test_lossesMSE_x_ts5 / index__)])\n",
    "performance_data.append([\"sheer y test loss MAE(L1) timestep 5: \", (test_lossesMAE_y_ts5 / index__)])\n",
    "performance_data.append([\"sheer y test loss MSE timestep 5: \", (test_lossesMSE_y_ts5 / index__)])\n",
    "performance_data.append([\"z test loss MAE(L1) timestep 5: \", (test_lossesMAE_z_ts5 / index__)])\n",
    "performance_data.append([\"z test loss MSE timestep 5: \", (test_lossesMSE_z_ts5 / index__)])\n",
    "performance_data.append([\"sheer x test loss MAE(L1) timestep 10: \", (test_lossesMAE_x_ts10 / index__)])\n",
    "performance_data.append([\"sheer x test loss MSE timestep 10: \", (test_lossesMSE_x_ts10 / index__)])\n",
    "performance_data.append([\"sheer y test loss MAE(L1) timestep 10: \", (test_lossesMAE_y_ts10 / index__)])\n",
    "performance_data.append([\"sheer y test loss MSE timestep 10: \", (test_lossesMSE_y_ts10 / index__)])\n",
    "performance_data.append([\"z test loss MAE(L1) timestep 10: \", (test_lossesMAE_z_ts10 / index__)])\n",
    "performance_data.append([\"z test loss MSE timestep 10: \", (test_lossesMSE_z_ts10 / index__)])\n",
    "[print(i) for i in performance_data]\n",
    "\n",
    "np.save(model_path + 'pp_performance_data', np.asarray(performance_data))\n",
    "print(\"done\")"
   ]
  },
  {
   "cell_type": "code",
   "execution_count": 8,
   "id": "written-suicide",
   "metadata": {},
   "outputs": [
    {
     "name": "stdout",
     "output_type": "stream",
     "text": [
      "/home/user/Robotics/slip_detection_model/slip_detection_model/manual_data_models/models/conv_model_001/106/pp_predicted_data_t1_feature_0.gif\n"
     ]
    },
    {
     "data": {
      "image/png": "[encoded data removed]",
      "text/plain": [
       "<Figure size 432x288 with 1 Axes>"
      ]
     },
     "metadata": {
      "needs_background": "light"
     },
     "output_type": "display_data"
    },
    {
     "name": "stdout",
     "output_type": "stream",
     "text": [
      "1\n",
      "/home/user/Robotics/slip_detection_model/slip_detection_model/manual_data_models/models/conv_model_001/106/pp_predicted_data_t1_feature_1.gif\n"
     ]
    },
    {
     "data": {
      "image/png": "[encoded data removed]",
      "text/plain": [
       "<Figure size 432x288 with 1 Axes>"
      ]
     },
     "metadata": {
      "needs_background": "light"
     },
     "output_type": "display_data"
    },
    {
     "name": "stdout",
     "output_type": "stream",
     "text": [
      "2\n",
      "/home/user/Robotics/slip_detection_model/slip_detection_model/manual_data_models/models/conv_model_001/106/pp_predicted_data_t1_feature_2.gif\n"
     ]
    },
    {
     "data": {
      "image/png": "[encoded data removed]",
      "text/plain": [
       "<Figure size 432x288 with 1 Axes>"
      ]
     },
     "metadata": {
      "needs_background": "light"
     },
     "output_type": "display_data"
    },
    {
     "name": "stdout",
     "output_type": "stream",
     "text": [
      "3\n",
      "/home/user/Robotics/slip_detection_model/slip_detection_model/manual_data_models/models/conv_model_001/106/pp_predicted_data_t5_feature_0.gif\n"
     ]
    },
    {
     "data": {
      "image/png": "[encoded data removed]",
      "text/plain": [
       "<Figure size 432x288 with 1 Axes>"
      ]
     },
     "metadata": {
      "needs_background": "light"
     },
     "output_type": "display_data"
    },
    {
     "name": "stdout",
     "output_type": "stream",
     "text": [
      "4\n",
      "/home/user/Robotics/slip_detection_model/slip_detection_model/manual_data_models/models/conv_model_001/106/pp_predicted_data_t5_feature_1.gif\n"
     ]
    },
    {
     "data": {
      "image/png": "[encoded data removed]",
      "text/plain": [
       "<Figure size 432x288 with 1 Axes>"
      ]
     },
     "metadata": {
      "needs_background": "light"
     },
     "output_type": "display_data"
    },
    {
     "name": "stdout",
     "output_type": "stream",
     "text": [
      "5\n",
      "/home/user/Robotics/slip_detection_model/slip_detection_model/manual_data_models/models/conv_model_001/106/pp_predicted_data_t5_feature_2.gif\n"
     ]
    },
    {
     "data": {
      "image/png": "[encoded data removed]",
      "text/plain": [
       "<Figure size 432x288 with 1 Axes>"
      ]
     },
     "metadata": {
      "needs_background": "light"
     },
     "output_type": "display_data"
    },
    {
     "name": "stdout",
     "output_type": "stream",
     "text": [
      "6\n",
      "/home/user/Robotics/slip_detection_model/slip_detection_model/manual_data_models/models/conv_model_001/106/pp_predicted_data_t10_feature_0.gif\n"
     ]
    },
    {
     "data": {
      "image/png": "[encoded data removed]",
      "text/plain": [
       "<Figure size 432x288 with 1 Axes>"
      ]
     },
     "metadata": {
      "needs_background": "light"
     },
     "output_type": "display_data"
    },
    {
     "name": "stdout",
     "output_type": "stream",
     "text": [
      "7\n",
      "/home/user/Robotics/slip_detection_model/slip_detection_model/manual_data_models/models/conv_model_001/106/pp_predicted_data_t10_feature_1.gif\n"
     ]
    },
    {
     "data": {
      "image/png": "[encoded data removed]",
      "text/plain": [
       "<Figure size 432x288 with 1 Axes>"
      ]
     },
     "metadata": {
      "needs_background": "light"
     },
     "output_type": "display_data"
    },
    {
     "name": "stdout",
     "output_type": "stream",
     "text": [
      "8\n",
      "/home/user/Robotics/slip_detection_model/slip_detection_model/manual_data_models/models/conv_model_001/106/pp_predicted_data_t10_feature_2.gif\n"
     ]
    },
    {
     "data": {
      "image/png": "[encoded data removed]",
      "text/plain": [
       "<Figure size 432x288 with 1 Axes>"
      ]
     },
     "metadata": {
      "needs_background": "light"
     },
     "output_type": "display_data"
    },
    {
     "name": "stdout",
     "output_type": "stream",
     "text": [
      "9\n",
      "/home/user/Robotics/slip_detection_model/slip_detection_model/manual_data_models/models/conv_model_001/106/pp_groundtruth_data_feature_0.gif\n"
     ]
    },
    {
     "data": {
      "image/png": "[encoded data removed]",
      "text/plain": [
       "<Figure size 432x288 with 1 Axes>"
      ]
     },
     "metadata": {
      "needs_background": "light"
     },
     "output_type": "display_data"
    },
    {
     "name": "stdout",
     "output_type": "stream",
     "text": [
      "1\n",
      "/home/user/Robotics/slip_detection_model/slip_detection_model/manual_data_models/models/conv_model_001/106/pp_groundtruth_data_feature_1.gif\n"
     ]
    },
    {
     "data": {
      "image/png": "[encoded data removed]",
      "text/plain": [
       "<Figure size 432x288 with 1 Axes>"
      ]
     },
     "metadata": {
      "needs_background": "light"
     },
     "output_type": "display_data"
    },
    {
     "name": "stdout",
     "output_type": "stream",
     "text": [
      "2\n",
      "/home/user/Robotics/slip_detection_model/slip_detection_model/manual_data_models/models/conv_model_001/106/pp_groundtruth_data_feature_2.gif\n"
     ]
    },
    {
     "data": {
      "image/png": "[encoded data removed]",
      "text/plain": [
       "<Figure size 432x288 with 1 Axes>"
      ]
     },
     "metadata": {
      "needs_background": "light"
     },
     "output_type": "display_data"
    },
    {
     "name": "stdout",
     "output_type": "stream",
     "text": [
      "3\n"
     ]
    }
   ],
   "source": [
    "import matplotlib\n",
    "import matplotlib.animation as animation\n",
    "import mpl_toolkits.mplot3d.axes3d as p3\n",
    "from matplotlib import pyplot as plt\n",
    "from matplotlib.animation import FuncAnimation\n",
    "import mpl_toolkits.mplot3d.art3d as art3d\n",
    "from scipy.ndimage.interpolation import map_coordinates\n",
    "\n",
    "# calculate tactile values for full sample:\n",
    "time_step_to_test_t1 = 0    # [batch_set, prediction frames(t1->tx)(6), batch_size, features(48)]\n",
    "time_step_to_test_t5 = 4\n",
    "time_step_to_test_t10 = 9\n",
    "predicted_data_t1 = []\n",
    "predicted_data_t5 = []\n",
    "predicted_data_t10 = []\n",
    "groundtruth_data = []\n",
    "experiment_to_test = 106\n",
    "for index, batch_set in enumerate(tactile_predictions):\n",
    "    for batch in range(0, len(batch_set[0])):\n",
    "        experiment = experiment_time_steps[index][0][batch][0]\n",
    "#         print(experiment)\n",
    "        if experiment == experiment_to_test:\n",
    "            prediction_values = batch_set[time_step_to_test_t1][batch]\n",
    "            predicted_data_t1.append(prediction_values)\n",
    "            prediction_values = batch_set[time_step_to_test_t5][batch]\n",
    "            predicted_data_t5.append(prediction_values)\n",
    "            prediction_values = batch_set[time_step_to_test_t10][batch]\n",
    "            predicted_data_t10.append(prediction_values)\n",
    "            gt_values = tactile_groundtruth[index][time_step_to_test_t1][batch]\n",
    "            groundtruth_data.append(gt_values)\n",
    "\n",
    "# mse_loss = torch.nn.MSELoss()\n",
    "# print(\"MAE timestep + 1: \", np.mean(np.asarray([mse_loss(np.asarray(pred.cpu().detach()), np.asarray(gt.cpu().detach()))  for pred, gt in zip(predicted_data_t1, groundtruth_data)])))\n",
    "# print(\"MAE timestep + 5: \", mse_loss(torch.tensor(predicted_data_t5), torch.tensor(groundtruth_data)))\n",
    "# print(\"MAE timestep + 10: \", mse_loss(torch.tensor(predicted_data_t10), torch.tensor(groundtruth_data)))\n",
    "# model_path = \"/home/user/Robotics/slip_detection_model/slip_detection_model/manual_data_models/models/conv_model_001/\"\n",
    "class image_player():\n",
    "    def __init__(self, images, save_name, feature):\n",
    "        self.feature = feature\n",
    "        self.save_name = save_name\n",
    "        print(model_path + str(experiment_to_test) + '/' + self.save_name + '_feature_' + str(self.feature) + '.gif')\n",
    "        self.run_the_tape(images)\n",
    "\n",
    "    def grab_frame(self):\n",
    "#         print(self.indexyyy,  end=\"\\r\")\n",
    "        frame = self.images[self.indexyyy].permute(1,2,0).cpu().detach().numpy()[:,:,self.feature]*255\n",
    "        return frame\n",
    "\n",
    "    def update(self, i):\n",
    "        plt.title(i)\n",
    "        self.im1.set_data(self.grab_frame())\n",
    "        self.indexyyy+=1\n",
    "        if self.indexyyy == len(self.images):\n",
    "            self.indexyyy = 0\n",
    "\n",
    "    def run_the_tape(self, images):\n",
    "        self.indexyyy = 0\n",
    "        self.images = images\n",
    "        ax1 = plt.subplot(1,2,1)\n",
    "        self.im1 = ax1.imshow(self.grab_frame(), cmap='gray', vmin=0, vmax=255)\n",
    "        ani = FuncAnimation(plt.gcf(), self.update, interval=20.8, save_count=len(images), repeat=False)\n",
    "        ani.save(model_path + str(experiment_to_test) + '/' + self.save_name + '_feature_' + str(self.feature) + '.gif')\n",
    "        plt.show()\n",
    "\n",
    "image_player(predicted_data_t1, \"pp_predicted_data_t1\", 0)\n",
    "print('1')\n",
    "image_player(predicted_data_t1, \"pp_predicted_data_t1\", 1)\n",
    "print('2')\n",
    "image_player(predicted_data_t1, \"pp_predicted_data_t1\", 2)\n",
    "print('3')\n",
    "image_player(predicted_data_t5, \"pp_predicted_data_t5\", 0)\n",
    "print('4')\n",
    "image_player(predicted_data_t5, \"pp_predicted_data_t5\", 1)\n",
    "print('5')\n",
    "image_player(predicted_data_t5, \"pp_predicted_data_t5\", 2)\n",
    "print('6')\n",
    "image_player(predicted_data_t10, \"pp_predicted_data_t10\", 0)\n",
    "print('7')\n",
    "image_player(predicted_data_t10, \"pp_predicted_data_t10\", 1)\n",
    "print('8')\n",
    "image_player(predicted_data_t10, \"pp_predicted_data_t10\", 2)\n",
    "print('9')\n",
    "image_player(groundtruth_data, \"pp_groundtruth_data\", 0)\n",
    "print('1')\n",
    "image_player(groundtruth_data, \"pp_groundtruth_data\", 1)\n",
    "print('2')\n",
    "image_player(groundtruth_data, \"pp_groundtruth_data\", 2)\n",
    "print('3')\n",
    "\n",
    "#save numpy arrays for later analysis:\n",
    "np_to_save = []\n",
    "np_predicted_data_t1 = []\n",
    "np_predicted_data_t5 = []\n",
    "np_predicted_data_t10 = []\n",
    "np_groundtruth_data = []\n",
    "for i in range(0, len(predicted_data_t1)):\n",
    "    np_predicted_data_t1.append(predicted_data_t1[i].permute(1,2,0).cpu().detach().numpy())\n",
    "    np_predicted_data_t5.append(predicted_data_t5[i].permute(1,2,0).cpu().detach().numpy())\n",
    "    np_predicted_data_t10.append(predicted_data_t10[i].permute(1,2,0).cpu().detach().numpy())\n",
    "    np_groundtruth_data.append(groundtruth_data[i].permute(1,2,0).cpu().detach().numpy())\n",
    "np.save(model_path + str(experiment_to_test) + '/pp_np_predicted_data_t1', np.asarray(np_predicted_data_t1))\n",
    "np.save(model_path + str(experiment_to_test) + '/pp_np_predicted_data_t5', np.asarray(np_predicted_data_t5))\n",
    "np.save(model_path + str(experiment_to_test) + '/pp_np_predicted_data_t10', np.asarray(np_predicted_data_t10))\n",
    "np.save(model_path + str(experiment_to_test) + '/pp_np_groundtruth_data', np.asarray(np_groundtruth_data))"
   ]
  },
  {
   "cell_type": "code",
   "execution_count": 9,
   "id": "velvet-complement",
   "metadata": {},
   "outputs": [
    {
     "data": {
      "text/plain": [
       "FullModel(\n",
       "  (convlstm1): ConvLSTMCell(\n",
       "    (conv): Conv2d(15, 48, kernel_size=(5, 5), stride=(1, 1), padding=(2, 2))\n",
       "  )\n",
       "  (convlstm2): ConvLSTMCell(\n",
       "    (conv): Conv2d(27, 12, kernel_size=(5, 5), stride=(1, 1), padding=(2, 2))\n",
       "  )\n",
       ")"
      ]
     },
     "execution_count": 9,
     "metadata": {},
     "output_type": "execute_result"
    }
   ],
   "source": [
    "data_dir = '/home/user/Robotics/Data_sets/slip_detection/manual_slip_detection/'\n",
    "BG = BatchGenerator(data_dir)\n",
    "train_full_loader, valid_full_loader, test_full_loader = BG.load_full_data()\n",
    "model = torch.load(model_path + \"full_model\")\n",
    "model.eval()"
   ]
  },
  {
   "cell_type": "code",
   "execution_count": 12,
   "id": "inside-bobby",
   "metadata": {},
   "outputs": [],
   "source": [
    "# test model on the full test sample:\n",
    "# model = MT.strongest_model\n",
    "criterion1 = nn.L1Loss()\n",
    "criterion2 = nn.MSELoss()\n",
    "tactile_predictions = []\n",
    "tactile_groundtruth = []\n",
    "experiment_time_steps = []\n",
    "test_lossesMAE = 0.0\n",
    "test_lossesMSE = 0.0\n",
    "experiment_to_test = 106\n",
    "with torch.no_grad():\n",
    "    for index__, batch_features in enumerate(test_full_loader):\n",
    "        # 2. Reshape data and send to device:                    \n",
    "        action = batch_features[0].permute(1,0,2).to(device)\n",
    "        tactile = batch_features[1].permute(1,0,4,2,3).to(device)\n",
    "\n",
    "        experiment = batch_features[2][0][0]\n",
    "        if experiment == experiment_to_test:\n",
    "            tp = model.forward(tactiles=tactile, actions=action)\n",
    "            experiment_time_steps.append([batch_features[2], batch_features[3]])\n",
    "            tactile_predictions.append(tp)  # Step 3. Run our forward pass.\n",
    "            tactile_groundtruth.append(tactile[context_frames:])"
   ]
  },
  {
   "cell_type": "code",
   "execution_count": 63,
   "id": "pediatric-thong",
   "metadata": {},
   "outputs": [
    {
     "name": "stdout",
     "output_type": "stream",
     "text": [
      "tensor([188, 189, 190, 191, 192, 193, 194, 195, 196, 197, 198, 199, 200, 201,\n",
      "        202, 203, 204, 205, 206, 207])\n",
      "188\n",
      "/home/user/Robotics/slip_detection_model/slip_detection_model/manual_data_models/models/conv_model_001/106/image_x_prediction_sequence.gif\n"
     ]
    },
    {
     "data": {
      "image/png": "[encoded data removed]",
      "text/plain": [
       "<Figure size 432x288 with 1 Axes>"
      ]
     },
     "metadata": {
      "needs_background": "light"
     },
     "output_type": "display_data"
    },
    {
     "name": "stdout",
     "output_type": "stream",
     "text": [
      "/home/user/Robotics/slip_detection_model/slip_detection_model/manual_data_models/models/conv_model_001/106/image_y_prediction_sequence.gif\n"
     ]
    },
    {
     "data": {
      "image/png": "[encoded data removed]",
      "text/plain": [
       "<Figure size 432x288 with 1 Axes>"
      ]
     },
     "metadata": {
      "needs_background": "light"
     },
     "output_type": "display_data"
    },
    {
     "name": "stdout",
     "output_type": "stream",
     "text": [
      "/home/user/Robotics/slip_detection_model/slip_detection_model/manual_data_models/models/conv_model_001/106/image_z_prediction_sequence.gif\n"
     ]
    },
    {
     "data": {
      "image/png": "[encoded data removed]",
      "text/plain": [
       "<Figure size 432x288 with 1 Axes>"
      ]
     },
     "metadata": {
      "needs_background": "light"
     },
     "output_type": "display_data"
    },
    {
     "name": "stdout",
     "output_type": "stream",
     "text": [
      "/home/user/Robotics/slip_detection_model/slip_detection_model/manual_data_models/models/conv_model_001/106/gtimage_x_prediction_sequence.gif\n"
     ]
    },
    {
     "data": {
      "image/png": "[encoded data removed]",
      "text/plain": [
       "<Figure size 432x288 with 1 Axes>"
      ]
     },
     "metadata": {
      "needs_background": "light"
     },
     "output_type": "display_data"
    },
    {
     "name": "stdout",
     "output_type": "stream",
     "text": [
      "/home/user/Robotics/slip_detection_model/slip_detection_model/manual_data_models/models/conv_model_001/106/gtimage_y_prediction_sequence.gif\n"
     ]
    },
    {
     "data": {
      "image/png": "[encoded data removed]",
      "text/plain": [
       "<Figure size 432x288 with 1 Axes>"
      ]
     },
     "metadata": {
      "needs_background": "light"
     },
     "output_type": "display_data"
    },
    {
     "name": "stdout",
     "output_type": "stream",
     "text": [
      "/home/user/Robotics/slip_detection_model/slip_detection_model/manual_data_models/models/conv_model_001/106/gtimage_z_prediction_sequence.gif\n"
     ]
    },
    {
     "data": {
      "image/png": "[encoded data removed]",
      "text/plain": [
       "<Figure size 432x288 with 1 Axes>"
      ]
     },
     "metadata": {
      "needs_background": "light"
     },
     "output_type": "display_data"
    },
    {
     "data": {
      "text/plain": [
       "<__main__.image_player at 0x7ff0e87b0f60>"
      ]
     },
     "execution_count": 63,
     "metadata": {},
     "output_type": "execute_result"
    }
   ],
   "source": [
    "import matplotlib\n",
    "import matplotlib.animation as animation\n",
    "import mpl_toolkits.mplot3d.axes3d as p3\n",
    "from matplotlib import pyplot as plt\n",
    "from matplotlib.animation import FuncAnimation\n",
    "import mpl_toolkits.mplot3d.art3d as art3d\n",
    "from scipy.ndimage.interpolation import map_coordinates\n",
    "\n",
    "class image_player():\n",
    "    def __init__(self, images, save_name, time_steps):\n",
    "        self.time_steps = time_steps\n",
    "        self.save_name = save_name\n",
    "        print(model_path + str(experiment_to_test) + '/' + self.save_name + '_prediction_sequence.gif')\n",
    "        self.run_the_tape(images)\n",
    "\n",
    "    def grab_frame(self):\n",
    "        frame = self.images[self.indexyyy].numpy()\n",
    "        return frame\n",
    "\n",
    "    def update(self, i):\n",
    "        plt.title(self.time_steps[i])\n",
    "        self.im1.set_data(self.grab_frame())\n",
    "        self.indexyyy+=1\n",
    "        if self.indexyyy == len(self.images):\n",
    "            self.indexyyy = 0\n",
    "\n",
    "    def run_the_tape(self, images):\n",
    "        self.indexyyy = 0\n",
    "        self.images = images\n",
    "        ax1 = plt.subplot(1,2,1)\n",
    "        self.im1 = ax1.imshow(self.grab_frame(), cmap='gray', vmin=0, vmax=255)\n",
    "        ani = FuncAnimation(plt.gcf(), self.update, interval=100, save_count=len(images), repeat=False)\n",
    "        ani.save(model_path + str(experiment_to_test) + '/' + self.save_name + '_prediction_sequence.gif')\n",
    "        plt.show()\n",
    "\n",
    "batch_sample = 1\n",
    "image_x = []\n",
    "image_y = []\n",
    "image_z = []\n",
    "gtimage_x = []\n",
    "gtimage_y = []\n",
    "gtimage_z = []\n",
    "time_steps = []\n",
    "print(experiment_time_steps[1][1][batch_sample])\n",
    "for timestep in range(10):\n",
    "    image_x.append(tactile_predictions[1][timestep][batch_sample][0].cpu().detach()*255)\n",
    "    image_y.append(tactile_predictions[1][timestep][batch_sample][1].cpu().detach()*255)\n",
    "    image_z.append(tactile_predictions[1][timestep][batch_sample][2].cpu().detach()*255)\n",
    "\n",
    "    gtimage_x.append(tactile_groundtruth[1][timestep][batch_sample][0].cpu().detach()*255)\n",
    "    gtimage_y.append(tactile_groundtruth[1][timestep][batch_sample][1].cpu().detach()*255)\n",
    "    gtimage_z.append(tactile_groundtruth[1][timestep][batch_sample][2].cpu().detach()*255)\n",
    "    time_steps.append(experiment_time_steps[1][1][batch_sample][timestep].cpu().detach())\n",
    "print(int(time_steps[0].data))\n",
    "image_player(image_x, \"pp_image_x\", time_steps)\n",
    "image_player(image_y, \"pp_image_y\", time_steps)\n",
    "image_player(image_z, \"pp_image_z\", time_steps)\n",
    "image_player(gtimage_x, \"pp_gtimage_x\", time_steps)\n",
    "image_player(gtimage_y, \"pp_gtimage_y\", time_steps)\n",
    "image_player(gtimage_z, \"pp_gtimage_z\", time_steps)"
   ]
  }
 ],
 "metadata": {
  "kernelspec": {
   "display_name": "venv",
   "language": "python",
   "name": "venv"
  },
  "language_info": {
   "codemirror_mode": {
    "name": "ipython",
    "version": 3
   },
   "file_extension": ".py",
   "mimetype": "text/x-python",
   "name": "python",
   "nbconvert_exporter": "python",
   "pygments_lexer": "ipython3",
   "version": "3.6.9"
  }
 },
 "nbformat": 4,
 "nbformat_minor": 5
}

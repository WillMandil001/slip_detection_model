{
 "cells": [
  {
   "cell_type": "code",
   "execution_count": 1,
   "id": "inclusive-interview",
   "metadata": {},
   "outputs": [],
   "source": [
    "# -*- coding: utf-8 -*-\n",
    "### RUN IN PYTHON 3\n",
    "import os\n",
    "import cv2\n",
    "import csv\n",
    "import glob\n",
    "import click\n",
    "import logging\n",
    "import numpy as np\n",
    "import pandas as pd\n",
    "\n",
    "from PIL import Image \n",
    "from tqdm import tqdm\n",
    "from dotenv import find_dotenv, load_dotenv\n",
    "from sklearn import preprocessing\n",
    "from sklearn.decomposition import PCA\n",
    "\n",
    "from matplotlib import pyplot as plt\n",
    "from matplotlib.animation import FuncAnimation\n",
    "from scipy.spatial.transform import Rotation as R\n",
    "from scipy.ndimage.interpolation import map_coordinates\n",
    "\n",
    "data_dir = '/home/user/Robotics/Data_sets/slip_detection/will_dataset/data_collection_001_122/data_collection_001/'\n",
    "out_dir = '/home/user/Robotics/Data_sets/slip_detection/manual_slip_detection/'\n",
    "SAVE_IMAGES= True\n",
    "sequence_length = 20\n",
    "image_height, image_width = 32, 32"
   ]
  },
  {
   "cell_type": "code",
   "execution_count": null,
   "id": "medieval-repeat",
   "metadata": {},
   "outputs": [],
   "source": [
    "def create_image(xela_sensor1_data_x, xela_sensor1_data_y, xela_sensor1_data_z):\n",
    "    image = np.zeros((4,4,3), np.float32)\n",
    "    index = 0\n",
    "    for x in range(4):\n",
    "        for y in range(4):\n",
    "            image[x][y] =  [xela_sensor1_data_x[index], \n",
    "                            xela_sensor1_data_y[index], \n",
    "                            xela_sensor1_data_z[index]]\n",
    "            index += 1\n",
    "    reshaped_image = np.rot90(cv2.resize(image.astype(np.float32), dsize=(image_height, image_width), interpolation=cv2.INTER_CUBIC), k=1, axes=(0, 1))\n",
    "    return reshaped_image"
   ]
  },
  {
   "cell_type": "code",
   "execution_count": 2,
   "id": "recreational-natural",
   "metadata": {},
   "outputs": [
    {
     "name": "stderr",
     "output_type": "stream",
     "text": [
      "100%|██████████| 119/119 [01:16<00:00,  1.55it/s]\n"
     ]
    }
   ],
   "source": [
    "files = glob.glob(data_dir + '/*')\n",
    "path_file = []\n",
    "index_to_save = 0\n",
    "\n",
    "xela_sensor1_data_x_final, xela_sensor1_data_y_final, xela_sensor1_data_z_final = [], [], []\n",
    "\n",
    "ee_positions_final = []\n",
    "ee_position_x_final = []\n",
    "ee_position_y_final = []\n",
    "ee_position_z_final = []\n",
    "ee_orientation_quat_x_final = []\n",
    "ee_orientation_quat_y_final = []\n",
    "ee_orientation_quat_z_final = []\n",
    "ee_orientation_quat_w_final = []\n",
    "ee_orientation_x_final = []\n",
    "ee_orientation_y_final = []\n",
    "ee_orientation_z_final = []\n",
    "\n",
    "exp_break_points = []\n",
    "exp_break_point = 0 \n",
    "\n",
    "for experiment_number in tqdm(range(len(files))):\n",
    "    robot_state  = np.asarray(pd.read_csv(files[experiment_number] + '/robot_state.csv', header=None))\n",
    "    proximity    = np.asarray(pd.read_csv(files[experiment_number] + '/proximity.csv', header=None))\n",
    "    xela_sensor1 = np.asarray(pd.read_csv(files[experiment_number] + '/xela_sensor1.csv', header=None))\n",
    "    xela_sensor2 = np.asarray(pd.read_csv(files[experiment_number] + '/xela_sensor2.csv', header=None))\n",
    "    meta_data = np.asarray(pd.read_csv(files[experiment_number] + '/meta_data.csv', header=None))\n",
    "\n",
    "    ee_positions = []\n",
    "    ee_position_x, ee_position_y, ee_position_z = [], [], []\n",
    "    ee_orientation_x, ee_orientation_y, ee_orientation_z = [], [], []\n",
    "    ee_orientation_quat_x, ee_orientation_quat_y, ee_orientation_quat_z, ee_orientation_quat_w = [], [], [], []\n",
    "\n",
    "    xela_sensor1_data_x, xela_sensor1_data_y, xela_sensor1_data_z = [], [], []\n",
    "    xela_sensor2_data_x, xela_sensor2_data_y, xela_sensor2_data_z = [], [], []\n",
    "    xela_sensor1_data_x_mean, xela_sensor1_data_y_mean, xela_sensor1_data_z_mean = [], [], []\n",
    "    xela_sensor2_data_x_mean, xela_sensor2_data_y_mean, xela_sensor2_data_z_mean = [], [], []\n",
    "    \n",
    "    ####################################### Robot Data ###########################################\n",
    "    for state in robot_state[1:]:\n",
    "        ee_positions.append([float(item) for item in robot_state[1][-7:-4]])\n",
    "        ee_position_x.append(state[-7])\n",
    "        ee_position_y.append(state[-6])\n",
    "        ee_position_z.append(state[-5])\n",
    "        # quat\n",
    "        ee_orientation_quat_x.append(state[-4])\n",
    "        ee_orientation_quat_y.append(state[-3])\n",
    "        ee_orientation_quat_z.append(state[-2])\n",
    "        ee_orientation_quat_w.append(state[-1])\n",
    "        # euler\n",
    "        ee_orientation = R.from_quat([state[-4], state[-3], state[-2], state[-1]]).as_euler('zyx', degrees=True)\n",
    "        ee_orientation_x.append(ee_orientation[0])\n",
    "        ee_orientation_y.append(ee_orientation[1])\n",
    "        ee_orientation_z.append(ee_orientation[2])\n",
    "        exp_break_point += 1\n",
    "\n",
    "    ####################################### Xela Data ###########################################\n",
    "    for sample1, sample2 in zip(xela_sensor1[1:], xela_sensor2[1:]):\n",
    "        sample1_data_x, sample1_data_y, sample1_data_z = [], [], []\n",
    "        sample2_data_x, sample2_data_y, sample2_data_z = [], [], []\n",
    "        for i in range(0, len(xela_sensor1[0]), 3):\n",
    "            sample1_data_x.append(float(sample1[i]))\n",
    "            sample1_data_y.append(float(sample1[i+1]))\n",
    "            sample1_data_z.append(float(sample1[i+2]))\n",
    "        xela_sensor1_data_x.append(sample1_data_x)\n",
    "        xela_sensor1_data_y.append(sample1_data_y)\n",
    "        xela_sensor1_data_z.append(sample1_data_z)\n",
    "\n",
    "    # mean starting values:\n",
    "    xela_sensor1_average_starting_value_x = int(sum(xela_sensor1_data_x[0]) / len(xela_sensor1_data_x[0]))\n",
    "    xela_sensor1_average_starting_value_y = int(sum(xela_sensor1_data_y[0]) / len(xela_sensor1_data_y[0]))\n",
    "    xela_sensor1_average_starting_value_z = int(sum(xela_sensor1_data_z[0]) / len(xela_sensor1_data_z[0]))\n",
    "    xela_sensor1_offset_x = [xela_sensor1_average_starting_value_x - tactile_starting_value for tactile_starting_value in xela_sensor1_data_x[0]]\n",
    "    xela_sensor1_offset_y = [xela_sensor1_average_starting_value_y - tactile_starting_value for tactile_starting_value in xela_sensor1_data_y[0]]\n",
    "    xela_sensor1_offset_z = [xela_sensor1_average_starting_value_z - tactile_starting_value for tactile_starting_value in xela_sensor1_data_z[0]]\n",
    "    \n",
    "    for time_step in range(len(xela_sensor1_data_x)):\n",
    "        xela_sensor1_sample_x_test = [offset+real_value for offset, real_value in zip(xela_sensor1_offset_x, xela_sensor1_data_x[time_step])]\n",
    "        xela_sensor1_sample_y_test = [offset+real_value for offset, real_value in zip(xela_sensor1_offset_y, xela_sensor1_data_y[time_step])]\n",
    "        xela_sensor1_sample_z_test = [offset+real_value for offset, real_value in zip(xela_sensor1_offset_z, xela_sensor1_data_z[time_step])]\n",
    "        for i in range(np.asarray(xela_sensor1_data_x).shape[1]):\n",
    "            xela_sensor1_data_x[time_step][i] = xela_sensor1_sample_x_test[i]\n",
    "            xela_sensor1_data_y[time_step][i] = xela_sensor1_sample_y_test[i] \n",
    "            xela_sensor1_data_z[time_step][i] = xela_sensor1_sample_z_test[i]\n",
    "    \n",
    "    xela_sensor1_data_x_final += xela_sensor1_data_x\n",
    "    xela_sensor1_data_y_final += xela_sensor1_data_y\n",
    "    xela_sensor1_data_z_final += xela_sensor1_data_z\n",
    "\n",
    "    ee_positions_final += ee_positions\n",
    "    ee_position_x_final += ee_position_x\n",
    "    ee_position_y_final += ee_position_y\n",
    "    ee_position_z_final += ee_position_z\n",
    "    ee_orientation_quat_x_final += ee_orientation_quat_x\n",
    "    ee_orientation_quat_y_final += ee_orientation_quat_y\n",
    "    ee_orientation_quat_z_final += ee_orientation_quat_z\n",
    "    ee_orientation_quat_w_final += ee_orientation_quat_w\n",
    "    ee_orientation_x_final += ee_orientation_x\n",
    "    ee_orientation_y_final += ee_orientation_y\n",
    "    ee_orientation_z_final += ee_orientation_z\n",
    "\n",
    "    exp_break_points.append(exp_break_point)"
   ]
  },
  {
   "cell_type": "code",
   "execution_count": 3,
   "id": "promotional-palestine",
   "metadata": {},
   "outputs": [],
   "source": [
    "xela_sensor1_data_x_final = np.asarray(xela_sensor1_data_x_final)\n",
    "xela_sensor1_data_y_final = np.asarray(xela_sensor1_data_y_final)\n",
    "xela_sensor1_data_z_final = np.asarray(xela_sensor1_data_z_final)\n",
    "ee_orientation_quat_x_final = np.asarray(ee_orientation_quat_x_final).reshape(-1, 1)\n",
    "ee_orientation_quat_y_final = np.asarray(ee_orientation_quat_y_final).reshape(-1, 1)\n",
    "ee_orientation_quat_z_final = np.asarray(ee_orientation_quat_z_final).reshape(-1, 1)\n",
    "ee_orientation_quat_w_final = np.asarray(ee_orientation_quat_w_final).reshape(-1, 1)\n",
    "\n",
    "scaler_x = preprocessing.StandardScaler().fit(xela_sensor1_data_x_final)\n",
    "scaler_y = preprocessing.StandardScaler().fit(xela_sensor1_data_y_final)\n",
    "scaler_z = preprocessing.StandardScaler().fit(xela_sensor1_data_z_final)\n",
    "xela_sensor1_data_x_scaled = scaler_x.transform(xela_sensor1_data_x_final)\n",
    "xela_sensor1_data_y_scaled = scaler_y.transform(xela_sensor1_data_y_final)\n",
    "xela_sensor1_data_z_scaled = scaler_z.transform(xela_sensor1_data_z_final)\n",
    "\n",
    "min_max_scaler_x = preprocessing.MinMaxScaler(feature_range=(-1, 1)).fit(xela_sensor1_data_x_scaled)\n",
    "xela_sensor1_data_x_scaled_minmax = min_max_scaler_x.transform(xela_sensor1_data_x_scaled)\n",
    "min_max_scaler_y = preprocessing.MinMaxScaler(feature_range=(-1, 1)).fit(xela_sensor1_data_y_scaled)\n",
    "xela_sensor1_data_y_scaled_minmax = min_max_scaler_y.transform(xela_sensor1_data_y_scaled)\n",
    "min_max_scaler_z = preprocessing.MinMaxScaler(feature_range=(-1, 1)).fit(xela_sensor1_data_z_scaled)\n",
    "xela_sensor1_data_z_scaled_minmax = min_max_scaler_z.transform(xela_sensor1_data_z_scaled)\n",
    "\n",
    "xela_sensor1_data = np.concatenate((xela_sensor1_data_x_final, xela_sensor1_data_y_final, xela_sensor1_data_z_final), axis=1)\n",
    "scaler_full = preprocessing.StandardScaler().fit(xela_sensor1_data)\n",
    "xela_sensor1_data_scaled = scaler_full.transform(xela_sensor1_data)\n",
    "min_max_scaler_full_data = preprocessing.MinMaxScaler(feature_range=(-1, 1)).fit(xela_sensor1_data_scaled)\n",
    "xela_sensor1_data_scaled_minmax = min_max_scaler_full_data.transform(xela_sensor1_data_scaled)\n",
    "\n",
    "scaler_quat_x = preprocessing.StandardScaler().fit(ee_orientation_quat_x_final)\n",
    "ee_orientation_quat_x_final_scaled = scaler_quat_x.transform(ee_orientation_quat_x_final)\n",
    "\n",
    "scaler_quat_y = preprocessing.StandardScaler().fit(ee_orientation_quat_y_final)\n",
    "ee_orientation_quat_y_final_scaled = scaler_quat_y.transform(ee_orientation_quat_y_final)\n",
    "\n",
    "scaler_quat_z = preprocessing.StandardScaler().fit(ee_orientation_quat_z_final)\n",
    "ee_orientation_quat_z_final_scaled = scaler_quat_z.transform(ee_orientation_quat_z_final)\n",
    "\n",
    "scaler_quat_w = preprocessing.StandardScaler().fit(ee_orientation_quat_w_final)\n",
    "ee_orientation_quat_w_final_scaled = scaler_quat_w.transform(ee_orientation_quat_w_final)\n",
    "\n",
    "min_max_scaler_quat_x = preprocessing.MinMaxScaler(feature_range=(-1, 1)).fit(ee_orientation_quat_x_final_scaled)\n",
    "ee_orientation_quat_x_final_scaled_minmax = min_max_scaler_quat_x.transform(ee_orientation_quat_x_final_scaled)\n",
    "min_max_scaler_quat_y = preprocessing.MinMaxScaler(feature_range=(-1, 1)).fit(ee_orientation_quat_y_final_scaled)\n",
    "ee_orientation_quat_y_final_scaled_minmax = min_max_scaler_quat_y.transform(ee_orientation_quat_y_final_scaled)\n",
    "min_max_scaler_quat_z = preprocessing.MinMaxScaler(feature_range=(-1, 1)).fit(ee_orientation_quat_z_final_scaled)\n",
    "ee_orientation_quat_z_final_scaled_minmax = min_max_scaler_quat_z.transform(ee_orientation_quat_z_final_scaled)\n",
    "min_max_scaler_quat_w = preprocessing.MinMaxScaler(feature_range=(-1, 1)).fit(ee_orientation_quat_w_final_scaled)\n",
    "ee_orientation_quat_w_final_scaled_minmax = min_max_scaler_quat_w.transform(ee_orientation_quat_w_final_scaled)"
   ]
  },
  {
   "cell_type": "code",
   "execution_count": 4,
   "id": "eastern-cemetery",
   "metadata": {},
   "outputs": [
    {
     "data": {
      "image/png": "[encoded data removed]",
      "text/plain": [
       "<Figure size 288x288 with 2 Axes>"
      ]
     },
     "metadata": {
      "needs_background": "light"
     },
     "output_type": "display_data"
    },
    {
     "data": {
      "image/png": "[encoded data removed]",
      "text/plain": [
       "<Figure size 288x288 with 2 Axes>"
      ]
     },
     "metadata": {
      "needs_background": "light"
     },
     "output_type": "display_data"
    },
    {
     "data": {
      "image/png": "[encoded data removed]",
      "text/plain": [
       "<Figure size 288x288 with 2 Axes>"
      ]
     },
     "metadata": {
      "needs_background": "light"
     },
     "output_type": "display_data"
    },
    {
     "data": {
      "image/png": "[encoded data removed]",
      "text/plain": [
       "<Figure size 288x288 with 2 Axes>"
      ]
     },
     "metadata": {
      "needs_background": "light"
     },
     "output_type": "display_data"
    }
   ],
   "source": [
    "import matplotlib.pyplot as plt\n",
    "\n",
    "pca_x = PCA(n_components=8)\n",
    "pca_x.fit(xela_sensor1_data_x_scaled)\n",
    "cov_x = pca_x.get_covariance()\n",
    "plt.matshow(cov_x)\n",
    "cb = plt.colorbar()\n",
    "cb.ax.tick_params(labelsize=12)\n",
    "plt.title(\"Sheer x force covariance matrix\")\n",
    "plt.show()\n",
    "\n",
    "pca_y = PCA(n_components=8)\n",
    "pca_y.fit(xela_sensor1_data_y_scaled)\n",
    "cov_y = pca_y.get_covariance()\n",
    "plt.matshow(cov_y)\n",
    "cb = plt.colorbar()\n",
    "cb.ax.tick_params(labelsize=12)\n",
    "plt.title(\"Sheer y force covariance matrix\")\n",
    "plt.show()\n",
    "\n",
    "pca_z = PCA(n_components=8)\n",
    "pca_z.fit(xela_sensor1_data_z_scaled)\n",
    "cov_z = pca_z.get_covariance()\n",
    "plt.matshow(cov_z)\n",
    "cb = plt.colorbar()\n",
    "cb.ax.tick_params(labelsize=12)\n",
    "plt.title(\"normal z force covariance matrix\")\n",
    "plt.show()\n",
    "\n",
    "pca = PCA(n_components=8)\n",
    "pca.fit(xela_sensor1_data_scaled)\n",
    "cov = pca.get_covariance()\n",
    "plt.matshow(cov)\n",
    "cb = plt.colorbar()\n",
    "cb.ax.tick_params(labelsize=12)\n",
    "plt.title(\"full data covariance matrix\")\n",
    "plt.show()\n",
    "\n",
    "# fig, ax = plt.subplots()\n",
    "# ax.matshow(cov, cmap='seismic')\n",
    "# for (i, j), z in np.ndenumerate(cov):\n",
    "#     ax.text(j, i, '{:0.1f}'.format(z), ha='center', va='center')\n",
    "# plt.title(\"Sheer x force covariance matrix\")\n",
    "# plt.show()"
   ]
  },
  {
   "cell_type": "code",
   "execution_count": 5,
   "id": "viral-excellence",
   "metadata": {},
   "outputs": [
    {
     "name": "stdout",
     "output_type": "stream",
     "text": [
      "(103404, 10)\n",
      "(103404, 48)\n"
     ]
    },
    {
     "data": {
      "image/png": "[encoded data removed]",
      "text/plain": [
       "<Figure size 432x288 with 1 Axes>"
      ]
     },
     "metadata": {
      "needs_background": "light"
     },
     "output_type": "display_data"
    },
    {
     "name": "stdout",
     "output_type": "stream",
     "text": [
      "[617.52318121 570.48797315 440.34784072 351.84549923 343.70916385\n",
      " 332.52494302 319.86901473 241.5035129 ]\n",
      "[0.23048847 0.19671418 0.11720184 0.07482499 0.07140439 0.06683303\n",
      " 0.0618425  0.03525247]\n"
     ]
    },
    {
     "data": {
      "image/png": "[encoded data removed]",
      "text/plain": [
       "<Figure size 432x288 with 1 Axes>"
      ]
     },
     "metadata": {
      "needs_background": "light"
     },
     "output_type": "display_data"
    },
    {
     "name": "stdout",
     "output_type": "stream",
     "text": [
      "[690.90971219 644.33075229 471.69943678 400.81789756 317.58039214\n",
      " 267.80521966 211.87755271 187.54264874]\n",
      "[0.28852621 0.25093451 0.13448486 0.09710395 0.06096071 0.04334917\n",
      " 0.02713392 0.021259  ]\n"
     ]
    },
    {
     "data": {
      "image/png": "[encoded data removed]",
      "text/plain": [
       "<Figure size 432x288 with 1 Axes>"
      ]
     },
     "metadata": {
      "needs_background": "light"
     },
     "output_type": "display_data"
    },
    {
     "name": "stdout",
     "output_type": "stream",
     "text": [
      "[690.90971219 644.33075229 471.69943678 400.81789756 317.58039214\n",
      " 267.80521966 211.87755271 187.54264874]\n",
      "[0.28852621 0.25093451 0.13448486 0.09710395 0.06096071 0.04334917\n",
      " 0.02713392 0.021259  ]\n"
     ]
    },
    {
     "data": {
      "image/png": "[encoded data removed]",
      "text/plain": [
       "<Figure size 432x288 with 1 Axes>"
      ]
     },
     "metadata": {
      "needs_background": "light"
     },
     "output_type": "display_data"
    }
   ],
   "source": [
    "pca = PCA(n_components=10)\n",
    "principalComponents = pca.fit_transform(xela_sensor1_data_scaled)\n",
    "pca.fit(xela_sensor1_data_scaled)\n",
    "score = pca.score(xela_sensor1_data_scaled)\n",
    "cov = pca.get_covariance()\n",
    "xela_sensor1_principle_components = pca.transform(xela_sensor1_data_scaled)\n",
    "inverse_transformed_data = pca.inverse_transform(xela_sensor1_principle_components)\n",
    "\n",
    "print(xela_sensor1_principle_components.shape)\n",
    "print(inverse_transformed_data.shape)\n",
    "fig = plt.figure()\n",
    "ax = fig.add_axes([0,0,1,1])\n",
    "feature = [i for i in range(len(pca.explained_variance_ratio_))]\n",
    "variance_explained = pca.explained_variance_ratio_\n",
    "ax.bar(feature,variance_explained)\n",
    "plt.title(\"variance explained ratio\")\n",
    "plt.show()\n",
    "\n",
    "print(pca_x.singular_values_)\n",
    "print(pca_x.explained_variance_ratio_)\n",
    "fig = plt.figure()\n",
    "ax = fig.add_axes([0,0,1,1])\n",
    "feature = [i for i in range(len(pca_x.explained_variance_ratio_))]\n",
    "variance_explained = pca_x.explained_variance_ratio_\n",
    "ax.bar(feature,variance_explained)\n",
    "plt.title(\"variance explained ratio for sheer X\")\n",
    "plt.show()\n",
    "\n",
    "print(pca_z.singular_values_)\n",
    "print(pca_z.explained_variance_ratio_)\n",
    "fig = plt.figure()\n",
    "ax = fig.add_axes([0,0,1,1])\n",
    "feature = [i for i in range(len(pca_y.explained_variance_ratio_))]\n",
    "variance_explained = pca_y.explained_variance_ratio_\n",
    "ax.bar(feature,variance_explained)\n",
    "plt.title(\"variance explained ratio for sheer Y\")\n",
    "plt.show()\n",
    "\n",
    "print(pca_z.singular_values_)\n",
    "print(pca_z.explained_variance_ratio_)\n",
    "fig = plt.figure()\n",
    "ax = fig.add_axes([0,0,1,1])\n",
    "feature = [i for i in range(len(pca_z.explained_variance_ratio_))]\n",
    "variance_explained = pca_z.explained_variance_ratio_\n",
    "ax.bar(feature,variance_explained)\n",
    "plt.title(\"variance explained ratio for normal Z\")\n",
    "plt.show()"
   ]
  },
  {
   "cell_type": "code",
   "execution_count": 6,
   "id": "demonstrated-companion",
   "metadata": {},
   "outputs": [],
   "source": [
    "# -*- coding: utf-8 -*-\n",
    "import csv\n",
    "import tqdm\n",
    "import copy\n",
    "import click\n",
    "import logging\n",
    "import numpy as np\n",
    "import matplotlib.pyplot as plt\n",
    "from torch.utils.data import Dataset\n",
    "\n",
    "from string import digits\n",
    "\n",
    "import torch\n",
    "import torch.nn as nn\n",
    "import torch.optim as optim\n",
    "import torchvision\n",
    "import torch.nn.functional as F\n",
    "\n",
    "seed = 42\n",
    "epochs = 50\n",
    "batch_size = 32\n",
    "learning_rate = 1e-3\n",
    "context_frames = 10\n",
    "sequence_length = 20\n",
    "lookback = sequence_length\n",
    "\n",
    "context_epochs = 20\n",
    "context_batch_size = 1\n",
    "context_learning_rate = 1e-3\n",
    "context_data_length = 20\n",
    "\n",
    "valid_train_split = 0.8  # precentage of train data from total\n",
    "test_train_split = 0.9  # precentage of train data from total\n",
    "\n",
    "torch.manual_seed(seed)\n",
    "torch.backends.cudnn.benchmark = False\n",
    "torch.backends.cudnn.deterministic = True\n",
    "device = torch.device(\"cuda\" if torch.cuda.is_available() else \"cpu\")#  use gpu if available\n",
    "################################# CHANGE THIS!!!!  #################################\n",
    "model_path = \"/home/user/Robotics/slip_detection_model/slip_detection_model/manual_data_models/models/simple_model_001/\"\n",
    "################################# CHANGE THIS!!!!  #################################"
   ]
  },
  {
   "cell_type": "code",
   "execution_count": 7,
   "id": "plain-parts",
   "metadata": {},
   "outputs": [
    {
     "name": "stdout",
     "output_type": "stream",
     "text": [
      "[ 21   1 110  79  35  74  70  75  32  60  33  68  94  81  49  23  73  38\n",
      " 107  42  13  64  61  43  25  99 106  62  84  53 103  30 113  96  36  47\n",
      "  40  82  89  34   9  17   5  20  27   0 111  46  63  85  48  92   2  98\n",
      "  55  87  77   4  91  50  51  28  22  45   6  26  10  69  88  65   8  44\n",
      "  16 109  41  86  31  37  19   3  67 117 115  66  18  54 116 108 100  78\n",
      "  56  97  80   7  72 105  57  29  11 114  58  59 102  39  93  52  83  12\n",
      "  71 104  15  24 112  95  90 101  14  76 118]\n"
     ]
    }
   ],
   "source": [
    "# scale between 0 and 1:\n",
    "\n",
    "ee_position_x_final = np.array(ee_position_x_final) \n",
    "ee_position_y_final = np.array(ee_position_y_final) \n",
    "ee_position_z_final = np.array(ee_position_z_final) \n",
    "ee_orientation_quat_x_final = np.array(ee_orientation_quat_x_final) \n",
    "ee_orientation_quat_y_final = np.array(ee_orientation_quat_y_final) \n",
    "ee_orientation_quat_z_final = np.array(ee_orientation_quat_z_final) \n",
    "ee_orientation_quat_w_final = np.array(ee_orientation_quat_w_final) \n",
    "ee_orientation_x_final = np.array(ee_orientation_x_final) \n",
    "ee_orientation_y_final = np.array(ee_orientation_y_final) \n",
    "ee_orientation_z_final = np.array(ee_orientation_z_final) \n",
    "xela_sensor1_principle_components = np.array(xela_sensor1_principle_components) \n",
    "\n",
    "\n",
    "min_max_scaler_ee_position_x_final = preprocessing.MinMaxScaler(feature_range=(-1, 1)).fit(ee_position_x_final.reshape(-1, 1))\n",
    "ee_position_x_final_scaled = min_max_scaler_ee_position_x_final.transform(ee_position_x_final.reshape(-1, 1))\n",
    "\n",
    "min_max_scaler_ee_position_y_final = preprocessing.MinMaxScaler(feature_range=(-1, 1)).fit(ee_position_y_final.reshape(-1, 1))\n",
    "ee_position_y_final_scaled = min_max_scaler_ee_position_y_final.transform(ee_position_y_final.reshape(-1, 1))\n",
    "\n",
    "min_max_scaler_ee_position_z_final = preprocessing.MinMaxScaler(feature_range=(-1, 1)).fit(ee_position_z_final.reshape(-1, 1))\n",
    "ee_position_z_final_scaled = min_max_scaler_ee_position_z_final.transform(ee_position_z_final.reshape(-1, 1))\n",
    "\n",
    "min_max_scaler_ee_orientation_quat_x_final = preprocessing.MinMaxScaler(feature_range=(-1, 1)).fit(ee_orientation_quat_x_final)\n",
    "ee_orientation_quat_x_final_scaled = min_max_scaler_ee_orientation_quat_x_final.transform(ee_orientation_quat_x_final)\n",
    "\n",
    "min_max_scaler_ee_orientation_quat_y_final = preprocessing.MinMaxScaler(feature_range=(-1, 1)).fit(ee_orientation_quat_y_final)\n",
    "ee_orientation_quat_y_final_scaled = min_max_scaler_ee_orientation_quat_y_final.transform(ee_orientation_quat_y_final)\n",
    "\n",
    "min_max_scaler_ee_orientation_quat_z_final = preprocessing.MinMaxScaler(feature_range=(-1, 1)).fit(ee_orientation_quat_z_final)\n",
    "ee_orientation_quat_z_final_scaled = min_max_scaler_ee_orientation_quat_z_final.transform(ee_orientation_quat_z_final)\n",
    "\n",
    "min_max_scaler_ee_orientation_quat_w_final = preprocessing.MinMaxScaler(feature_range=(-1, 1)).fit(ee_orientation_quat_w_final)\n",
    "ee_orientation_quat_w_final_scaled = min_max_scaler_ee_orientation_quat_w_final.transform(ee_orientation_quat_w_final)\n",
    "\n",
    "min_max_scaler_ee_orientation_x_final = preprocessing.MinMaxScaler(feature_range=(-1, 1)).fit(ee_orientation_x_final.reshape(-1, 1))\n",
    "ee_orientation_x_final_scaled = min_max_scaler_ee_orientation_x_final.transform(ee_orientation_x_final.reshape(-1, 1))\n",
    "\n",
    "min_max_scaler_ee_orientation_y_final = preprocessing.MinMaxScaler(feature_range=(-1, 1)).fit(ee_orientation_y_final.reshape(-1, 1))\n",
    "ee_orientation_y_final_scaled = min_max_scaler_ee_orientation_y_final.transform(ee_orientation_y_final.reshape(-1, 1))\n",
    "\n",
    "min_max_scaler_ee_orientation_z_final = preprocessing.MinMaxScaler(feature_range=(-1, 1)).fit(ee_orientation_z_final.reshape(-1, 1))\n",
    "ee_orientation_z_final_scaled = min_max_scaler_ee_orientation_z_final.transform(ee_orientation_z_final.reshape(-1, 1))\n",
    "\n",
    "min_max_scaler_xela_sensor1_principle_components = preprocessing.MinMaxScaler(feature_range=(-1, 1)).fit(xela_sensor1_principle_components)\n",
    "xela_sensor1_principle_components_scaled = min_max_scaler_xela_sensor1_principle_components.transform(xela_sensor1_principle_components)\n",
    "\n",
    "# Convert data back into split experiments to create the sequences:\n",
    "ee_position_x_final_split = np.asarray(np.split(ee_position_x_final_scaled, exp_break_points)[0:-1])\n",
    "ee_position_y_final_split = np.asarray(np.split(ee_position_y_final_scaled, exp_break_points)[0:-1])\n",
    "ee_position_z_final_split = np.asarray(np.split(ee_position_z_final_scaled, exp_break_points)[0:-1])\n",
    "ee_orientation_quat_x_final_split = np.asarray(np.split(ee_orientation_quat_x_final_scaled, exp_break_points)[0:-1])\n",
    "ee_orientation_quat_y_final_split = np.asarray(np.split(ee_orientation_quat_y_final_scaled, exp_break_points)[0:-1])\n",
    "ee_orientation_quat_z_final_split = np.asarray(np.split(ee_orientation_quat_z_final_scaled, exp_break_points)[0:-1])\n",
    "ee_orientation_quat_w_final_split = np.asarray(np.split(ee_orientation_quat_w_final_scaled, exp_break_points)[0:-1])\n",
    "ee_orientation_x_final_split = np.asarray(np.split(ee_orientation_x_final_scaled, exp_break_points)[0:-1])\n",
    "ee_orientation_y_final_split = np.asarray(np.split(ee_orientation_y_final_scaled, exp_break_points)[0:-1])\n",
    "ee_orientation_z_final_split = np.asarray(np.split(ee_orientation_z_final_scaled, exp_break_points)[0:-1])\n",
    "xela_sensor1_principle_components_split = np.asarray(np.split(xela_sensor1_principle_components_scaled, exp_break_points)[0:-1])\n",
    "\n",
    "# Shuffle data:\n",
    "p = np.random.permutation(len(ee_position_x_final_split))\n",
    "print(p)\n",
    "ee_position_x_final_split = ee_position_x_final_split[p]\n",
    "ee_position_y_final_split = ee_position_y_final_split[p]\n",
    "ee_position_z_final_split = ee_position_z_final_split[p]\n",
    "ee_orientation_quat_x_final_split = ee_orientation_quat_x_final_split[p]\n",
    "ee_orientation_quat_y_final_split = ee_orientation_quat_y_final_split[p]\n",
    "ee_orientation_quat_z_final_split = ee_orientation_quat_z_final_split[p]\n",
    "ee_orientation_quat_w_final_split = ee_orientation_quat_w_final_split[p]\n",
    "ee_orientation_x_final_split = ee_orientation_x_final_split[p]\n",
    "ee_orientation_y_final_split = ee_orientation_y_final_split[p]\n",
    "ee_orientation_z_final_split = ee_orientation_z_final_split[p]\n",
    "xela_sensor1_principle_components_split = xela_sensor1_principle_components_split[p]"
   ]
  },
  {
   "cell_type": "code",
   "execution_count": 8,
   "id": "selected-daily",
   "metadata": {},
   "outputs": [],
   "source": [
    "# convert to sequences:\n",
    "robot_data_euler_sequence, robot_data_quat_sequence, xela_1_sequence_data, experiment_data_sequence, time_step_data_sequence = [], [], [], [], []\n",
    "for experiment in range(len(ee_position_x_final_split)):\n",
    "    for sample in range(0, len(ee_position_x_final_split[experiment]) - sequence_length):\n",
    "        robot_data_euler_sample, robot_data_quat_sample, xela_1_sequ_sample, experiment_data_sample, time_step_data_sample = [], [], [], [], []\n",
    "        for t in range(0, sequence_length):\n",
    "            robot_data_euler_sample.append([ee_position_x_final_split[experiment][sample+t], ee_position_y_final_split[experiment][sample+t], ee_position_z_final_split[experiment][sample+t], ee_orientation_x_final_split[experiment][sample+t], ee_orientation_y_final_split[experiment][sample+t], ee_orientation_z_final_split[experiment][sample+t]])\n",
    "            robot_data_quat_sample.append([ee_position_x_final_split[experiment][sample+t], ee_position_y_final_split[experiment][sample+t], ee_position_z_final_split[experiment][sample+t], ee_orientation_quat_x_final_split[experiment][sample+t][0], ee_orientation_quat_y_final_split[experiment][sample+t][0], ee_orientation_quat_z_final_split[experiment][sample+t][0], ee_orientation_quat_w_final_split[experiment][sample+t][0]])\n",
    "            xela_1_sequ_sample.append(xela_sensor1_principle_components_split[experiment][sample+t])\n",
    "            experiment_data_sample.append(experiment)\n",
    "            time_step_data_sample.append(sample+t)\n",
    "        robot_data_euler_sequence.append(robot_data_euler_sample)\n",
    "        robot_data_quat_sequence.append(robot_data_quat_sample)\n",
    "        xela_1_sequence_data.append(xela_1_sequ_sample)\n",
    "        experiment_data_sequence.append(experiment_data_sample)\n",
    "        time_step_data_sequence.append(time_step_data_sample)"
   ]
  },
  {
   "cell_type": "code",
   "execution_count": 20,
   "id": "favorite-lloyd",
   "metadata": {},
   "outputs": [],
   "source": [
    "class BatchGenerator:\n",
    "    def __init__(self):\n",
    "        pass\n",
    "\n",
    "    def load_full_data(self):\n",
    "        dataset_train = FullDataSet(type_=\"train\")\n",
    "        dataset_valid = FullDataSet(type_=\"valid\")\n",
    "        dataset_test = FullDataSet(type_=\"test\")\n",
    "        transform = torchvision.transforms.Compose([torchvision.transforms.ToTensor()])\n",
    "        train_loader = torch.utils.data.DataLoader(dataset_train, batch_size=batch_size, shuffle=True)\n",
    "        valid_loader = torch.utils.data.DataLoader(dataset_valid, batch_size=batch_size, shuffle=True)\n",
    "        test_loader = torch.utils.data.DataLoader(dataset_test, batch_size=batch_size, shuffle=False)\n",
    "        return train_loader, valid_loader, test_loader\n",
    "\n",
    "\n",
    "class FullDataSet():\n",
    "    def __init__(self, type_=\"train\"):\n",
    "        if type_ == \"train\":\n",
    "            self.samples = [0, int(len(robot_data_euler_sequence)*test_train_split)]\n",
    "        elif type_ == \"valid\":\n",
    "            self.samples = [int(len(robot_data_euler_sequence)*(valid_train_split)), int(len(robot_data_euler_sequence)*test_train_split)]\n",
    "        elif type_ == \"test\":\n",
    "            self.samples = [int(len(robot_data_euler_sequence)*test_train_split), len(robot_data_euler_sequence)]\n",
    "\n",
    "    def __len__(self):\n",
    "        return self.samples[1] - self.samples[0]\n",
    "\n",
    "    def __getitem__(self,idx):\n",
    "#         robot_euler = robot_data_euler_sequence[self.samples[0] + idx]\n",
    "        robot_quat = robot_data_quat_sequence[self.samples[0] + idx]\n",
    "        xela1 = xela_1_sequence_data[self.samples[0] + idx]\n",
    "        experiment = experiment_data_sequence[self.samples[0] + idx]\n",
    "        time_step  = time_step_data_sequence[self.samples[0] + idx]\n",
    "        return([np.array(robot_quat).astype(np.float32),\n",
    "                 np.array(xela1).astype(np.float32),\n",
    "                 np.array(experiment),\n",
    "                 np.array(time_step)])"
   ]
  },
  {
   "cell_type": "code",
   "execution_count": 25,
   "id": "shared-florence",
   "metadata": {},
   "outputs": [],
   "source": [
    "class FullModel(nn.Module):\n",
    "    def __init__(self):\n",
    "        super(FullModel, self).__init__()\n",
    "        self.lstm1 = nn.LSTM(10, 100).to(device)  # tactile\n",
    "        self.lstm2 = nn.LSTM(7, 100).to(device)  # pos_vel\n",
    "        self.fc1 = nn.Linear(200, 10)  # tactile + pos_vel\n",
    "#         self.lstm3 = nn.LSTM(10, 10).to(device)  # pos_vel\n",
    "\n",
    "    def forward(self, tactiles, actions):\n",
    "        state = actions[0]\n",
    "        state.to(device)\n",
    "        batch_size__ = tactiles.shape[1]\n",
    "        outputs = []\n",
    "        hidden1 = (torch.rand(1,batch_size__,100).to(device), torch.rand(1,batch_size__,100).to(device))\n",
    "        hidden2 = (torch.rand(1,batch_size__,100).to(device), torch.rand(1,batch_size__,100).to(device))\n",
    "        for index, (sample_tactile, sample_action) in enumerate(zip(tactiles.squeeze(), actions.squeeze())):\n",
    "            sample_tactile.to(device)\n",
    "            sample_action.to(device)\n",
    "            # 2. Run through lstm:\n",
    "            if index > context_frames-1:\n",
    "                out1, hidden1 = self.lstm1(out3.to(device), hidden1)\n",
    "                out2, hidden2 = self.lstm2(sample_action.unsqueeze(0), hidden2)\n",
    "                robot_and_tactile = torch.cat((out2.squeeze(), out1.squeeze()), 1)\n",
    "                out3 = self.fc1(robot_and_tactile.unsqueeze(0).cpu().detach())\n",
    "                outputs.append(out3.squeeze())\n",
    "            else:\n",
    "                out1, hidden1 = self.lstm1(sample_tactile.unsqueeze(0), hidden1)\n",
    "                out2, hidden2 = self.lstm2(sample_action.unsqueeze(0), hidden2)\n",
    "                robot_and_tactile = torch.cat((out2.squeeze(), out1.squeeze()), 1)\n",
    "                out3 = self.fc1(robot_and_tactile.unsqueeze(0).cpu().detach())\n",
    "\n",
    "        return torch.stack(outputs)"
   ]
  },
  {
   "cell_type": "code",
   "execution_count": 26,
   "id": "cheap-spray",
   "metadata": {},
   "outputs": [],
   "source": [
    "class ModelTrainer:\n",
    "    def __init__(self):\n",
    "        self.train_full_loader, self.valid_full_loader, self.test_full_loader = BG.load_full_data()\n",
    "        self.full_model = FullModel()\n",
    "        self.criterion = nn.L1Loss()\n",
    "        self.criterion1 = nn.L1Loss()\n",
    "        self.optimizer = optim.Adam(self.full_model.parameters(), lr=learning_rate)\n",
    "\n",
    "    def train_full_model(self):\n",
    "        plot_training_loss = []\n",
    "        plot_validation_loss = []\n",
    "        previous_val_mean_loss = 1.0\n",
    "        early_stop_clock = 0\n",
    "        progress_bar = tqdm.tqdm(range(0, epochs), total=(epochs*len(self.train_full_loader)))\n",
    "        mean_test = 0\n",
    "        for epoch in progress_bar:\n",
    "            loss = 0.0\n",
    "            losses = 0.0\n",
    "            for index, batch_features in enumerate(self.train_full_loader):\n",
    "                action = batch_features[0].permute(1,0,2).to(device)\n",
    "                tactile = batch_features[1].permute(1,0,2).to(device)\n",
    "\n",
    "                tactile_predictions = self.full_model.forward(tactiles=tactile, actions=action) # Step 3. Run our forward pass.\n",
    "                self.optimizer.zero_grad()\n",
    "                loss = self.criterion(tactile_predictions.to(device), tactile[context_frames:])\n",
    "                loss.backward()\n",
    "                self.optimizer.step()\n",
    "\n",
    "                losses += loss.item()\n",
    "                if index:\n",
    "                    mean = losses / index\n",
    "                else:\n",
    "                    mean = 0\n",
    "                progress_bar.set_description(\"epoch: {}, \".format(epoch) + \"loss: {:.4f}, \".format(float(loss.item())) + \"mean loss: {:.4f}, \".format(mean))\n",
    "                progress_bar.update()\n",
    "            plot_training_loss.append(mean)\n",
    "\n",
    "            val_losses = 0.0\n",
    "            val_loss = 0.0\n",
    "            with torch.no_grad():\n",
    "                for index__, batch_features in enumerate(self.valid_full_loader):\n",
    "                    action = batch_features[0].permute(1,0,2).to(device)\n",
    "                    tactile = batch_features[1].permute(1,0,2).to(device)\n",
    "\n",
    "                    tactile_predictions = self.full_model.forward(tactiles=tactile, actions=action)  # Step 3. Run our forward pass.\n",
    "                    self.optimizer.zero_grad()\n",
    "                    val_loss = self.criterion1(tactile_predictions.to(device), tactile[context_frames:])\n",
    "                    val_losses += val_loss.item()\n",
    "\n",
    "            print(\"Validation mean loss: {:.4f}, \".format(val_losses / index__))\n",
    "            plot_validation_loss.append(val_losses / index__)\n",
    "            if previous_val_mean_loss < val_losses / index__:\n",
    "                early_stop_clock +=1\n",
    "                previous_val_mean_loss = val_losses / index__ \n",
    "                if early_stop_clock == 3:\n",
    "                    print(\"Early stopping\")\n",
    "                    break\n",
    "            else:\n",
    "                self.strongest_model = copy.deepcopy(self.full_model)\n",
    "                early_stop_clock = 0\n",
    "                previous_val_mean_loss = val_losses / index__ \n",
    "        plt.plot(plot_training_loss, c=\"r\", label=\"train loss MAE\")\n",
    "        plt.plot(plot_validation_loss, c='b', label=\"val loss MAE\")\n",
    "        plt.legend(loc=\"upper right\")\n",
    "        plt.show()\n",
    "        np.save(model_path + 'pca_training_loss', np.asarray(plot_training_loss))\n",
    "        np.save(model_path + 'pca_validation_loss', np.asarray(plot_validation_loss))"
   ]
  },
  {
   "cell_type": "code",
   "execution_count": 27,
   "id": "broadband-arrow",
   "metadata": {},
   "outputs": [
    {
     "name": "stdout",
     "output_type": "stream",
     "text": [
      "done\n"
     ]
    }
   ],
   "source": [
    "BG = BatchGenerator()\n",
    "print(\"done\")"
   ]
  },
  {
   "cell_type": "code",
   "execution_count": 28,
   "id": "coordinated-welding",
   "metadata": {},
   "outputs": [
    {
     "name": "stderr",
     "output_type": "stream",
     "text": [
      "epoch: 1, loss: 0.0523, mean loss: 0.0519, :   2%|▏         | 2856/142100 [00:39<3:22:56, 11.44it/s]"
     ]
    },
    {
     "name": "stdout",
     "output_type": "stream",
     "text": [
      "Validation mean loss: 0.0439, \n"
     ]
    },
    {
     "name": "stderr",
     "output_type": "stream",
     "text": [
      "epoch: 2, loss: 0.0385, mean loss: 0.0393, :   4%|▍         | 5697/142100 [01:18<3:15:00, 11.66it/s]"
     ]
    },
    {
     "name": "stdout",
     "output_type": "stream",
     "text": [
      "Validation mean loss: 0.0356, \n"
     ]
    },
    {
     "name": "stderr",
     "output_type": "stream",
     "text": [
      "epoch: 3, loss: 0.0307, mean loss: 0.0336, :   6%|▌         | 8539/142100 [01:57<4:21:36,  8.51it/s]"
     ]
    },
    {
     "name": "stdout",
     "output_type": "stream",
     "text": [
      "Validation mean loss: 0.0310, \n"
     ]
    },
    {
     "name": "stderr",
     "output_type": "stream",
     "text": [
      "epoch: 4, loss: 0.0331, mean loss: 0.0310, :   8%|▊         | 11382/142100 [02:37<3:06:26, 11.69it/s]"
     ]
    },
    {
     "name": "stdout",
     "output_type": "stream",
     "text": [
      "Validation mean loss: 0.0280, \n"
     ]
    },
    {
     "name": "stderr",
     "output_type": "stream",
     "text": [
      "epoch: 5, loss: 0.0227, mean loss: 0.0298, :  10%|█         | 14224/142100 [03:16<3:05:14, 11.50it/s]"
     ]
    },
    {
     "name": "stdout",
     "output_type": "stream",
     "text": [
      "Validation mean loss: 0.0277, \n"
     ]
    },
    {
     "name": "stderr",
     "output_type": "stream",
     "text": [
      "epoch: 6, loss: 0.0192, mean loss: 0.0285, :  12%|█▏        | 17066/142100 [03:55<3:01:45, 11.47it/s]"
     ]
    },
    {
     "name": "stdout",
     "output_type": "stream",
     "text": [
      "Validation mean loss: 0.0270, \n"
     ]
    },
    {
     "name": "stderr",
     "output_type": "stream",
     "text": [
      "epoch: 7, loss: 0.0223, mean loss: 0.0304, :  14%|█▍        | 19907/142100 [04:35<2:52:59, 11.77it/s]"
     ]
    },
    {
     "name": "stdout",
     "output_type": "stream",
     "text": [
      "Validation mean loss: 0.0286, \n"
     ]
    },
    {
     "name": "stderr",
     "output_type": "stream",
     "text": [
      "epoch: 8, loss: 0.0281, mean loss: 0.0304, :  16%|█▌        | 22757/142100 [05:14<2:43:37, 12.16it/s]"
     ]
    },
    {
     "name": "stdout",
     "output_type": "stream",
     "text": [
      "Validation mean loss: 0.0275, \n"
     ]
    },
    {
     "name": "stderr",
     "output_type": "stream",
     "text": [
      "epoch: 9, loss: 0.0358, mean loss: 0.0330, :  18%|█▊        | 25599/142100 [05:53<2:48:39, 11.51it/s]"
     ]
    },
    {
     "name": "stdout",
     "output_type": "stream",
     "text": [
      "Validation mean loss: 0.0280, \n"
     ]
    },
    {
     "name": "stderr",
     "output_type": "stream",
     "text": [
      "epoch: 10, loss: 0.0275, mean loss: 0.0295, :  20%|██        | 28442/142100 [06:33<2:42:22, 11.67it/s]"
     ]
    },
    {
     "name": "stdout",
     "output_type": "stream",
     "text": [
      "Validation mean loss: 0.0273, \n"
     ]
    },
    {
     "name": "stderr",
     "output_type": "stream",
     "text": [
      "epoch: 11, loss: 0.0224, mean loss: 0.0293, :  22%|██▏       | 31284/142100 [07:12<2:40:10, 11.53it/s]"
     ]
    },
    {
     "name": "stdout",
     "output_type": "stream",
     "text": [
      "Validation mean loss: 0.0281, \n"
     ]
    },
    {
     "name": "stderr",
     "output_type": "stream",
     "text": [
      "epoch: 12, loss: 0.0266, mean loss: 0.0316, :  24%|██▍       | 34126/142100 [07:51<2:38:57, 11.32it/s]"
     ]
    },
    {
     "name": "stdout",
     "output_type": "stream",
     "text": [
      "Validation mean loss: 0.0271, \n"
     ]
    },
    {
     "name": "stderr",
     "output_type": "stream",
     "text": [
      "epoch: 13, loss: 0.0256, mean loss: 0.0292, :  26%|██▌       | 36968/142100 [08:30<2:29:43, 11.70it/s]"
     ]
    },
    {
     "name": "stdout",
     "output_type": "stream",
     "text": [
      "Validation mean loss: 0.0266, \n"
     ]
    },
    {
     "name": "stderr",
     "output_type": "stream",
     "text": [
      "epoch: 14, loss: 0.0345, mean loss: 0.0305, :  28%|██▊       | 39810/142100 [09:09<2:28:05, 11.51it/s]"
     ]
    },
    {
     "name": "stdout",
     "output_type": "stream",
     "text": [
      "Validation mean loss: 0.0271, \n"
     ]
    },
    {
     "name": "stderr",
     "output_type": "stream",
     "text": [
      "epoch: 15, loss: 0.0293, mean loss: 0.0300, :  30%|███       | 42652/142100 [09:48<2:20:48, 11.77it/s]"
     ]
    },
    {
     "name": "stdout",
     "output_type": "stream",
     "text": [
      "Validation mean loss: 0.0269, \n"
     ]
    },
    {
     "name": "stderr",
     "output_type": "stream",
     "text": [
      "epoch: 16, loss: 0.0364, mean loss: 0.0302, :  32%|███▏      | 45494/142100 [10:26<2:13:33, 12.06it/s]"
     ]
    },
    {
     "name": "stdout",
     "output_type": "stream",
     "text": [
      "Validation mean loss: 0.0283, \n"
     ]
    },
    {
     "name": "stderr",
     "output_type": "stream",
     "text": [
      "epoch: 17, loss: 0.0237, mean loss: 0.0301, :  34%|███▍      | 48335/142100 [11:05<2:11:09, 11.91it/s]"
     ]
    },
    {
     "name": "stdout",
     "output_type": "stream",
     "text": [
      "Validation mean loss: 0.0274, \n"
     ]
    },
    {
     "name": "stderr",
     "output_type": "stream",
     "text": [
      "epoch: 18, loss: 0.0219, mean loss: 0.0293, :  36%|███▌      | 51178/142100 [11:44<2:04:45, 12.15it/s]"
     ]
    },
    {
     "name": "stdout",
     "output_type": "stream",
     "text": [
      "Validation mean loss: 0.0279, \n"
     ]
    },
    {
     "name": "stderr",
     "output_type": "stream",
     "text": [
      "epoch: 19, loss: 0.0255, mean loss: 0.0290, :  38%|███▊      | 54020/142100 [12:23<2:06:06, 11.64it/s]"
     ]
    },
    {
     "name": "stdout",
     "output_type": "stream",
     "text": [
      "Validation mean loss: 0.0272, \n"
     ]
    },
    {
     "name": "stderr",
     "output_type": "stream",
     "text": [
      "epoch: 20, loss: 0.0289, mean loss: 0.0297, :  40%|████      | 56862/142100 [13:01<2:01:26, 11.70it/s]"
     ]
    },
    {
     "name": "stdout",
     "output_type": "stream",
     "text": [
      "Validation mean loss: 0.0280, \n"
     ]
    },
    {
     "name": "stderr",
     "output_type": "stream",
     "text": [
      "epoch: 21, loss: 0.0243, mean loss: 0.0324, :  42%|████▏     | 59704/142100 [13:40<1:57:47, 11.66it/s]"
     ]
    },
    {
     "name": "stdout",
     "output_type": "stream",
     "text": [
      "Validation mean loss: 0.0277, \n"
     ]
    },
    {
     "name": "stderr",
     "output_type": "stream",
     "text": [
      "epoch: 22, loss: 0.0244, mean loss: 0.0313, :  44%|████▍     | 62546/142100 [14:19<1:55:24, 11.49it/s]"
     ]
    },
    {
     "name": "stdout",
     "output_type": "stream",
     "text": [
      "Validation mean loss: 0.0266, \n"
     ]
    },
    {
     "name": "stderr",
     "output_type": "stream",
     "text": [
      "epoch: 23, loss: 0.0206, mean loss: 0.0271, :  46%|████▌     | 65387/142100 [14:58<2:21:57,  9.01it/s]"
     ]
    },
    {
     "name": "stdout",
     "output_type": "stream",
     "text": [
      "Validation mean loss: 0.0264, \n"
     ]
    },
    {
     "name": "stderr",
     "output_type": "stream",
     "text": [
      "epoch: 24, loss: 0.0224, mean loss: 0.0283, :  48%|████▊     | 68230/142100 [15:37<1:46:24, 11.57it/s]"
     ]
    },
    {
     "name": "stdout",
     "output_type": "stream",
     "text": [
      "Validation mean loss: 0.0270, \n"
     ]
    },
    {
     "name": "stderr",
     "output_type": "stream",
     "text": [
      "epoch: 25, loss: 0.0208, mean loss: 0.0298, :  50%|█████     | 71072/142100 [16:16<1:41:51, 11.62it/s]"
     ]
    },
    {
     "name": "stdout",
     "output_type": "stream",
     "text": [
      "Validation mean loss: 0.0271, \n"
     ]
    },
    {
     "name": "stderr",
     "output_type": "stream",
     "text": [
      "epoch: 26, loss: 0.0219, mean loss: 0.0302, :  52%|█████▏    | 73914/142100 [16:55<1:38:15, 11.57it/s]"
     ]
    },
    {
     "name": "stdout",
     "output_type": "stream",
     "text": [
      "Validation mean loss: 0.0258, \n"
     ]
    },
    {
     "name": "stderr",
     "output_type": "stream",
     "text": [
      "epoch: 27, loss: 0.0281, mean loss: 0.0290, :  54%|█████▍    | 76755/142100 [17:34<1:33:13, 11.68it/s]"
     ]
    },
    {
     "name": "stdout",
     "output_type": "stream",
     "text": [
      "Validation mean loss: 0.0261, \n"
     ]
    },
    {
     "name": "stderr",
     "output_type": "stream",
     "text": [
      "epoch: 28, loss: 0.0268, mean loss: 0.0299, :  56%|█████▌    | 79599/142100 [18:13<1:29:57, 11.58it/s]"
     ]
    },
    {
     "name": "stdout",
     "output_type": "stream",
     "text": [
      "Validation mean loss: 0.0263, \n"
     ]
    },
    {
     "name": "stderr",
     "output_type": "stream",
     "text": [
      "epoch: 28, loss: 0.0252, mean loss: 0.0272, :   0%|          | 28/142100 [18:52<1595:34:24, 40.43s/it]"
     ]
    },
    {
     "name": "stdout",
     "output_type": "stream",
     "text": [
      "Validation mean loss: 0.0264, \n",
      "Early stopping\n"
     ]
    },
    {
     "name": "stderr",
     "output_type": "stream",
     "text": [
      "\n"
     ]
    },
    {
     "data": {
      "image/png": "[encoded data removed]",
      "text/plain": [
       "<Figure size 432x288 with 1 Axes>"
      ]
     },
     "metadata": {
      "needs_background": "light"
     },
     "output_type": "display_data"
    },
    {
     "name": "stdout",
     "output_type": "stream",
     "text": [
      "finished training\n",
      "saved the model\n"
     ]
    }
   ],
   "source": [
    "MT = ModelTrainer()\n",
    "MT.train_full_model()\n",
    "print(\"finished training\")\n",
    "torch.save(MT.strongest_model, model_path + \"pca_full_model\")\n",
    "model = torch.load(model_path + \"pca_full_model\")\n",
    "model.eval()\n",
    "print(\"saved the model\")"
   ]
  },
  {
   "cell_type": "code",
   "execution_count": null,
   "id": "bridal-kazakhstan",
   "metadata": {},
   "outputs": [],
   "source": [
    "# test model on the full test sample:\n",
    "# model = MT.strongest_model\n",
    "\n",
    "criterion1 = nn.L1Loss()\n",
    "criterion2 = nn.MSELoss()\n",
    "\n",
    "test_lossesMAE_t1 = 0.0\n",
    "test_lossesMSE_t1 = 0.0\n",
    "test_lossesMAE_t5 = 0.0\n",
    "test_lossesMSE_t5 = 0.0\n",
    "test_lossesMAE_t10 = 0.0\n",
    "test_lossesMSE_t10 = 0.0\n",
    "\n",
    "tactile_predictions = []\n",
    "tactile_groundtruth = []\n",
    "experiment_time_steps = []\n",
    "test_lossesMAE = 0.0\n",
    "test_lossesMSE = 0.0\n",
    "with torch.no_grad():\n",
    "    for index__, batch_features in enumerate(MT.test_full_loader):\n",
    "        # 2. Reshape data and send to device:\n",
    "        action = batch_features[0].permute(1,0,2).to(device)\n",
    "        tactile = batch_features[1].permute(1,0,2).to(device)\n",
    "\n",
    "        tp = model.forward(tactiles=tactile, actions=action)\n",
    "        experiment_time_steps.append([batch_features[2], batch_features[3]])\n",
    "        tactile_predictions.append(tp)  # Step 3. Run our forward pass.\n",
    "        tactile_groundtruth.append(tactile[context_frames:])\n",
    "        # calculate losses for specific timesteps\n",
    "        test_lossMAE_t1 = criterion1(tp[0,:,:].to(device), tactile[context_frames:][0,:,:])\n",
    "        test_lossesMAE_t1 += test_lossMAE_t1.item()\n",
    "        test_lossMSE_t1 = criterion2(tp[0,:,:].to(device), tactile[context_frames:][0,:,:])\n",
    "        test_lossesMSE_t1 += test_lossMSE_t1.item()\n",
    "        test_lossMAE_t5 = criterion1(tp[4,:,:].to(device), tactile[context_frames:][4,:,:])\n",
    "        test_lossesMAE_t5 += test_lossMAE_t5.item()\n",
    "        test_lossMSE_t5 = criterion2(tp[4,:,:].to(device), tactile[context_frames:][4,:,:])\n",
    "        test_lossesMSE_t5 += test_lossMSE_t5.item()\n",
    "        test_lossMAE_t10 = criterion1(tp[5,:,:].to(device), tactile[context_frames:][5,:,:])\n",
    "        test_lossesMAE_t10 += test_lossMAE_t10.item()\n",
    "        test_lossMSE_t10 = criterion2(tp[5,:,:].to(device), tactile[context_frames:][5,:,:])\n",
    "        test_lossesMSE_t10 += test_lossMSE_t10.item()\n",
    "\n",
    "#         # calculate losses for specific forces\n",
    "#         test_lossMAE_x = criterion1(tp[:,:,:16].to(device), tactile[context_frames:][:,:,:16])\n",
    "#         test_lossesMAE_x += test_lossMAE_x.item() \n",
    "#         test_lossMSE_x = criterion2(tp[:,:,:16].to(device), tactile[context_frames:][:,:,:16])\n",
    "#         test_lossesMSE_x += test_lossMSE_x.item() \n",
    "#         test_lossMAE_y = criterion1(tp[:,:,17:32].to(device), tactile[context_frames:][:,:,17:32])\n",
    "#         test_lossesMAE_y += test_lossMAE_y.item() \n",
    "#         test_lossMSE_y = criterion2(tp[:,:,17:32].to(device), tactile[context_frames:][:,:,17:32])\n",
    "#         test_lossesMSE_y += test_lossMSE_y.item() \n",
    "#         test_lossMAE_z = criterion1(tp[:,:,33:48].to(device), tactile[context_frames:][:,:,33:48])\n",
    "#         test_lossesMAE_z += test_lossMAE_z.item() \n",
    "#         test_lossMSE_z = criterion2(tp[:,:,33:48].to(device), tactile[context_frames:][:,:,33:48])\n",
    "#         test_lossesMSE_z += test_lossMSE_z.item() \n",
    "\n",
    "#         # calculate losses for specific timesteps and forces \n",
    "#         test_lossMAE_x_ts1 = criterion1(tp[0,:,:16].to(device), tactile[context_frames:][0,:,:16])\n",
    "#         test_lossesMAE_x_ts1 += test_lossMAE_x_ts1.item() \n",
    "#         test_lossMSE_x_ts1 = criterion2(tp[0,:,:16].to(device), tactile[context_frames:][0,:,:16])\n",
    "#         test_lossesMSE_x_ts1 += test_lossMSE_x_ts1.item() \n",
    "#         test_lossMAE_y_ts1 = criterion1(tp[0,:,17:32].to(device), tactile[context_frames:][0,:,17:32])\n",
    "#         test_lossesMAE_y_ts1 += test_lossMAE_y_ts1.item() \n",
    "#         test_lossMSE_y_ts1 = criterion2(tp[0,:,17:32].to(device), tactile[context_frames:][0,:,17:32])\n",
    "#         test_lossesMSE_y_ts1 += test_lossMSE_y_ts1.item() \n",
    "#         test_lossMAE_z_ts1 = criterion1(tp[0,:,33:48].to(device), tactile[context_frames:][0,:,33:48])\n",
    "#         test_lossesMAE_z_ts1 += test_lossMAE_z_ts1.item() \n",
    "#         test_lossMSE_z_ts1 = criterion2(tp[0,:,33:48].to(device), tactile[context_frames:][0,:,33:48])\n",
    "#         test_lossesMSE_z_ts1 += test_lossMSE_z_ts1.item() \n",
    " \n",
    "#         test_lossMAE_x_ts5 = criterion1(tp[4,:,:16].to(device), tactile[context_frames:][4,:,:16])\n",
    "#         test_lossesMAE_x_ts5 += test_lossMAE_x_ts5.item() \n",
    "#         test_lossMSE_x_ts5 = criterion2(tp[4,:,:16].to(device), tactile[context_frames:][4,:,:16])\n",
    "#         test_lossesMSE_x_ts5 += test_lossMSE_x_ts5.item() \n",
    "#         test_lossMAE_y_ts5 = criterion1(tp[4,:,17:32].to(device), tactile[context_frames:][4,:,17:32])\n",
    "#         test_lossesMAE_y_ts5 += test_lossMAE_y_ts5.item() \n",
    "#         test_lossMSE_y_ts5 = criterion2(tp[4,:,17:32].to(device), tactile[context_frames:][4,:,17:32])\n",
    "#         test_lossesMSE_y_ts5 += test_lossMSE_y_ts5.item() \n",
    "#         test_lossMAE_z_ts5 = criterion1(tp[4,:,33:48].to(device), tactile[context_frames:][4,:,33:48])\n",
    "#         test_lossesMAE_z_ts5 += test_lossMAE_z_ts5.item() \n",
    "#         test_lossMSE_z_ts5 = criterion2(tp[4,:,33:48].to(device), tactile[context_frames:][4,:,33:48])\n",
    "#         test_lossesMSE_z_ts5 += test_lossMSE_z_ts5.item() \n",
    "\n",
    "#         test_lossMAE_x_ts10 = criterion1(tp[5,:,:16].to(device), tactile[context_frames:][5,:,:16])\n",
    "#         test_lossesMAE_x_ts10 += test_lossMAE_x_ts10.item() \n",
    "#         test_lossMSE_x_ts10 = criterion2(tp[5,:,:16].to(device), tactile[context_frames:][5,:,:16])\n",
    "#         test_lossesMSE_x_ts10 += test_lossMSE_x_ts10.item() \n",
    "#         test_lossMAE_y_ts10 = criterion1(tp[5,:,17:32].to(device), tactile[context_frames:][5,:,17:32])\n",
    "#         test_lossesMAE_y_ts10 += test_lossMAE_y_ts10.item() \n",
    "#         test_lossMSE_y_ts10 = criterion2(tp[5,:,17:32].to(device), tactile[context_frames:][5,:,17:32])\n",
    "#         test_lossesMSE_y_ts10 += test_lossMSE_y_ts10.item() \n",
    "#         test_lossMAE_z_ts10 = criterion1(tp[5,:,33:48].to(device), tactile[context_frames:][5,:,33:48])\n",
    "#         test_lossesMAE_z_ts10 += test_lossMAE_z_ts10.item() \n",
    "#         test_lossMSE_z_ts10 = criterion2(tp[5,:,33:48].to(device), tactile[context_frames:][5,:,33:48])\n",
    "#         test_lossesMSE_z_ts10 += test_lossMSE_z_ts10.item()\n",
    "\n",
    "performance_data = []\n",
    "\n",
    "performance_data.append([\"test loss MAE(L1): \", (test_lossesMAE / index__)])\n",
    "performance_data.append([\"test loss MSE: \", (test_lossesMSE / index__)])\n",
    "performance_data.append([\"test loss MAE(L1) timestep 1: \", (test_lossesMAE_t1 / index__)])\n",
    "performance_data.append([\"test loss MSE timestep 1: \", (test_lossesMSE_t1 / index__)])\n",
    "performance_data.append([\"test loss MAE(L1) timestep 5: \", (test_lossesMAE_t5 / index__)])\n",
    "performance_data.append([\"test loss MSE timestep 5: \", (test_lossesMSE_t5 / index__)])\n",
    "performance_data.append([\"test loss MAE(L1) timestep 6: \", (test_lossesMAE_t10 / index__)])\n",
    "performance_data.append([\"test loss MSE timestep 6: \", (test_lossesMSE_t10 / index__)])\n",
    "\n",
    "\n",
    "# performance_data.append([\"test loss MAE(L1): \", (test_lossesMAE / index__)])\n",
    "# performance_data.append([\"test loss MSE: \", (test_lossesMSE / index__)])\n",
    "# performance_data.append([\"test loss MAE(L1) timestep 1: \", (test_lossesMAE_x / index__)])\n",
    "# performance_data.append([\"test loss MSE timestep 1: \", (test_lossesMSE_x / index__)])\n",
    "# performance_data.append([\"test loss MAE(L1) timestep 5: \", (test_lossesMAE_y / index__)])\n",
    "# performance_data.append([\"test loss MSE timestep 5: \", (test_lossesMSE_y / index__)])\n",
    "# performance_data.append([\"test loss MAE(L1) timestep 6: \", (test_lossesMAE_z / index__)])\n",
    "# performance_data.append([\"test loss MSE timestep 6: \", (test_lossesMSE_z / index__)])\n",
    "# performance_data.append([\"sheer x test loss MAE(L1): \", (test_lossesMAE_x / index__)])\n",
    "# performance_data.append([\"sheer x test loss MSE: \", (test_lossesMSE_x / index__)])\n",
    "# performance_data.append([\"sheer y test loss MAE(L1): \", (test_lossesMAE_y / index__)])\n",
    "# performance_data.append([\"sheer y test loss MSE: \", (test_lossesMSE_y / index__)])\n",
    "# performance_data.append([\"z test loss MAE(L1): \", (test_lossesMAE_z / index__)])\n",
    "# performance_data.append([\"z test loss MSE: \", (test_lossesMSE_z / index__)])\n",
    "# performance_data.append([\"sheer x test loss MAE(L1) timestep 1: \", (test_lossesMAE_x_ts1 / index__)])\n",
    "# performance_data.append([\"sheer x test loss MSE timestep 1: \", (test_lossesMSE_x_ts1 / index__)])\n",
    "# performance_data.append([\"sheer y test loss MAE(L1) timestep 1: \", (test_lossesMAE_y_ts1 / index__)])\n",
    "# performance_data.append([\"sheer y test loss MSE timestep 1: \", (test_lossesMSE_y_ts1 / index__)])\n",
    "# performance_data.append([\"z test loss MAE(L1) timestep 1: \", (test_lossesMAE_z_ts1 / index__)])\n",
    "# performance_data.append([\"z test loss MSE timestep 1: \", (test_lossesMSE_z_ts1 / index__)])\n",
    "# performance_data.append([\"sheer x test loss MAE(L1) timestep 5: \", (test_lossesMAE_x_ts5 / index__)])\n",
    "# performance_data.append([\"sheer x test loss MSE timestep 5: \", (test_lossesMSE_x_ts5 / index__)])\n",
    "# performance_data.append([\"sheer y test loss MAE(L1) timestep 5: \", (test_lossesMAE_y_ts5 / index__)])\n",
    "# performance_data.append([\"sheer y test loss MSE timestep 5: \", (test_lossesMSE_y_ts5 / index__)])\n",
    "# performance_data.append([\"z test loss MAE(L1) timestep 5: \", (test_lossesMAE_z_ts5 / index__)])\n",
    "# performance_data.append([\"z test loss MSE timestep 5: \", (test_lossesMSE_z_ts5 / index__)])\n",
    "# performance_data.append([\"sheer x test loss MAE(L1) timestep 6: \", (test_lossesMAE_x_ts10 / index__)])\n",
    "# performance_data.append([\"sheer x test loss MSE timestep 6: \", (test_lossesMSE_x_ts10 / index__)])\n",
    "# performance_data.append([\"sheer y test loss MAE(L1) timestep 6: \", (test_lossesMAE_y_ts10 / index__)])\n",
    "# performance_data.append([\"sheer y test loss MSE timestep 6: \", (test_lossesMSE_y_ts10 / index__)])\n",
    "# performance_data.append([\"z test loss MAE(L1) timestep 6: \", (test_lossesMAE_z_ts10 / index__)])\n",
    "# performance_data.append([\"z test loss MSE timestep 6: \", (test_lossesMSE_z_ts10 / index__)])\n",
    "[print(i) for i in performance_data]\n",
    "\n",
    "np.save(model_path + 'pca_performance_data', np.asarray(performance_data))\n",
    "\n",
    "# calculate tactile values for full sample:\n",
    "time_step_to_test_t1 = 0    # [batch_set, prediction frames(t1->tx)(6), batch_size, features(48)]\n",
    "time_step_to_test_t9 = 5\n",
    "predicted_data_t1 = []\n",
    "predicted_data_t9 = []\n",
    "groundtruth_data = []\n",
    "for index, batch_set in enumerate(tactile_predictions):\n",
    "    for batch in range(0, len(batch_set[0])):\n",
    "        prediction_values = batch_set[time_step_to_test_t1][batch]\n",
    "        predicted_data_t1.append(prediction_values)\n",
    "        prediction_values = batch_set[time_step_to_test_t9][batch]\n",
    "        predicted_data_t9.append(prediction_values)\n",
    "        gt_values = tactile_groundtruth[index][time_step_to_test_t1][batch]\n",
    "        groundtruth_data.append(gt_values)  \n",
    "print(\"done\")"
   ]
  },
  {
   "cell_type": "code",
   "execution_count": null,
   "id": "amateur-boating",
   "metadata": {},
   "outputs": [],
   "source": [
    "print(predicted_data_t1[100])\n",
    "print(groundtruth_data[100])"
   ]
  },
  {
   "cell_type": "code",
   "execution_count": null,
   "id": "accredited-endorsement",
   "metadata": {},
   "outputs": [],
   "source": [
    "# calculate tactile values for full sample:\n",
    "time_step_to_test_t1 = 0    # [batch_set, prediction frames(t1->tx)(6), batch_size, features(48)]\n",
    "time_step_to_test_t5 = 4\n",
    "time_step_to_test_t9 = 9\n",
    "predicted_data_t1 = []\n",
    "predicted_data_t5 = []\n",
    "predicted_data_t9 = []\n",
    "groundtruth_data = []\n",
    "experiment_to_test = 106\n",
    "for index, batch_set in enumerate(tactile_predictions):\n",
    "    for batch in range(0, len(batch_set[0])):\n",
    "        experiment = experiment_time_steps[index][0][batch]\n",
    "        if experiment == experiment_to_test:\n",
    "            prediction_values = batch_set[time_step_to_test_t1][batch]\n",
    "            predicted_data_t1.append(prediction_values)\n",
    "            prediction_values = batch_set[time_step_to_test_t5][batch]\n",
    "            predicted_data_t5.append(prediction_values)\n",
    "            prediction_values = batch_set[time_step_to_test_t9][batch]\n",
    "            predicted_data_t9.append(prediction_values)\n",
    "            gt_values = tactile_groundtruth[index][time_step_to_test_t1][batch]\n",
    "            groundtruth_data.append(gt_values)\n",
    "\n",
    "# print(tactile_predictions[0])\n",
    "# plt.plot([i for i in range(len(tactile_predictions[0]))], [i for i in range(len(tactile_predictions[0]))])\n",
    "plt.show()        \n",
    "mse_loss = torch.nn.MSELoss()\n",
    "# print(\"MAE timestep + 1: \", np.mean(np.asarray([mse_loss(np.asarray(pred.cpu().detach()), np.asarray(gt.cpu().detach()))  for pred, gt in zip(predicted_data_t1, groundtruth_data)])))\n",
    "# print(\"MAE timestep + 5: \", mse_loss(torch.tensor(predicted_data_t5), torch.tensor(groundtruth_data)))\n",
    "# print(\"MAE timestep + 9: \", mse_loss(torch.tensor(predicted_data_t9), torch.tensor(groundtruth_data)))\n",
    "\n",
    "# test data\n",
    "index = 0\n",
    "titles = [\"sheerx\", \"sheery\", \"normal\"]\n",
    "for j in range(3):\n",
    "    for i in range(16):\n",
    "        groundtruth_taxle = []\n",
    "        predicted_taxel = []\n",
    "        predicted_taxel_t1 = []\n",
    "        predicted_taxel_t5 = []\n",
    "        predicted_taxel_t9 = []\n",
    "        # good = 140, 145 (lifting up the )\n",
    "        for k in range(len(predicted_data_t1)):#310, 325):#len(predicted_data_t1)):  # add in length of context data\n",
    "            predicted_taxel_t1.append(predicted_data_t1[k][j+i].cpu().detach().numpy())\n",
    "            predicted_taxel_t5.append(predicted_data_t5[k][j+i].cpu().detach().numpy())\n",
    "            predicted_taxel_t9.append(predicted_data_t9[k][j+i].cpu().detach().numpy())\n",
    "            groundtruth_taxle.append(groundtruth_data[k][j+i].cpu().detach().numpy())\n",
    "\n",
    "        index += 1\n",
    "        fig, ax1 = plt.subplots()\n",
    "        ax1.set_xlabel('time step')\n",
    "        ax1.set_ylabel('tactile reading')\n",
    "        ax1.plot(predicted_taxel_t1, alpha=0.5, c=\"b\", label=\"t1\")\n",
    "        ax1.plot(predicted_taxel_t5, alpha=0.5, c=\"k\", label=\"t5\")\n",
    "        ax1.plot(predicted_taxel_t9, alpha=0.5, c=\"g\", label=\"t10\")\n",
    "        ax1.plot(groundtruth_taxle, alpha=0.5, c=\"r\", label=\"gt\")\n",
    "        ax1.tick_params(axis='y')\n",
    "        ax2 = ax1.twinx()  # instantiate a second axes that shares the same x-axis\n",
    "        ax2.set_ylabel('loss')  # we already handled the x-label with ax1\n",
    "        ax2.plot([i for i in range(len(groundtruth_data))], [mse_loss(predicted_data_t9[i], groundtruth_data[i]) for i in range(len(groundtruth_data))], alpha=0.5)\n",
    "        fig.tight_layout()  # otherwise the right y-label is slightly clipped\n",
    "        fig.subplots_adjust(top=0.90)\n",
    "        ax1.legend(loc=\"upper right\")\n",
    "        plt.title(\"Simple_LSTM tactile \" + str(index))\n",
    "        plt.savefig(model_path + '/' + str(experiment_to_test) + '/pp_sample_test_with_loss_' + str(index) + '.png', dpi=300)\n",
    "        plt.show()\n",
    "\n",
    "        fig, ax1 = plt.subplots()\n",
    "        ax1.set_xlabel('time step')\n",
    "        ax1.set_ylabel('tactile reading')\n",
    "        ax1.plot(predicted_taxel_t1, alpha=0.5, c=\"b\", label=\"t1\")\n",
    "        ax1.plot(groundtruth_taxle, alpha=0.5, c=\"r\", label=\"gt\")\n",
    "        ax1.tick_params(axis='y')\n",
    "        ax2 = ax1.twinx()  # instantiate a second axes that shares the same x-axis\n",
    "        ax2.set_ylabel('loss')  # we already handled the x-label with ax1\n",
    "        ax2.plot([i for i in range(len(groundtruth_data))], [mse_loss(predicted_data_t9[i], groundtruth_data[i]) for i in range(len(groundtruth_data))], alpha=0.5)\n",
    "        fig.tight_layout()  # otherwise the right y-label is slightly clipped\n",
    "        fig.subplots_adjust(top=0.90)\n",
    "        ax1.legend(loc=\"upper right\")\n",
    "        plt.title(\"Simple_LSTM tactile \" + str(index))\n",
    "        plt.savefig(model_path + '/' + str(experiment_to_test) + '/pp_T0sample_test_with_loss_' + str(index) + '.png', dpi=300)\n",
    "        plt.show()\n",
    "        \n",
    "        fig, ax1 = plt.subplots()\n",
    "        ax1.set_xlabel('time step')\n",
    "        ax1.set_ylabel('tactile reading')\n",
    "        ax1.plot(predicted_taxel_t5, alpha=0.5, c=\"b\", label=\"t5\")\n",
    "        ax1.plot(groundtruth_taxle, alpha=0.5, c=\"r\", label=\"gt\")\n",
    "        ax1.tick_params(axis='y')\n",
    "        ax2 = ax1.twinx()  # instantiate a second axes that shares the same x-axis\n",
    "        ax2.set_ylabel('loss')  # we already handled the x-label with ax1\n",
    "        ax2.plot([i for i in range(len(groundtruth_data))], [mse_loss(predicted_data_t9[i], groundtruth_data[i]) for i in range(len(groundtruth_data))], alpha=0.5)\n",
    "        fig.tight_layout()  # otherwise the right y-label is slightly clipped\n",
    "        fig.subplots_adjust(top=0.90)\n",
    "        ax1.legend(loc=\"upper right\")\n",
    "        plt.title(\"Simple_LSTM tactile \" + str(index))\n",
    "        plt.savefig(model_path + '/' + str(experiment_to_test) + '/pp_T5sample_test_with_loss_' + str(index) + '.png', dpi=300)\n",
    "        plt.show()\n",
    "\n",
    "        fig, ax1 = plt.subplots()\n",
    "        ax1.set_xlabel('time step')\n",
    "        ax1.set_ylabel('tactile reading')\n",
    "        ax1.plot(predicted_taxel_t9, alpha=0.5, c=\"b\", label=\"t10\")\n",
    "        ax1.plot(groundtruth_taxle, alpha=0.5, c=\"r\", label=\"gt\")\n",
    "        ax1.tick_params(axis='y')\n",
    "        ax2 = ax1.twinx()  # instantiate a second axes that shares the same x-axis\n",
    "        ax2.set_ylabel('loss')  # we already handled the x-label with ax1\n",
    "        ax2.plot([i for i in range(len(groundtruth_data))], [mse_loss(predicted_data_t9[i], groundtruth_data[i]) for i in range(len(groundtruth_data))], alpha=0.5)\n",
    "        fig.tight_layout()  # otherwise the right y-label is slightly clipped\n",
    "        fig.subplots_adjust(top=0.90)\n",
    "        ax1.legend(loc=\"upper right\")\n",
    "        plt.title(\"Simple_LSTM tactile \" + str(index))\n",
    "        plt.savefig(model_path + '/' + str(experiment_to_test) + '/pp_T10sample_test_with_loss_' + str(index) + '.png', dpi=300)\n",
    "        plt.show()\n",
    "    \n",
    "#         plt.plot(predicted_taxel_t1, alpha=0.5, c=\"b\", label=\"t0\")\n",
    "#         plt.plot(predicted_taxel_t5, alpha=0.5, c=\"k\", label=\"t5\")\n",
    "#         plt.plot(predicted_taxel_t9, alpha=0.5, c=\"g\", label=\"t9\")\n",
    "#         plt.plot(groundtruth_taxle, alpha=0.5, c=\"r\", label=\"gt\")\n",
    "#         plt.ylim([0, 1])\n",
    "#         plt.grid()\n",
    "#         plt.legend(loc=\"upper right\")\n",
    "#         plt.savefig('/home/user/Pictures/simple_model_001/simple_model_test_sample_' + str(index) + '.png')\n",
    "#         plt.show()\n",
    "    "
   ]
  }
 ],
 "metadata": {
  "kernelspec": {
   "display_name": "venv",
   "language": "python",
   "name": "venv"
  },
  "language_info": {
   "codemirror_mode": {
    "name": "ipython",
    "version": 3
   },
   "file_extension": ".py",
   "mimetype": "text/x-python",
   "name": "python",
   "nbconvert_exporter": "python",
   "pygments_lexer": "ipython3",
   "version": "3.6.9"
  }
 },
 "nbformat": 4,
 "nbformat_minor": 5
}
